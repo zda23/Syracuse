{
 "cells": [
  {
   "cell_type": "code",
   "execution_count": 6,
   "id": "6a0efccd",
   "metadata": {},
   "outputs": [],
   "source": [
    "def top_words(word_freq, threshold):\n",
    "\n",
    "    words = []\n",
    "\n",
    "    for key in word_freq.keys():\n",
    "\n",
    "        if word_freq[key] > threshold:\n",
    "\n",
    "            words.append(key)\n",
    "\n",
    "    return words"
   ]
  },
  {
   "cell_type": "code",
   "execution_count": 7,
   "id": "94414b3b",
   "metadata": {},
   "outputs": [],
   "source": [
    "word_freq = {'the':58, 'people':6, 'beautiful':8, 'cats':13, 'finally':9, 'this': 19, 'class': 21, 'is': 101, 'almost': 1, 'over':4}"
   ]
  },
  {
   "cell_type": "code",
   "execution_count": 11,
   "id": "85c06642",
   "metadata": {},
   "outputs": [
    {
     "name": "stdout",
     "output_type": "stream",
     "text": [
      "['the', 'people', 'beautiful', 'cats', 'finally', 'this', 'class', 'is']\n",
      "['the', 'is']\n",
      "['is']\n"
     ]
    }
   ],
   "source": [
    "print(top_words(word_freq, 5))\n",
    "\n",
    "print(top_words(word_freq, 35))\n",
    "\n",
    "print(top_words(word_freq, 95))"
   ]
  }
 ],
 "metadata": {
  "kernelspec": {
   "display_name": "Python 3 (ipykernel)",
   "language": "python",
   "name": "python3"
  },
  "language_info": {
   "codemirror_mode": {
    "name": "ipython",
    "version": 3
   },
   "file_extension": ".py",
   "mimetype": "text/x-python",
   "name": "python",
   "nbconvert_exporter": "python",
   "pygments_lexer": "ipython3",
   "version": "3.9.7"
  }
 },
 "nbformat": 4,
 "nbformat_minor": 5
}
