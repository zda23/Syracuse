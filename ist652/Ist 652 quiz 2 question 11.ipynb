{
 "cells": [
  {
   "cell_type": "code",
   "execution_count": 25,
   "id": "1361ce27",
   "metadata": {},
   "outputs": [],
   "source": [
    "import csv\n",
    "import numpy as np\n",
    "import pandas as pd\n",
    "\n",
    "infile = 'eur.pop.rev.csv'"
   ]
  },
  {
   "cell_type": "code",
   "execution_count": 69,
   "id": "0039c547",
   "metadata": {},
   "outputs": [],
   "source": [
    "data = pd.read_csv(infile, skiprows = [0,1,2])"
   ]
  },
  {
   "cell_type": "code",
   "execution_count": 70,
   "id": "d4692acc",
   "metadata": {},
   "outputs": [
    {
     "name": "stdout",
     "output_type": "stream",
     "text": [
      "                                 Country         1989         1990  \\\n",
      "0                                Belgium    9927600.0    9947800.0   \n",
      "1                                Denmark    5129800.0    5135400.0   \n",
      "2                                Finland    4954359.0    4974383.0   \n",
      "3                                 France   56269800.0          0.0   \n",
      "4                                Germany   61715000.0   62678000.0   \n",
      "5                                Iceland     253500.0     255708.0   \n",
      "6                                Ireland    3526600.0    3505500.0   \n",
      "7                                  Italy   57504700.0   57576400.0   \n",
      "8                              Luxemburg     374900.0     379300.0   \n",
      "9                             Netherland   14805240.0   14892574.0   \n",
      "10                                Norway    4226901.0    4241473.0   \n",
      "11                              Portugal   10304700.0          0.0   \n",
      "12                                 Spain   38851900.0   38924500.0   \n",
      "13                                Sweden    8458890.0    8527040.0   \n",
      "14                           Switzerland    6619973.0    6673850.0   \n",
      "15                        United Kingdom   57236200.0   57410600.0   \n",
      "16                                     0          0.0          0.0   \n",
      "17                          Total Europe  325665440.0  326962674.0   \n",
      "18                                     0          0.0          0.0   \n",
      "19  Sources: Eurostat, national agencies          0.0          0.0   \n",
      "\n",
      "           1991         1992         1993         1994         1995  \n",
      "0     9987000.0   10068319.0   10100631.0   10130574.0   10143047.0  \n",
      "1     5146500.0    5162100.0    5180614.0    5191000.0    5251027.0  \n",
      "2     4998478.0    5029300.0    5054982.0    5098754.0    5116800.0  \n",
      "3    56893000.0   57217500.0   57529577.0   57847000.0   58265400.0  \n",
      "4    79753000.0   80238000.0   81338000.0   81353000.0   81845000.0  \n",
      "5      259577.0     262193.0     264922.0     266783.0     267806.0  \n",
      "6     3519000.0    3542000.0    3559985.0    3570700.0    3591200.0  \n",
      "7    57746200.0   57788200.0   57114161.0   57201800.0   57268578.0  \n",
      "8      384400.0     389800.0     395200.0     400000.0     412800.0  \n",
      "9    15010445.0   15129200.0   15354000.0   15341553.0   15492800.0  \n",
      "10    4261930.0    4273634.0    4324577.0    4348410.0    4370000.0  \n",
      "11    9858500.0    9846000.0    9987500.0    9776000.0    9920800.0  \n",
      "12   38993800.0   39055900.0   39790955.0   39177400.0   39241900.0  \n",
      "13    8590630.0    8644100.0    8700000.0    8749000.0    8837000.0  \n",
      "14    6750693.0    6831900.0    6871500.0    7021200.0    7060400.0  \n",
      "15   57649200.0   58888800.0   58191230.0   58380000.0   58684000.0  \n",
      "16          0.0          0.0          0.0          0.0          0.0  \n",
      "17  345061045.0  347604719.0  348887853.0  348540020.0  372599752.0  \n",
      "18          0.0          0.0          0.0          0.0          0.0  \n",
      "19          0.0          0.0          0.0          0.0          0.0  \n"
     ]
    }
   ],
   "source": [
    "data = data.fillna(0)\n",
    "data.columns = ['Country','1989','1990','1991','1992','1993','1994','1995']\n",
    "print(data)"
   ]
  },
  {
   "cell_type": "code",
   "execution_count": 71,
   "id": "ebafddd5",
   "metadata": {},
   "outputs": [
    {
     "name": "stdout",
     "output_type": "stream",
     "text": [
      "\n",
      "Missing Data has been filled with 0\n"
     ]
    }
   ],
   "source": [
    "data = data.fillna(0)\n",
    "whole_population = data\n",
    "print('\\nMissing Data has been filled with 0')"
   ]
  },
  {
   "cell_type": "code",
   "execution_count": 72,
   "id": "3118d0d4",
   "metadata": {},
   "outputs": [
    {
     "name": "stdout",
     "output_type": "stream",
     "text": [
      "\n",
      "Countries with 1000000 people in 1995 are: \n",
      "Belgium\n",
      "Denmark\n",
      "Finland\n",
      "France\n",
      "Germany\n",
      "Ireland\n",
      "Italy\n",
      "Netherland\n",
      "Norway\n",
      "Portugal\n",
      "Spain\n",
      "Sweden\n",
      "Switzerland\n",
      "United Kingdom\n",
      "Total Europe\n"
     ]
    }
   ],
   "source": [
    "print(\"\\nCountries with 1000000 people in 1995 are: \");\n",
    "for d in range(len(data)):\n",
    "    if (data.loc[d,\"1995\"]) > 1000000:\n",
    "         print(data.loc[d,\"Country\"])"
   ]
  },
  {
   "cell_type": "code",
   "execution_count": 85,
   "id": "112ed08d",
   "metadata": {},
   "outputs": [
    {
     "name": "stdout",
     "output_type": "stream",
     "text": [
      "\n",
      "The average population in the UK over those seven years : 58062861.428571425\n"
     ]
    }
   ],
   "source": [
    "data['Mean'] = data.mean(axis=1)\n",
    "ave_value = data.loc['United Kingdom']['Mean']\n",
    "print(\"\\nThe average population in the UK over those seven years : \"+str(ave_value))"
   ]
  },
  {
   "cell_type": "code",
   "execution_count": null,
   "id": "78066993",
   "metadata": {},
   "outputs": [],
   "source": []
  }
 ],
 "metadata": {
  "kernelspec": {
   "display_name": "Python 3 (ipykernel)",
   "language": "python",
   "name": "python3"
  },
  "language_info": {
   "codemirror_mode": {
    "name": "ipython",
    "version": 3
   },
   "file_extension": ".py",
   "mimetype": "text/x-python",
   "name": "python",
   "nbconvert_exporter": "python",
   "pygments_lexer": "ipython3",
   "version": "3.9.7"
  }
 },
 "nbformat": 4,
 "nbformat_minor": 5
}
