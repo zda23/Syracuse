{
 "cells": [
  {
   "cell_type": "code",
   "execution_count": 98,
   "id": "2d718a0f",
   "metadata": {},
   "outputs": [],
   "source": [
    "#I had to create a path for pymongo because Jupyter was claiming it wasn't being found in the directory\n",
    "import sys\n",
    "sys.path.append(\"/Library/Frameworks/Python.framework/Versions/3.11/lib/python3.11/site-packages\")\n",
    "\n",
    "import os\n",
    "import json\n",
    "import pymongo\n",
    "import pandas as pd\n",
    "import matplotlib.pyplot as plt\n",
    "import re\n",
    "import numpy as np"
   ]
  },
  {
   "cell_type": "code",
   "execution_count": 99,
   "id": "56a968ec",
   "metadata": {},
   "outputs": [],
   "source": [
    "#This function reads the file into a json file\n",
    "def get_fantasy(folder_name):\n",
    "    stats = {}\n",
    "    \n",
    "    for filename in os.listdir(folder_name):\n",
    "        with open(os.path.join(folder_name, filename), 'r') as f: \n",
    "            content = f.read() # open in readonly mode\n",
    "            content = re.sub('\\$','',content)\n",
    "            content_json = json.loads(content)\n",
    "            filename = filename.replace('.json', '')\n",
    "            content_json2 = {}\n",
    "            #content_json2[filename] = content_json\n",
    "            stats = content_json\n",
    "    return stats"
   ]
  },
  {
   "cell_type": "code",
   "execution_count": 100,
   "id": "5e171c51",
   "metadata": {},
   "outputs": [],
   "source": [
    "#This saves the file into a mongo database\n",
    "def save_fantasy(stats, database_name, collection_name, host_name, host_port):  \n",
    "    try:\n",
    "        client = pymongo.MongoClient(host_name, host_port)\n",
    "        print (\"Connected successfully!!!\")\n",
    "    except e:\n",
    "        print (\"Could not connect to MongoDB: %s\" % e )\n",
    "    else:\n",
    "        client.drop_database(database_name)\n",
    "\n",
    "        # use database named usgs or create it if not there already\n",
    "        stats_db = client[database_name]\n",
    "            # create collection named earthquakes or create it if not there already\n",
    "        stats_coll = stats_db[collection_name]\n",
    "            # add all the earthquakes to the list\n",
    "        stats_coll.insert_many(stats)\n",
    "        print(f\"Added {len(stats)} stats to collection {collection_name}\")\n",
    "        # close the database connection\n",
    "        client.close()"
   ]
  },
  {
   "cell_type": "code",
   "execution_count": 101,
   "id": "06447038",
   "metadata": {},
   "outputs": [],
   "source": [
    "#This function loads the mongodb file into a pandas dataframe for easy use\n",
    "def load_stats(database_name, collection_name, host_name, host_port):  \n",
    "    try:\n",
    "        client = pymongo.MongoClient(host_name, host_port)\n",
    "        print (\"Connected successfully!!!\")\n",
    "    except e:\n",
    "        print (\"Could not connect to MongoDB: %s\" % e )\n",
    "    else:\n",
    "\n",
    "        # use database named usgs or create it if not there already\n",
    "        fantasy_db = client[database_name]\n",
    "            # create collection named earthquakes or create it if not there already\n",
    "        fantasy_coll = fantasy_db[collection_name]\n",
    "        \n",
    "        stats_list = {}\n",
    "        for doc in fantasy_coll.find():\n",
    "            ID = doc['_id']\n",
    "            year = doc['Year']\n",
    "            name = doc['name']\n",
    "            position = doc['position']\n",
    "            team = doc['team']\n",
    "            adp = doc['adp']\n",
    "            player_id = doc['PlayerID']\n",
    "            age = doc['Age']\n",
    "            att = doc['Att']\n",
    "            cmp = doc['Cmp']\n",
    "            FL = doc['FL']\n",
    "            Fmb = doc['Fmb']\n",
    "            G = doc['G']\n",
    "            GS = doc['GS']\n",
    "            Int = doc['Int']\n",
    "            PosRk = doc['PosRk']\n",
    "            PPR = doc['PPR']\n",
    "            Rec = doc['Rec']\n",
    "            RecTD = doc['RecTD']\n",
    "            RecYds = doc['RecYds']\n",
    "            Rk = doc['Rk']\n",
    "            RushAtt = doc['RushAtt']\n",
    "            RushTD = doc['RushTD']\n",
    "            RushYds = doc['RushYds']\n",
    "            TD = doc['TD']\n",
    "            tgt = doc['Tgt']\n",
    "            YA = doc['YA']\n",
    "            Yds = doc['Yds']\n",
    "            YR = doc['YR']\n",
    "            stats_list[ID['oid']] = ([ID['oid'], year, name, position, team, adp, player_id, age, att, cmp, FL, Fmb, G, GS, Int, PosRk, PPR, Rec, RecTD, RecYds, Rk, RushAtt, RushTD, RushYds, TD, tgt, YA, Yds, YR])\n",
    "        client.close()\n",
    "        \n",
    "        df = pd.DataFrame(stats_list.values(), columns=['_id', 'year', 'name', 'position', 'team', 'adp', 'PlayerID', 'Age', 'Att', 'Cmp', 'FL', 'Fmb', 'G', 'GS', 'Int', 'PosRk', 'PPR', 'Rec', 'RecTD', 'RecYds', 'Rk', 'RushAtt', 'RushTD', 'RushYds', 'TD', 'Tgt', 'YA', 'Yds', 'YR'])\n",
    "        return df"
   ]
  },
  {
   "cell_type": "code",
   "execution_count": 102,
   "id": "d2d3bf87",
   "metadata": {},
   "outputs": [
    {
     "ename": "JSONDecodeError",
     "evalue": "Expecting value: line 1 column 1 (char 0)",
     "output_type": "error",
     "traceback": [
      "\u001b[0;31m---------------------------------------------------------------------------\u001b[0m",
      "\u001b[0;31mJSONDecodeError\u001b[0m                           Traceback (most recent call last)",
      "\u001b[0;32m/var/folders/3q/shvmw9xs58x3cfkdnl94yrkr0000gn/T/ipykernel_33970/238710047.py\u001b[0m in \u001b[0;36m<module>\u001b[0;34m\u001b[0m\n\u001b[1;32m      4\u001b[0m \u001b[0mhost_name\u001b[0m \u001b[0;34m=\u001b[0m \u001b[0;34m'localhost'\u001b[0m\u001b[0;34m\u001b[0m\u001b[0;34m\u001b[0m\u001b[0m\n\u001b[1;32m      5\u001b[0m \u001b[0mhost_port\u001b[0m \u001b[0;34m=\u001b[0m \u001b[0;36m27017\u001b[0m\u001b[0;34m\u001b[0m\u001b[0;34m\u001b[0m\u001b[0m\n\u001b[0;32m----> 6\u001b[0;31m \u001b[0mstats\u001b[0m \u001b[0;34m=\u001b[0m \u001b[0mget_fantasy\u001b[0m\u001b[0;34m(\u001b[0m\u001b[0mfolder_name\u001b[0m\u001b[0;34m)\u001b[0m\u001b[0;34m\u001b[0m\u001b[0;34m\u001b[0m\u001b[0m\n\u001b[0m\u001b[1;32m      7\u001b[0m \u001b[0msave_fantasy\u001b[0m\u001b[0;34m(\u001b[0m\u001b[0mstats\u001b[0m\u001b[0;34m,\u001b[0m \u001b[0mdatabase_name\u001b[0m\u001b[0;34m,\u001b[0m \u001b[0mcollection_name\u001b[0m\u001b[0;34m,\u001b[0m \u001b[0mhost_name\u001b[0m\u001b[0;34m,\u001b[0m \u001b[0mhost_port\u001b[0m\u001b[0;34m)\u001b[0m\u001b[0;34m\u001b[0m\u001b[0;34m\u001b[0m\u001b[0m\n",
      "\u001b[0;32m/var/folders/3q/shvmw9xs58x3cfkdnl94yrkr0000gn/T/ipykernel_33970/610953283.py\u001b[0m in \u001b[0;36mget_fantasy\u001b[0;34m(folder_name)\u001b[0m\n\u001b[1;32m      7\u001b[0m             \u001b[0mcontent\u001b[0m \u001b[0;34m=\u001b[0m \u001b[0mf\u001b[0m\u001b[0;34m.\u001b[0m\u001b[0mread\u001b[0m\u001b[0;34m(\u001b[0m\u001b[0;34m)\u001b[0m \u001b[0;31m# open in readonly mode\u001b[0m\u001b[0;34m\u001b[0m\u001b[0;34m\u001b[0m\u001b[0m\n\u001b[1;32m      8\u001b[0m             \u001b[0mcontent\u001b[0m \u001b[0;34m=\u001b[0m \u001b[0mre\u001b[0m\u001b[0;34m.\u001b[0m\u001b[0msub\u001b[0m\u001b[0;34m(\u001b[0m\u001b[0;34m'\\$'\u001b[0m\u001b[0;34m,\u001b[0m\u001b[0;34m''\u001b[0m\u001b[0;34m,\u001b[0m\u001b[0mcontent\u001b[0m\u001b[0;34m)\u001b[0m\u001b[0;34m\u001b[0m\u001b[0;34m\u001b[0m\u001b[0m\n\u001b[0;32m----> 9\u001b[0;31m             \u001b[0mcontent_json\u001b[0m \u001b[0;34m=\u001b[0m \u001b[0mjson\u001b[0m\u001b[0;34m.\u001b[0m\u001b[0mloads\u001b[0m\u001b[0;34m(\u001b[0m\u001b[0mcontent\u001b[0m\u001b[0;34m)\u001b[0m\u001b[0;34m\u001b[0m\u001b[0;34m\u001b[0m\u001b[0m\n\u001b[0m\u001b[1;32m     10\u001b[0m             \u001b[0mfilename\u001b[0m \u001b[0;34m=\u001b[0m \u001b[0mfilename\u001b[0m\u001b[0;34m.\u001b[0m\u001b[0mreplace\u001b[0m\u001b[0;34m(\u001b[0m\u001b[0;34m'.json'\u001b[0m\u001b[0;34m,\u001b[0m \u001b[0;34m''\u001b[0m\u001b[0;34m)\u001b[0m\u001b[0;34m\u001b[0m\u001b[0;34m\u001b[0m\u001b[0m\n\u001b[1;32m     11\u001b[0m             \u001b[0mcontent_json2\u001b[0m \u001b[0;34m=\u001b[0m \u001b[0;34m{\u001b[0m\u001b[0;34m}\u001b[0m\u001b[0;34m\u001b[0m\u001b[0;34m\u001b[0m\u001b[0m\n",
      "\u001b[0;32m~/opt/anaconda3/lib/python3.9/json/__init__.py\u001b[0m in \u001b[0;36mloads\u001b[0;34m(s, cls, object_hook, parse_float, parse_int, parse_constant, object_pairs_hook, **kw)\u001b[0m\n\u001b[1;32m    344\u001b[0m             \u001b[0mparse_int\u001b[0m \u001b[0;32mis\u001b[0m \u001b[0;32mNone\u001b[0m \u001b[0;32mand\u001b[0m \u001b[0mparse_float\u001b[0m \u001b[0;32mis\u001b[0m \u001b[0;32mNone\u001b[0m \u001b[0;32mand\u001b[0m\u001b[0;34m\u001b[0m\u001b[0;34m\u001b[0m\u001b[0m\n\u001b[1;32m    345\u001b[0m             parse_constant is None and object_pairs_hook is None and not kw):\n\u001b[0;32m--> 346\u001b[0;31m         \u001b[0;32mreturn\u001b[0m \u001b[0m_default_decoder\u001b[0m\u001b[0;34m.\u001b[0m\u001b[0mdecode\u001b[0m\u001b[0;34m(\u001b[0m\u001b[0ms\u001b[0m\u001b[0;34m)\u001b[0m\u001b[0;34m\u001b[0m\u001b[0;34m\u001b[0m\u001b[0m\n\u001b[0m\u001b[1;32m    347\u001b[0m     \u001b[0;32mif\u001b[0m \u001b[0mcls\u001b[0m \u001b[0;32mis\u001b[0m \u001b[0;32mNone\u001b[0m\u001b[0;34m:\u001b[0m\u001b[0;34m\u001b[0m\u001b[0;34m\u001b[0m\u001b[0m\n\u001b[1;32m    348\u001b[0m         \u001b[0mcls\u001b[0m \u001b[0;34m=\u001b[0m \u001b[0mJSONDecoder\u001b[0m\u001b[0;34m\u001b[0m\u001b[0;34m\u001b[0m\u001b[0m\n",
      "\u001b[0;32m~/opt/anaconda3/lib/python3.9/json/decoder.py\u001b[0m in \u001b[0;36mdecode\u001b[0;34m(self, s, _w)\u001b[0m\n\u001b[1;32m    335\u001b[0m \u001b[0;34m\u001b[0m\u001b[0m\n\u001b[1;32m    336\u001b[0m         \"\"\"\n\u001b[0;32m--> 337\u001b[0;31m         \u001b[0mobj\u001b[0m\u001b[0;34m,\u001b[0m \u001b[0mend\u001b[0m \u001b[0;34m=\u001b[0m \u001b[0mself\u001b[0m\u001b[0;34m.\u001b[0m\u001b[0mraw_decode\u001b[0m\u001b[0;34m(\u001b[0m\u001b[0ms\u001b[0m\u001b[0;34m,\u001b[0m \u001b[0midx\u001b[0m\u001b[0;34m=\u001b[0m\u001b[0m_w\u001b[0m\u001b[0;34m(\u001b[0m\u001b[0ms\u001b[0m\u001b[0;34m,\u001b[0m \u001b[0;36m0\u001b[0m\u001b[0;34m)\u001b[0m\u001b[0;34m.\u001b[0m\u001b[0mend\u001b[0m\u001b[0;34m(\u001b[0m\u001b[0;34m)\u001b[0m\u001b[0;34m)\u001b[0m\u001b[0;34m\u001b[0m\u001b[0;34m\u001b[0m\u001b[0m\n\u001b[0m\u001b[1;32m    338\u001b[0m         \u001b[0mend\u001b[0m \u001b[0;34m=\u001b[0m \u001b[0m_w\u001b[0m\u001b[0;34m(\u001b[0m\u001b[0ms\u001b[0m\u001b[0;34m,\u001b[0m \u001b[0mend\u001b[0m\u001b[0;34m)\u001b[0m\u001b[0;34m.\u001b[0m\u001b[0mend\u001b[0m\u001b[0;34m(\u001b[0m\u001b[0;34m)\u001b[0m\u001b[0;34m\u001b[0m\u001b[0;34m\u001b[0m\u001b[0m\n\u001b[1;32m    339\u001b[0m         \u001b[0;32mif\u001b[0m \u001b[0mend\u001b[0m \u001b[0;34m!=\u001b[0m \u001b[0mlen\u001b[0m\u001b[0;34m(\u001b[0m\u001b[0ms\u001b[0m\u001b[0;34m)\u001b[0m\u001b[0;34m:\u001b[0m\u001b[0;34m\u001b[0m\u001b[0;34m\u001b[0m\u001b[0m\n",
      "\u001b[0;32m~/opt/anaconda3/lib/python3.9/json/decoder.py\u001b[0m in \u001b[0;36mraw_decode\u001b[0;34m(self, s, idx)\u001b[0m\n\u001b[1;32m    353\u001b[0m             \u001b[0mobj\u001b[0m\u001b[0;34m,\u001b[0m \u001b[0mend\u001b[0m \u001b[0;34m=\u001b[0m \u001b[0mself\u001b[0m\u001b[0;34m.\u001b[0m\u001b[0mscan_once\u001b[0m\u001b[0;34m(\u001b[0m\u001b[0ms\u001b[0m\u001b[0;34m,\u001b[0m \u001b[0midx\u001b[0m\u001b[0;34m)\u001b[0m\u001b[0;34m\u001b[0m\u001b[0;34m\u001b[0m\u001b[0m\n\u001b[1;32m    354\u001b[0m         \u001b[0;32mexcept\u001b[0m \u001b[0mStopIteration\u001b[0m \u001b[0;32mas\u001b[0m \u001b[0merr\u001b[0m\u001b[0;34m:\u001b[0m\u001b[0;34m\u001b[0m\u001b[0;34m\u001b[0m\u001b[0m\n\u001b[0;32m--> 355\u001b[0;31m             \u001b[0;32mraise\u001b[0m \u001b[0mJSONDecodeError\u001b[0m\u001b[0;34m(\u001b[0m\u001b[0;34m\"Expecting value\"\u001b[0m\u001b[0;34m,\u001b[0m \u001b[0ms\u001b[0m\u001b[0;34m,\u001b[0m \u001b[0merr\u001b[0m\u001b[0;34m.\u001b[0m\u001b[0mvalue\u001b[0m\u001b[0;34m)\u001b[0m \u001b[0;32mfrom\u001b[0m \u001b[0;32mNone\u001b[0m\u001b[0;34m\u001b[0m\u001b[0;34m\u001b[0m\u001b[0m\n\u001b[0m\u001b[1;32m    356\u001b[0m         \u001b[0;32mreturn\u001b[0m \u001b[0mobj\u001b[0m\u001b[0;34m,\u001b[0m \u001b[0mend\u001b[0m\u001b[0;34m\u001b[0m\u001b[0;34m\u001b[0m\u001b[0m\n",
      "\u001b[0;31mJSONDecodeError\u001b[0m: Expecting value: line 1 column 1 (char 0)"
     ]
    }
   ],
   "source": [
    "folder_name = 'Fantasy'\n",
    "database_name = 'fantasy_football'\n",
    "collection_name = 'fantasy_data'\n",
    "host_name = 'localhost'\n",
    "host_port = 27017\n",
    "stats = get_fantasy(folder_name)\n",
    "save_fantasy(stats, database_name, collection_name, host_name, host_port)"
   ]
  },
  {
   "cell_type": "code",
   "execution_count": 92,
   "id": "039dc211",
   "metadata": {},
   "outputs": [
    {
     "name": "stdout",
     "output_type": "stream",
     "text": [
      "Connected successfully!!!\n"
     ]
    },
    {
     "ename": "KeyError",
     "evalue": "'Age'",
     "output_type": "error",
     "traceback": [
      "\u001b[0;31m---------------------------------------------------------------------------\u001b[0m",
      "\u001b[0;31mKeyError\u001b[0m                                  Traceback (most recent call last)",
      "\u001b[0;32m/var/folders/3q/shvmw9xs58x3cfkdnl94yrkr0000gn/T/ipykernel_33970/38941171.py\u001b[0m in \u001b[0;36m<module>\u001b[0;34m\u001b[0m\n\u001b[1;32m     11\u001b[0m \u001b[0;34m\u001b[0m\u001b[0m\n\u001b[1;32m     12\u001b[0m \u001b[0;34m\u001b[0m\u001b[0m\n\u001b[0;32m---> 13\u001b[0;31m \u001b[0mstats_data\u001b[0m \u001b[0;34m=\u001b[0m \u001b[0mload_stats\u001b[0m\u001b[0;34m(\u001b[0m\u001b[0mdatabase_name\u001b[0m\u001b[0;34m,\u001b[0m \u001b[0mcollection_name\u001b[0m\u001b[0;34m,\u001b[0m \u001b[0mhost_name\u001b[0m\u001b[0;34m,\u001b[0m \u001b[0mhost_port\u001b[0m\u001b[0;34m)\u001b[0m\u001b[0;34m\u001b[0m\u001b[0;34m\u001b[0m\u001b[0m\n\u001b[0m\u001b[1;32m     14\u001b[0m \u001b[0mteam_adp_average\u001b[0m\u001b[0;34m(\u001b[0m\u001b[0mstats_data\u001b[0m\u001b[0;34m)\u001b[0m\u001b[0;34m\u001b[0m\u001b[0;34m\u001b[0m\u001b[0m\n\u001b[1;32m     15\u001b[0m \u001b[0mteam_top_players\u001b[0m\u001b[0;34m(\u001b[0m\u001b[0mstats_data\u001b[0m\u001b[0;34m,\u001b[0m \u001b[0;34m'CIN'\u001b[0m\u001b[0;34m)\u001b[0m\u001b[0;34m\u001b[0m\u001b[0;34m\u001b[0m\u001b[0m\n",
      "\u001b[0;32m/var/folders/3q/shvmw9xs58x3cfkdnl94yrkr0000gn/T/ipykernel_33970/2998482370.py\u001b[0m in \u001b[0;36mload_stats\u001b[0;34m(database_name, collection_name, host_name, host_port)\u001b[0m\n\u001b[1;32m     22\u001b[0m             \u001b[0madp\u001b[0m \u001b[0;34m=\u001b[0m \u001b[0mdoc\u001b[0m\u001b[0;34m[\u001b[0m\u001b[0;34m'adp'\u001b[0m\u001b[0;34m]\u001b[0m\u001b[0;34m\u001b[0m\u001b[0;34m\u001b[0m\u001b[0m\n\u001b[1;32m     23\u001b[0m             \u001b[0mplayer_id\u001b[0m \u001b[0;34m=\u001b[0m \u001b[0mdoc\u001b[0m\u001b[0;34m[\u001b[0m\u001b[0;34m'PlayerID'\u001b[0m\u001b[0;34m]\u001b[0m\u001b[0;34m\u001b[0m\u001b[0;34m\u001b[0m\u001b[0m\n\u001b[0;32m---> 24\u001b[0;31m             \u001b[0mage\u001b[0m \u001b[0;34m=\u001b[0m \u001b[0mdoc\u001b[0m\u001b[0;34m[\u001b[0m\u001b[0;34m'Age'\u001b[0m\u001b[0;34m]\u001b[0m\u001b[0;34m\u001b[0m\u001b[0;34m\u001b[0m\u001b[0m\n\u001b[0m\u001b[1;32m     25\u001b[0m             \u001b[0matt\u001b[0m \u001b[0;34m=\u001b[0m \u001b[0mdoc\u001b[0m\u001b[0;34m[\u001b[0m\u001b[0;34m'Att'\u001b[0m\u001b[0;34m]\u001b[0m\u001b[0;34m\u001b[0m\u001b[0;34m\u001b[0m\u001b[0m\n\u001b[1;32m     26\u001b[0m             \u001b[0mcmp\u001b[0m \u001b[0;34m=\u001b[0m \u001b[0mdoc\u001b[0m\u001b[0;34m[\u001b[0m\u001b[0;34m'Cmp'\u001b[0m\u001b[0;34m]\u001b[0m\u001b[0;34m\u001b[0m\u001b[0;34m\u001b[0m\u001b[0m\n",
      "\u001b[0;31mKeyError\u001b[0m: 'Age'"
     ]
    }
   ],
   "source": [
    "#This first function allows us to see the team that has the best average of players with the lowest ADP or average draft position\n",
    "#This helps us indicate which team has the best success in terms of fantasy players\n",
    "def team_adp_average(stats_list):\n",
    "    team_group = stats_list.groupby(stats_list.team).mean().sort_values('adp',ascending=True)\n",
    "    print(team_group)\n",
    "\n",
    "#After seeing the best team is Cincinatti, this function allows us to see which of their players have had the best adp over the 7 years\n",
    "def team_top_players(stats_list, team):\n",
    "    players = stats_list[stats_list.team == team].sort_values('adp')\n",
    "    print(players)\n",
    "    \n",
    "    \n",
    "stats_data = load_stats(database_name, collection_name, host_name, host_port)\n",
    "team_adp_average(stats_data)\n",
    "team_top_players(stats_data, 'CIN')"
   ]
  },
  {
   "cell_type": "code",
   "execution_count": null,
   "id": "35cf9d66",
   "metadata": {},
   "outputs": [],
   "source": []
  }
 ],
 "metadata": {
  "kernelspec": {
   "display_name": "Python 3 (ipykernel)",
   "language": "python",
   "name": "python3"
  },
  "language_info": {
   "codemirror_mode": {
    "name": "ipython",
    "version": 3
   },
   "file_extension": ".py",
   "mimetype": "text/x-python",
   "name": "python",
   "nbconvert_exporter": "python",
   "pygments_lexer": "ipython3",
   "version": "3.9.7"
  }
 },
 "nbformat": 4,
 "nbformat_minor": 5
}
