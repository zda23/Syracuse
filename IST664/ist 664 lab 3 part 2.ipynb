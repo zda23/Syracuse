{
 "cells": [
  {
   "cell_type": "code",
   "execution_count": 4,
   "id": "dd1521c8",
   "metadata": {},
   "outputs": [],
   "source": [
    "import nltk\n",
    "import re"
   ]
  },
  {
   "cell_type": "code",
   "execution_count": 5,
   "id": "cf50c13a",
   "metadata": {},
   "outputs": [],
   "source": [
    "sent = \"Mr. Black and Mrs. Brown attended the lecture by Dr. Gray, but Gov. White wasn't there.\""
   ]
  },
  {
   "cell_type": "code",
   "execution_count": 8,
   "id": "4c48fa9c",
   "metadata": {},
   "outputs": [],
   "source": [
    "pattern = r\"[A-Z][a-z]*\\.|[A-Za-z]+\""
   ]
  },
  {
   "cell_type": "code",
   "execution_count": 9,
   "id": "18847ddb",
   "metadata": {},
   "outputs": [
    {
     "name": "stdout",
     "output_type": "stream",
     "text": [
      "['Mr.', 'Black', 'and', 'Mrs.', 'Brown', 'attended', 'the', 'lecture', 'by', 'Dr.', 'Gray', 'but', 'Gov.', 'White', 'wasn', 't', 'there']\n"
     ]
    }
   ],
   "source": [
    "regex = re.findall(pattern, sent)\n",
    "print(regex)"
   ]
  },
  {
   "cell_type": "code",
   "execution_count": 10,
   "id": "c80523b9",
   "metadata": {},
   "outputs": [],
   "source": [
    "pattern_2 = r\"[A-Z][a-z]*\\.|[A-Za-z']+\""
   ]
  },
  {
   "cell_type": "code",
   "execution_count": 11,
   "id": "c6dac841",
   "metadata": {},
   "outputs": [
    {
     "name": "stdout",
     "output_type": "stream",
     "text": [
      "['Mr.', 'Black', 'and', 'Mrs.', 'Brown', 'attended', 'the', 'lecture', 'by', 'Dr.', 'Gray', 'but', 'Gov.', 'White', \"wasn't\", 'there']\n"
     ]
    }
   ],
   "source": [
    "regex_2 = re.findall(pattern_2, sent)\n",
    "print(regex_2)"
   ]
  },
  {
   "cell_type": "code",
   "execution_count": null,
   "id": "26910a60",
   "metadata": {},
   "outputs": [],
   "source": []
  }
 ],
 "metadata": {
  "kernelspec": {
   "display_name": "Python 3 (ipykernel)",
   "language": "python",
   "name": "python3"
  },
  "language_info": {
   "codemirror_mode": {
    "name": "ipython",
    "version": 3
   },
   "file_extension": ".py",
   "mimetype": "text/x-python",
   "name": "python",
   "nbconvert_exporter": "python",
   "pygments_lexer": "ipython3",
   "version": "3.9.7"
  }
 },
 "nbformat": 4,
 "nbformat_minor": 5
}
