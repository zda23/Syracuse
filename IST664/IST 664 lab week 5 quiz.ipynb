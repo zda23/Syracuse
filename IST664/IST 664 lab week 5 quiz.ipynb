{
 "cells": [
  {
   "cell_type": "code",
   "execution_count": 19,
   "id": "208b410a",
   "metadata": {},
   "outputs": [],
   "source": [
    "import nltk\n",
    "# Define sentences for the question\n",
    "sentex1 = \"I prefer a flight through Houston\".split()\n",
    "sentex2 = \"Jack walked with the dog\".split()\n",
    "sentex3 = \"John gave the dog a bone\".split()\n",
    "sentex4 = \"I want to book that flight\".split()"
   ]
  },
  {
   "cell_type": "code",
   "execution_count": 20,
   "id": "193cb75c",
   "metadata": {},
   "outputs": [],
   "source": [
    "# extend the flight grammar:\n",
    "flight_grammar_v2 = nltk.CFG.fromstring(\"\"\"\n",
    "S -> NP VP | VP\n",
    "VP -> V NP | V NP PP\n",
    "PP -> P NP\n",
    "V -> \"saw\" | \"ate\" | \"walked\" | \"shot\" | \"book\" | \"prefer\" | \"through\" | \"want\" | \"gave\"\n",
    "NP -> Prop | Det N | Det N PP\n",
    "Prop -> \"John\" | \"Jack\" | \"Bob\" | \"I\" | \"Houston\"\n",
    "Det -> \"a\" | \"an\" | \"the\" | \"my\" | \"that\" | \"through\"\n",
    "N -> \"man\" | \"dog\" | \"cat\" | \"bone\" | \"park\" | \"elephant\" | \"pajamas\" | \"flight\"\n",
    "P -> \"in\" | \"on\" | \"by\" | \"with\"\n",
    "\"\"\")"
   ]
  },
  {
   "cell_type": "code",
   "execution_count": 21,
   "id": "9f911ea8",
   "metadata": {},
   "outputs": [],
   "source": [
    "# redefine rd_parser when you change the flight grammar\n",
    "rd_parser = nltk.RecursiveDescentParser(flight_grammar_v2)\n",
    "for tree in rd_parser.parse(sentex1): \n",
    "    print(tree)"
   ]
  },
  {
   "cell_type": "code",
   "execution_count": 22,
   "id": "7d041987",
   "metadata": {},
   "outputs": [],
   "source": [
    "for tree in rd_parser.parse(sentex2): \n",
    "    print(tree)"
   ]
  },
  {
   "cell_type": "code",
   "execution_count": 23,
   "id": "e12f50c0",
   "metadata": {},
   "outputs": [],
   "source": [
    "for tree in rd_parser.parse(sentex3): \n",
    "    print(tree)"
   ]
  },
  {
   "cell_type": "code",
   "execution_count": null,
   "id": "58eeb73d",
   "metadata": {},
   "outputs": [],
   "source": []
  }
 ],
 "metadata": {
  "kernelspec": {
   "display_name": "Python 3 (ipykernel)",
   "language": "python",
   "name": "python3"
  },
  "language_info": {
   "codemirror_mode": {
    "name": "ipython",
    "version": 3
   },
   "file_extension": ".py",
   "mimetype": "text/x-python",
   "name": "python",
   "nbconvert_exporter": "python",
   "pygments_lexer": "ipython3",
   "version": "3.9.7"
  }
 },
 "nbformat": 4,
 "nbformat_minor": 5
}
