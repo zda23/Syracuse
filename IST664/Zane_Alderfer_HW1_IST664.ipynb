{
 "cells": [
  {
   "cell_type": "code",
   "execution_count": 1,
   "id": "53dd6a07",
   "metadata": {},
   "outputs": [],
   "source": [
    "import nltk"
   ]
  },
  {
   "cell_type": "code",
   "execution_count": 4,
   "id": "ec682e0a",
   "metadata": {},
   "outputs": [
    {
     "name": "stdout",
     "output_type": "stream",
     "text": [
      "carroll-alice.txt\n",
      "chesterton-ball.txt\n"
     ]
    }
   ],
   "source": [
    "file1 = nltk.corpus.gutenberg.fileids()[7]\n",
    "file2 = nltk.corpus.gutenberg.fileids()[8]\n",
    "print(file1)\n",
    "print(file2)"
   ]
  },
  {
   "cell_type": "code",
   "execution_count": 6,
   "id": "af75ab11",
   "metadata": {},
   "outputs": [],
   "source": [
    "caralicetext = nltk.corpus.gutenberg.raw(file1)\n",
    "chestertontext = nltk.corpus.gutenberg.raw(file2)"
   ]
  },
  {
   "cell_type": "code",
   "execution_count": 7,
   "id": "e0dbc2d5",
   "metadata": {},
   "outputs": [],
   "source": [
    "caralicetokens = nltk.word_tokenize(caralicetext)\n",
    "chestertontokens = nltk.word_tokenize(chestertontext)"
   ]
  },
  {
   "cell_type": "code",
   "execution_count": 9,
   "id": "ad04a3aa",
   "metadata": {},
   "outputs": [],
   "source": [
    "caralicewords = [w.lower() for w in caralicetokens]\n",
    "chestertonwords = [w.lower() for w in chestertontokens]"
   ]
  },
  {
   "cell_type": "code",
   "execution_count": 10,
   "id": "0c792017",
   "metadata": {},
   "outputs": [],
   "source": [
    "from nltk import FreqDist as FD"
   ]
  },
  {
   "cell_type": "code",
   "execution_count": 11,
   "id": "29c880ed",
   "metadata": {},
   "outputs": [],
   "source": [
    "fdist_caw = FD(caralicewords)\n",
    "fdist_cw = FD(chestertonwords)"
   ]
  },
  {
   "cell_type": "code",
   "execution_count": 14,
   "id": "c0f1d806",
   "metadata": {},
   "outputs": [],
   "source": [
    "fdistkeys_caw = list(fdist_caw.keys())\n",
    "fdistkeys_cw = list(fdist_caw.keys())"
   ]
  },
  {
   "cell_type": "code",
   "execution_count": 15,
   "id": "f2ff9361",
   "metadata": {},
   "outputs": [],
   "source": [
    "topkeys_caw = fdist_caw.most_common(50)\n",
    "topkeys_cw = fdist_cw.most_common(50)"
   ]
  },
  {
   "cell_type": "code",
   "execution_count": 16,
   "id": "9d5da2f5",
   "metadata": {},
   "outputs": [
    {
     "name": "stdout",
     "output_type": "stream",
     "text": [
      "(',', 2418)\n",
      "('the', 1616)\n",
      "(\"'\", 1309)\n",
      "('.', 975)\n",
      "('and', 810)\n",
      "('to', 720)\n",
      "('a', 631)\n",
      "('she', 544)\n",
      "('it', 539)\n",
      "('i', 533)\n",
      "('of', 499)\n",
      "('said', 462)\n",
      "('!', 450)\n",
      "('alice', 396)\n",
      "('was', 366)\n",
      "('in', 359)\n",
      "('you', 356)\n",
      "('that', 284)\n",
      "('--', 264)\n",
      "('as', 256)\n",
      "('her', 248)\n",
      "(':', 233)\n",
      "('at', 209)\n",
      "(\"n't\", 204)\n",
      "('?', 202)\n",
      "(\"'s\", 194)\n",
      "(';', 194)\n",
      "('on', 191)\n",
      "('had', 184)\n",
      "('with', 179)\n",
      "('all', 178)\n",
      "('be', 148)\n",
      "('for', 146)\n",
      "('so', 144)\n",
      "('very', 139)\n",
      "('not', 135)\n",
      "('they', 135)\n",
      "('but', 131)\n",
      "('this', 131)\n",
      "('little', 128)\n",
      "('do', 125)\n",
      "('he', 117)\n",
      "('is', 113)\n",
      "('out', 113)\n",
      "('what', 103)\n",
      "('down', 102)\n",
      "('one', 99)\n",
      "('up', 97)\n",
      "('his', 95)\n",
      "('about', 94)\n"
     ]
    }
   ],
   "source": [
    "for words in topkeys_caw:\n",
    "    print(words)"
   ]
  },
  {
   "cell_type": "code",
   "execution_count": 17,
   "id": "b6980d26",
   "metadata": {},
   "outputs": [
    {
     "name": "stdout",
     "output_type": "stream",
     "text": [
      "(',', 5223)\n",
      "('the', 4962)\n",
      "('.', 3997)\n",
      "('and', 2663)\n",
      "('of', 2554)\n",
      "('a', 2257)\n",
      "(\"''\", 1881)\n",
      "('``', 1610)\n",
      "('to', 1580)\n",
      "('in', 1403)\n",
      "('he', 1326)\n",
      "('that', 1167)\n",
      "('it', 1136)\n",
      "('you', 1066)\n",
      "('i', 998)\n",
      "('was', 929)\n",
      "('his', 920)\n",
      "('with', 815)\n",
      "('is', 727)\n",
      "('as', 692)\n",
      "('said', 652)\n",
      "(';', 637)\n",
      "('but', 559)\n",
      "('had', 556)\n",
      "('turnbull', 544)\n",
      "('not', 519)\n",
      "('at', 463)\n",
      "('they', 455)\n",
      "('for', 452)\n",
      "('on', 452)\n",
      "('macian', 425)\n",
      "('be', 408)\n",
      "('?', 407)\n",
      "('or', 399)\n",
      "('all', 387)\n",
      "('have', 385)\n",
      "('--', 379)\n",
      "('this', 370)\n",
      "('him', 339)\n",
      "('man', 336)\n",
      "('we', 336)\n",
      "('if', 336)\n",
      "('are', 333)\n",
      "('like', 326)\n",
      "('which', 325)\n",
      "('were', 317)\n",
      "('an', 316)\n",
      "('one', 316)\n",
      "('up', 294)\n",
      "('by', 292)\n"
     ]
    }
   ],
   "source": [
    "for words in topkeys_cw:\n",
    "    print(words)"
   ]
  },
  {
   "cell_type": "code",
   "execution_count": 18,
   "id": "6428eb33",
   "metadata": {},
   "outputs": [],
   "source": [
    "caw_bigrams = list(nltk.bigrams(caralicewords))\n",
    "cw_bigrams = list(nltk.bigrams(chestertonwords))"
   ]
  },
  {
   "cell_type": "code",
   "execution_count": 28,
   "id": "fd6bf564",
   "metadata": {},
   "outputs": [
    {
     "name": "stdout",
     "output_type": "stream",
     "text": [
      "[('[', 'alice'), ('alice', \"'s\"), (\"'s\", 'adventures'), ('adventures', 'in'), ('in', 'wonderland'), ('wonderland', 'by'), ('by', 'lewis'), ('lewis', 'carroll'), ('carroll', '1865'), ('1865', ']'), (']', 'chapter'), ('chapter', 'i'), ('i', '.'), ('.', 'down'), ('down', 'the'), ('the', 'rabbit-hole'), ('rabbit-hole', 'alice'), ('alice', 'was'), ('was', 'beginning'), ('beginning', 'to'), ('to', 'get'), ('get', 'very'), ('very', 'tired'), ('tired', 'of'), ('of', 'sitting'), ('sitting', 'by'), ('by', 'her'), ('her', 'sister'), ('sister', 'on'), ('on', 'the'), ('the', 'bank'), ('bank', ','), (',', 'and'), ('and', 'of'), ('of', 'having'), ('having', 'nothing'), ('nothing', 'to'), ('to', 'do'), ('do', ':'), (':', 'once'), ('once', 'or'), ('or', 'twice'), ('twice', 'she'), ('she', 'had'), ('had', 'peeped'), ('peeped', 'into'), ('into', 'the'), ('the', 'book'), ('book', 'her'), ('her', 'sister')]\n"
     ]
    }
   ],
   "source": [
    "print(caw_bigrams[:50])"
   ]
  },
  {
   "cell_type": "code",
   "execution_count": 26,
   "id": "0ae4974d",
   "metadata": {},
   "outputs": [
    {
     "name": "stdout",
     "output_type": "stream",
     "text": [
      "[('[', 'the'), ('the', 'ball'), ('ball', 'and'), ('and', 'the'), ('the', 'cross'), ('cross', 'by'), ('by', 'g.k.'), ('g.k.', 'chesterton'), ('chesterton', '1909'), ('1909', ']'), (']', 'i'), ('i', '.'), ('.', 'a'), ('a', 'discussion'), ('discussion', 'somewhat'), ('somewhat', 'in'), ('in', 'the'), ('the', 'air'), ('air', 'the'), ('the', 'flying'), ('flying', 'ship'), ('ship', 'of'), ('of', 'professor'), ('professor', 'lucifer'), ('lucifer', 'sang'), ('sang', 'through'), ('through', 'the'), ('the', 'skies'), ('skies', 'like'), ('like', 'a'), ('a', 'silver'), ('silver', 'arrow'), ('arrow', ';'), (';', 'the'), ('the', 'bleak'), ('bleak', 'white'), ('white', 'steel'), ('steel', 'of'), ('of', 'it'), ('it', ','), (',', 'gleaming'), ('gleaming', 'in'), ('in', 'the'), ('the', 'bleak'), ('bleak', 'blue'), ('blue', 'emptiness'), ('emptiness', 'of'), ('of', 'the'), ('the', 'evening'), ('evening', '.')]\n"
     ]
    }
   ],
   "source": [
    "print(cw_bigrams[:50])"
   ]
  },
  {
   "cell_type": "code",
   "execution_count": 29,
   "id": "739d32a6",
   "metadata": {},
   "outputs": [],
   "source": [
    "from nltk.collocations import *"
   ]
  },
  {
   "cell_type": "code",
   "execution_count": 30,
   "id": "7fe55f73",
   "metadata": {},
   "outputs": [],
   "source": [
    "bigram_measures = nltk.collocations.BigramAssocMeasures()"
   ]
  },
  {
   "cell_type": "code",
   "execution_count": 31,
   "id": "fcb4a947",
   "metadata": {},
   "outputs": [],
   "source": [
    "finder_caw = BigramCollocationFinder.from_words(caralicewords)\n",
    "finder_cw = BigramCollocationFinder.from_words(chestertonwords)"
   ]
  },
  {
   "cell_type": "code",
   "execution_count": 32,
   "id": "a4b2a261",
   "metadata": {},
   "outputs": [],
   "source": [
    "scored_caw = finder_caw.score_ngrams(bigram_measures.raw_freq)\n",
    "scored_cw = finder_cw.score_ngrams(bigram_measures.raw_freq)"
   ]
  },
  {
   "cell_type": "code",
   "execution_count": 33,
   "id": "66e2b048",
   "metadata": {},
   "outputs": [
    {
     "name": "stdout",
     "output_type": "stream",
     "text": [
      "((',', 'and'), 0.013733803069206425)\n",
      "((',', \"'\"), 0.012808264166716427)\n",
      "((\"'\", 'said'), 0.009852510897474175)\n",
      "(('!', \"'\"), 0.008449274496924822)\n",
      "(('.', \"'\"), 0.00782229653072192)\n",
      "(('said', 'the'), 0.006180211381142891)\n",
      "((\"'\", 'i'), 0.005045679823251926)\n",
      "(('?', \"'\"), 0.00468740669970741)\n",
      "(('of', 'the'), 0.0038215799844748314)\n",
      "(('said', 'alice'), 0.003433450767301606)\n",
      "((\"'\", 'the'), 0.003224458111900639)\n",
      "(('in', 'a'), 0.0028960410819848332)\n",
      "((',', 'i'), 0.002418343583925479)\n",
      "(('and', 'the'), 0.00235863139666806)\n",
      "(('alice', ','), 0.0023287753030393505)\n",
      "(('in', 'the'), 0.0023287753030393505)\n",
      "(('it', 'was'), 0.0021794948348958024)\n",
      "(('the', 'queen'), 0.0020600704603809636)\n",
      "(('to', 'the'), 0.0020600704603809636)\n",
      "((',', 'but'), 0.0018510778049799965)\n",
      "((',', 'as'), 0.0018212217113512867)\n",
      "(('as', 'she'), 0.0018212217113512867)\n",
      "(('the', 'king'), 0.0018212217113512867)\n",
      "((\"'\", 'she'), 0.0017913656177225771)\n",
      "(('at', 'the'), 0.0017913656177225771)\n",
      "(('she', 'had'), 0.0017913656177225771)\n",
      "(('a', 'little'), 0.0017615095240938676)\n",
      "(('it', ','), 0.001731653430465158)\n",
      "(('*', '*'), 0.0017017973368364484)\n",
      "((\"'\", 'alice'), 0.0016719412432077386)\n",
      "(('i', \"'m\"), 0.0016719412432077386)\n",
      "(('she', 'was'), 0.0016719412432077386)\n",
      "(('mock', 'turtle'), 0.001642085149579029)\n",
      "((',', 'you'), 0.0016122290559503194)\n",
      "((';', 'and'), 0.0016122290559503194)\n",
      "(('alice', '.'), 0.0016122290559503194)\n",
      "((',', 'she'), 0.0015823729623216098)\n",
      "(('and', 'she'), 0.0015823729623216098)\n",
      "(('the', 'mock'), 0.0015823729623216098)\n",
      "(('--', \"'\"), 0.0015525168686929003)\n",
      "(('do', \"n't\"), 0.0015525168686929003)\n",
      "(('the', 'gryphon'), 0.0015525168686929003)\n",
      "(('the', 'hatter'), 0.0015525168686929003)\n",
      "(('to', 'be'), 0.0015226607750641907)\n",
      "((\"'\", \"'\"), 0.0014928046814354809)\n",
      "(('.', 'the'), 0.0014928046814354809)\n",
      "((',', 'that'), 0.0014629485878067713)\n",
      "(('went', 'on'), 0.0014330924941780617)\n",
      "(('.', 'alice'), 0.0013733803069206425)\n",
      "(('to', 'herself'), 0.001343524213291933)\n"
     ]
    }
   ],
   "source": [
    "for bscore in scored_caw[:50]:\n",
    "    print(bscore)"
   ]
  },
  {
   "cell_type": "code",
   "execution_count": 34,
   "id": "291d39a0",
   "metadata": {},
   "outputs": [
    {
     "name": "stdout",
     "output_type": "stream",
     "text": [
      "(('.', '``'), 0.007743408333676114)\n",
      "((',', \"''\"), 0.007013286166755789)\n",
      "((',', 'and'), 0.006365431286249023)\n",
      "(('of', 'the'), 0.006324297643042244)\n",
      "(('.', \"''\"), 0.005645592530130394)\n",
      "(('in', 'the'), 0.004133931142281272)\n",
      "((\"''\", 'said'), 0.003979679980255851)\n",
      "((\"''\", '``'), 0.0038048619966270414)\n",
      "(('?', \"''\"), 0.003002755954094854)\n",
      "(('.', 'the'), 0.0029307720784829913)\n",
      "((',', '``'), 0.0028587882028711284)\n",
      "(('``', 'i'), 0.0025091522356135085)\n",
      "(('.', 'he'), 0.002406318127596561)\n",
      "(('with', 'a'), 0.0022932006087779196)\n",
      "((\"''\", 'he'), 0.002108099214347415)\n",
      "(('and', 'the'), 0.001994981695528773)\n",
      "(('turnbull', ','), 0.001994981695528773)\n",
      "(('it', 'was'), 0.0019641314631236887)\n",
      "(('in', 'a'), 0.001953848052321994)\n",
      "(('it', 'is'), 0.0018407305335033524)\n",
      "(('.', 'but'), 0.0018201637118999629)\n",
      "(('to', 'the'), 0.0018201637118999629)\n",
      "((',', 'the'), 0.001717329603883016)\n",
      "((',', 'but'), 0.0016864793714779318)\n",
      "((',', 'with'), 0.0016350623174694583)\n",
      "(('of', 'a'), 0.0016247789066677636)\n",
      "(('he', 'said'), 0.0015322282094525112)\n",
      "(('macian', ','), 0.0015219447986508166)\n",
      "(('he', 'had'), 0.001501377977047427)\n",
      "(('he', 'was'), 0.0014910945662457325)\n",
      "(('.', 'it'), 0.0014499609230389536)\n",
      "(('with', 'the'), 0.0014191106906338694)\n",
      "(('!', \"''\"), 0.00139854386903048)\n",
      "(('.', 'i'), 0.001367693636625396)\n",
      "(('at', 'the'), 0.001367693636625396)\n",
      "(('on', 'the'), 0.001295709761013533)\n",
      "(('the', 'other'), 0.0012854263502118384)\n",
      "(('to', 'be'), 0.0012854263502118384)\n",
      "((',', 'as'), 0.0012751429394101436)\n",
      "(('i', 'am'), 0.0012751429394101436)\n",
      "(('like', 'a'), 0.0012545761178067542)\n",
      "(('said', 'turnbull'), 0.0012340092962033647)\n",
      "(('said', 'the'), 0.0012237258854016701)\n",
      "((';', 'and'), 0.0012134424745999753)\n",
      "((',', 'i'), 0.0011414585989881123)\n",
      "(('all', 'the'), 0.0011003249557813336)\n",
      "((',', 'in'), 0.0010900415449796388)\n",
      "((':', '``'), 0.0010386244909711653)\n",
      "(('said', ','), 0.0010283410801694706)\n",
      "(('of', 'his'), 0.001018057669367776)\n"
     ]
    }
   ],
   "source": [
    "for bscore in scored_cw[:50]:\n",
    "    print(bscore)"
   ]
  },
  {
   "cell_type": "code",
   "execution_count": 36,
   "id": "38190f95",
   "metadata": {},
   "outputs": [],
   "source": [
    "import re\n",
    "pattern = re.compile('^[^a-z]+$')\n",
    "nonAlphaMatch = pattern.match('**')\n",
    "def alpha_filter(w):\n",
    "    pattern = re.compile('^[^a-z]+$')\n",
    "    if(pattern.match(w)):\n",
    "        return True\n",
    "    else:\n",
    "        return False"
   ]
  },
  {
   "cell_type": "code",
   "execution_count": 37,
   "id": "b90f670c",
   "metadata": {},
   "outputs": [],
   "source": [
    "alphacaralicewords = [w for w in caralicewords if not alpha_filter(w)]\n",
    "alphachestertonwords = [w for w in chestertonwords if not alpha_filter(w)]"
   ]
  },
  {
   "cell_type": "code",
   "execution_count": 38,
   "id": "4b0054d4",
   "metadata": {},
   "outputs": [
    {
     "name": "stdout",
     "output_type": "stream",
     "text": [
      "['alice', \"'s\", 'adventures', 'in', 'wonderland', 'by', 'lewis', 'carroll', 'chapter', 'i', 'down', 'the', 'rabbit-hole', 'alice', 'was', 'beginning', 'to', 'get', 'very', 'tired', 'of', 'sitting', 'by', 'her', 'sister', 'on', 'the', 'bank', 'and', 'of', 'having', 'nothing', 'to', 'do', 'once', 'or', 'twice', 'she', 'had', 'peeped', 'into', 'the', 'book', 'her', 'sister', 'was', 'reading', 'but', 'it', 'had']\n",
      "['the', 'ball', 'and', 'the', 'cross', 'by', 'g.k.', 'chesterton', 'i', 'a', 'discussion', 'somewhat', 'in', 'the', 'air', 'the', 'flying', 'ship', 'of', 'professor', 'lucifer', 'sang', 'through', 'the', 'skies', 'like', 'a', 'silver', 'arrow', 'the', 'bleak', 'white', 'steel', 'of', 'it', 'gleaming', 'in', 'the', 'bleak', 'blue', 'emptiness', 'of', 'the', 'evening', 'that', 'it', 'was', 'far', 'above', 'the']\n"
     ]
    }
   ],
   "source": [
    "print(alphacaralicewords[:50])\n",
    "print(alphachestertonwords[:50])"
   ]
  },
  {
   "cell_type": "code",
   "execution_count": 40,
   "id": "3d874843",
   "metadata": {},
   "outputs": [],
   "source": [
    "caw_dist = FD(alphacaralicewords)\n",
    "cw_dist = FD(alphachestertonwords)"
   ]
  },
  {
   "cell_type": "code",
   "execution_count": 42,
   "id": "42e9f7fb",
   "metadata": {},
   "outputs": [],
   "source": [
    "cawitems = caw_dist.most_common(50)\n",
    "cwitems = cw_dist.most_common(50)"
   ]
  },
  {
   "cell_type": "code",
   "execution_count": 43,
   "id": "580bc1c1",
   "metadata": {},
   "outputs": [
    {
     "name": "stdout",
     "output_type": "stream",
     "text": [
      "('the', 1616)\n",
      "('and', 810)\n",
      "('to', 720)\n",
      "('a', 631)\n",
      "('she', 544)\n",
      "('it', 539)\n",
      "('i', 533)\n",
      "('of', 499)\n",
      "('said', 462)\n",
      "('alice', 396)\n",
      "('was', 366)\n",
      "('in', 359)\n",
      "('you', 356)\n",
      "('that', 284)\n",
      "('as', 256)\n",
      "('her', 248)\n",
      "('at', 209)\n",
      "(\"n't\", 204)\n",
      "(\"'s\", 194)\n",
      "('on', 191)\n",
      "('had', 184)\n",
      "('with', 179)\n",
      "('all', 178)\n",
      "('be', 148)\n",
      "('for', 146)\n",
      "('so', 144)\n",
      "('very', 139)\n",
      "('not', 135)\n",
      "('they', 135)\n",
      "('but', 131)\n",
      "('this', 131)\n",
      "('little', 128)\n",
      "('do', 125)\n",
      "('he', 117)\n",
      "('is', 113)\n",
      "('out', 113)\n",
      "('what', 103)\n",
      "('down', 102)\n",
      "('one', 99)\n",
      "('up', 97)\n",
      "('his', 95)\n",
      "('about', 94)\n",
      "('would', 90)\n",
      "('them', 88)\n",
      "('know', 88)\n",
      "('there', 87)\n",
      "('could', 86)\n",
      "('were', 86)\n",
      "('like', 85)\n",
      "('have', 84)\n"
     ]
    }
   ],
   "source": [
    "for item in cawitems:\n",
    "    print(item)"
   ]
  },
  {
   "cell_type": "code",
   "execution_count": 44,
   "id": "c16d740c",
   "metadata": {},
   "outputs": [
    {
     "name": "stdout",
     "output_type": "stream",
     "text": [
      "('the', 4962)\n",
      "('and', 2663)\n",
      "('of', 2554)\n",
      "('a', 2257)\n",
      "('to', 1580)\n",
      "('in', 1403)\n",
      "('he', 1326)\n",
      "('that', 1167)\n",
      "('it', 1136)\n",
      "('you', 1066)\n",
      "('i', 998)\n",
      "('was', 929)\n",
      "('his', 920)\n",
      "('with', 815)\n",
      "('is', 727)\n",
      "('as', 692)\n",
      "('said', 652)\n",
      "('but', 559)\n",
      "('had', 556)\n",
      "('turnbull', 544)\n",
      "('not', 519)\n",
      "('at', 463)\n",
      "('they', 455)\n",
      "('for', 452)\n",
      "('on', 452)\n",
      "('macian', 425)\n",
      "('be', 408)\n",
      "('or', 399)\n",
      "('all', 387)\n",
      "('have', 385)\n",
      "('this', 370)\n",
      "('him', 339)\n",
      "('man', 336)\n",
      "('we', 336)\n",
      "('if', 336)\n",
      "('are', 333)\n",
      "('like', 326)\n",
      "('which', 325)\n",
      "('were', 317)\n",
      "('an', 316)\n",
      "('one', 316)\n",
      "('up', 294)\n",
      "('by', 292)\n",
      "(\"'s\", 285)\n",
      "('do', 282)\n",
      "('there', 280)\n",
      "('what', 267)\n",
      "('out', 248)\n",
      "('from', 246)\n",
      "('then', 238)\n"
     ]
    }
   ],
   "source": [
    "for item in cwitems:\n",
    "    print(item)"
   ]
  },
  {
   "cell_type": "code",
   "execution_count": 45,
   "id": "9527e590",
   "metadata": {},
   "outputs": [],
   "source": [
    "nltkstopwords = nltk.corpus.stopwords.words('english')"
   ]
  },
  {
   "cell_type": "code",
   "execution_count": 46,
   "id": "c64701a4",
   "metadata": {},
   "outputs": [],
   "source": [
    "stoppedcawwords = [w for w in alphacaralicewords if not w in nltkstopwords]\n",
    "stoppedcwwords = [w for w in alphachestertonwords if not w in nltkstopwords]"
   ]
  },
  {
   "cell_type": "code",
   "execution_count": 47,
   "id": "2cb22e6c",
   "metadata": {},
   "outputs": [],
   "source": [
    "cawdiststopped = FD(stoppedcawwords)\n",
    "cwdiststopped = FD(stoppedcwwords)"
   ]
  },
  {
   "cell_type": "code",
   "execution_count": 48,
   "id": "95d3c797",
   "metadata": {},
   "outputs": [],
   "source": [
    "cawitemsstopped = cawdiststopped.most_common(50)\n",
    "cwitemsstopped = cwdiststopped.most_common(50)"
   ]
  },
  {
   "cell_type": "code",
   "execution_count": 49,
   "id": "38611cc4",
   "metadata": {},
   "outputs": [
    {
     "name": "stdout",
     "output_type": "stream",
     "text": [
      "('said', 462)\n",
      "('alice', 396)\n",
      "(\"n't\", 204)\n",
      "(\"'s\", 194)\n",
      "('little', 128)\n",
      "('one', 99)\n",
      "('would', 90)\n",
      "('know', 88)\n",
      "('could', 86)\n",
      "('like', 85)\n",
      "('went', 83)\n",
      "('queen', 75)\n",
      "('thought', 74)\n",
      "('time', 68)\n",
      "('see', 67)\n",
      "('king', 62)\n",
      "('began', 58)\n",
      "('turtle', 58)\n",
      "(\"'and\", 56)\n",
      "(\"'m\", 56)\n",
      "('hatter', 56)\n",
      "('mock', 56)\n",
      "('quite', 55)\n",
      "(\"'it\", 55)\n",
      "('gryphon', 54)\n",
      "('think', 53)\n",
      "('way', 53)\n",
      "(\"'ll\", 52)\n",
      "('much', 51)\n",
      "('say', 51)\n",
      "('first', 50)\n",
      "('head', 50)\n",
      "(\"'you\", 50)\n",
      "('thing', 49)\n",
      "('go', 48)\n",
      "('voice', 48)\n",
      "('rabbit', 47)\n",
      "('looked', 45)\n",
      "('never', 45)\n",
      "('got', 45)\n",
      "('get', 44)\n",
      "('must', 44)\n",
      "('mouse', 42)\n",
      "('duchess', 42)\n",
      "('round', 41)\n",
      "('came', 40)\n",
      "('tone', 40)\n",
      "('dormouse', 40)\n",
      "('great', 39)\n",
      "(\"'ve\", 39)\n"
     ]
    }
   ],
   "source": [
    "for item in cawitemsstopped:\n",
    "    print(item)"
   ]
  },
  {
   "cell_type": "code",
   "execution_count": 50,
   "id": "d2719929",
   "metadata": {},
   "outputs": [
    {
     "name": "stdout",
     "output_type": "stream",
     "text": [
      "('said', 652)\n",
      "('turnbull', 544)\n",
      "('macian', 425)\n",
      "('man', 336)\n",
      "('like', 326)\n",
      "('one', 316)\n",
      "(\"'s\", 285)\n",
      "(\"n't\", 178)\n",
      "('two', 177)\n",
      "('us', 162)\n",
      "('quite', 144)\n",
      "('would', 143)\n",
      "('even', 140)\n",
      "('evan', 140)\n",
      "('know', 139)\n",
      "('god', 136)\n",
      "('face', 134)\n",
      "('little', 129)\n",
      "('say', 127)\n",
      "('seemed', 121)\n",
      "('could', 120)\n",
      "('see', 119)\n",
      "('really', 116)\n",
      "('thing', 113)\n",
      "('world', 112)\n",
      "('something', 112)\n",
      "('still', 105)\n",
      "('looked', 104)\n",
      "('come', 104)\n",
      "('made', 103)\n",
      "('men', 102)\n",
      "('voice', 102)\n",
      "('long', 100)\n",
      "('well', 98)\n",
      "('cried', 97)\n",
      "('may', 97)\n",
      "('upon', 95)\n",
      "('went', 95)\n",
      "('back', 94)\n",
      "('almost', 94)\n",
      "('think', 94)\n",
      "('old', 92)\n",
      "('saw', 92)\n",
      "('head', 91)\n",
      "('came', 90)\n",
      "('time', 87)\n",
      "('eyes', 87)\n",
      "('garden', 86)\n",
      "('first', 86)\n",
      "('mr.', 85)\n"
     ]
    }
   ],
   "source": [
    "for item in cwitemsstopped:\n",
    "    print(item)"
   ]
  },
  {
   "cell_type": "code",
   "execution_count": 53,
   "id": "956de05d",
   "metadata": {},
   "outputs": [],
   "source": [
    "finder_caw.apply_word_filter(alpha_filter)\n",
    "finder_cw.apply_word_filter(alpha_filter)"
   ]
  },
  {
   "cell_type": "code",
   "execution_count": 54,
   "id": "a265e66c",
   "metadata": {},
   "outputs": [],
   "source": [
    "scored_caw = finder_caw.score_ngrams(bigram_measures.raw_freq)\n",
    "scored_cw = finder_cw.score_ngrams(bigram_measures.raw_freq)"
   ]
  },
  {
   "cell_type": "code",
   "execution_count": 55,
   "id": "97cba633",
   "metadata": {},
   "outputs": [
    {
     "name": "stdout",
     "output_type": "stream",
     "text": [
      "(('said', 'the'), 0.006180211381142891)\n",
      "(('of', 'the'), 0.0038215799844748314)\n",
      "(('said', 'alice'), 0.003433450767301606)\n",
      "(('in', 'a'), 0.0028960410819848332)\n",
      "(('and', 'the'), 0.00235863139666806)\n",
      "(('in', 'the'), 0.0023287753030393505)\n",
      "(('it', 'was'), 0.0021794948348958024)\n",
      "(('the', 'queen'), 0.0020600704603809636)\n",
      "(('to', 'the'), 0.0020600704603809636)\n",
      "(('as', 'she'), 0.0018212217113512867)\n",
      "(('the', 'king'), 0.0018212217113512867)\n",
      "(('at', 'the'), 0.0017913656177225771)\n",
      "(('she', 'had'), 0.0017913656177225771)\n",
      "(('a', 'little'), 0.0017615095240938676)\n",
      "(('i', \"'m\"), 0.0016719412432077386)\n",
      "(('she', 'was'), 0.0016719412432077386)\n",
      "(('mock', 'turtle'), 0.001642085149579029)\n",
      "(('and', 'she'), 0.0015823729623216098)\n",
      "(('the', 'mock'), 0.0015823729623216098)\n",
      "(('do', \"n't\"), 0.0015525168686929003)\n",
      "(('the', 'gryphon'), 0.0015525168686929003)\n",
      "(('the', 'hatter'), 0.0015525168686929003)\n",
      "(('to', 'be'), 0.0015226607750641907)\n",
      "(('went', 'on'), 0.0014330924941780617)\n",
      "(('to', 'herself'), 0.001343524213291933)\n",
      "(('you', 'know'), 0.0012838120260345136)\n",
      "(('the', 'duchess'), 0.0011942437451483848)\n",
      "(('said', 'to'), 0.0011643876515196752)\n",
      "(('out', 'of'), 0.0011046754642622559)\n",
      "(('i', 'do'), 0.0010748193706335463)\n",
      "(('there', 'was'), 0.0010449632770048367)\n",
      "(('on', 'the'), 0.0010151071833761271)\n",
      "(('she', 'said'), 0.0010151071833761271)\n",
      "(('the', 'dormouse'), 0.0010151071833761271)\n",
      "(('she', 'could'), 0.0009852510897474175)\n",
      "(('with', 'the'), 0.0009852510897474175)\n",
      "(('i', \"'ve\"), 0.0009553949961187078)\n",
      "(('it', \"'s\"), 0.0009553949961187078)\n",
      "(('that', 'she'), 0.0009553949961187078)\n",
      "(('and', 'then'), 0.0009255389024899983)\n",
      "(('march', 'hare'), 0.0009255389024899983)\n",
      "(('was', 'a'), 0.0009255389024899983)\n",
      "(('the', 'other'), 0.0008956828088612886)\n",
      "(('she', 'went'), 0.000865826715232579)\n",
      "(('so', 'she'), 0.000865826715232579)\n",
      "(('the', 'march'), 0.000865826715232579)\n",
      "(('did', 'not'), 0.0008359706216038693)\n",
      "(('the', 'mouse'), 0.0008359706216038693)\n",
      "(('to', 'her'), 0.0008359706216038693)\n",
      "(('i', \"'ll\"), 0.0008061145279751597)\n"
     ]
    }
   ],
   "source": [
    "for bscore in scored_caw[:50]:\n",
    "    print(bscore)"
   ]
  },
  {
   "cell_type": "code",
   "execution_count": 56,
   "id": "1562fde2",
   "metadata": {},
   "outputs": [
    {
     "name": "stdout",
     "output_type": "stream",
     "text": [
      "(('of', 'the'), 0.006324297643042244)\n",
      "(('in', 'the'), 0.004133931142281272)\n",
      "(('with', 'a'), 0.0022932006087779196)\n",
      "(('and', 'the'), 0.001994981695528773)\n",
      "(('it', 'was'), 0.0019641314631236887)\n",
      "(('in', 'a'), 0.001953848052321994)\n",
      "(('it', 'is'), 0.0018407305335033524)\n",
      "(('to', 'the'), 0.0018201637118999629)\n",
      "(('of', 'a'), 0.0016247789066677636)\n",
      "(('he', 'said'), 0.0015322282094525112)\n",
      "(('he', 'had'), 0.001501377977047427)\n",
      "(('he', 'was'), 0.0014910945662457325)\n",
      "(('with', 'the'), 0.0014191106906338694)\n",
      "(('at', 'the'), 0.001367693636625396)\n",
      "(('on', 'the'), 0.001295709761013533)\n",
      "(('the', 'other'), 0.0012854263502118384)\n",
      "(('to', 'be'), 0.0012854263502118384)\n",
      "(('i', 'am'), 0.0012751429394101436)\n",
      "(('like', 'a'), 0.0012545761178067542)\n",
      "(('said', 'turnbull'), 0.0012340092962033647)\n",
      "(('said', 'the'), 0.0012237258854016701)\n",
      "(('all', 'the'), 0.0011003249557813336)\n",
      "(('of', 'his'), 0.001018057669367776)\n",
      "(('as', 'if'), 0.0009872074369626919)\n",
      "(('and', 'he'), 0.000976924026160997)\n",
      "(('is', 'a'), 0.0009357903829542183)\n",
      "(('in', 'his'), 0.0009049401505491342)\n",
      "(('was', 'a'), 0.0009049401505491342)\n",
      "(('a', 'man'), 0.0008843733289457447)\n",
      "(('into', 'the'), 0.0008843733289457447)\n",
      "(('out', 'of'), 0.0008843733289457447)\n",
      "(('you', 'are'), 0.0008843733289457447)\n",
      "(('that', 'the'), 0.00087408991814405)\n",
      "(('said', 'macian'), 0.0008535230965406606)\n",
      "(('by', 'the'), 0.0008432396857389659)\n",
      "(('do', \"n't\"), 0.0008432396857389659)\n",
      "(('if', 'you'), 0.0008432396857389659)\n",
      "(('i', 'have'), 0.000771255810127103)\n",
      "(('from', 'the'), 0.0007404055777220188)\n",
      "(('is', 'the'), 0.0007404055777220188)\n",
      "(('the', 'same'), 0.0007404055777220188)\n",
      "(('do', 'you'), 0.0007301221669203242)\n",
      "(('for', 'the'), 0.0007301221669203242)\n",
      "(('the', 'world'), 0.0007301221669203242)\n",
      "(('sort', 'of'), 0.0007198387561186294)\n",
      "(('that', 'he'), 0.0007198387561186294)\n",
      "(('and', 'i'), 0.0007095553453169347)\n",
      "(('one', 'of'), 0.0007095553453169347)\n",
      "(('the', 'man'), 0.00069927193451524)\n",
      "(('they', 'had'), 0.00069927193451524)\n"
     ]
    }
   ],
   "source": [
    "for bscore in scored_cw[:50]:\n",
    "    print(bscore)"
   ]
  },
  {
   "cell_type": "code",
   "execution_count": 61,
   "id": "d173b29e",
   "metadata": {},
   "outputs": [],
   "source": [
    "finder_caw.apply_word_filter(lambda w: w in stoppedcawwords)\n",
    "finder_caw.apply_word_filter(lambda w: w in stoppedcwwords)"
   ]
  },
  {
   "cell_type": "code",
   "execution_count": 62,
   "id": "b617ab96",
   "metadata": {},
   "outputs": [],
   "source": [
    "scored_caw = finder_caw.score_ngrams(bigram_measures.raw_freq)\n",
    "scored_cw = finder_cw.score_ngrams(bigram_measures.raw_freq)"
   ]
  },
  {
   "cell_type": "code",
   "execution_count": 63,
   "id": "a7750cb7",
   "metadata": {},
   "outputs": [
    {
     "name": "stdout",
     "output_type": "stream",
     "text": [
      "(('of', 'the'), 0.0038215799844748314)\n",
      "(('in', 'a'), 0.0028960410819848332)\n",
      "(('and', 'the'), 0.00235863139666806)\n",
      "(('in', 'the'), 0.0023287753030393505)\n",
      "(('it', 'was'), 0.0021794948348958024)\n",
      "(('to', 'the'), 0.0020600704603809636)\n",
      "(('as', 'she'), 0.0018212217113512867)\n",
      "(('at', 'the'), 0.0017913656177225771)\n",
      "(('she', 'had'), 0.0017913656177225771)\n",
      "(('she', 'was'), 0.0016719412432077386)\n",
      "(('and', 'she'), 0.0015823729623216098)\n",
      "(('to', 'be'), 0.0015226607750641907)\n",
      "(('to', 'herself'), 0.001343524213291933)\n",
      "(('out', 'of'), 0.0011046754642622559)\n",
      "(('i', 'do'), 0.0010748193706335463)\n",
      "(('there', 'was'), 0.0010449632770048367)\n",
      "(('on', 'the'), 0.0010151071833761271)\n",
      "(('with', 'the'), 0.0009852510897474175)\n",
      "(('that', 'she'), 0.0009553949961187078)\n",
      "(('and', 'then'), 0.0009255389024899983)\n",
      "(('was', 'a'), 0.0009255389024899983)\n",
      "(('the', 'other'), 0.0008956828088612886)\n",
      "(('so', 'she'), 0.000865826715232579)\n",
      "(('did', 'not'), 0.0008359706216038693)\n",
      "(('to', 'her'), 0.0008359706216038693)\n",
      "(('such', 'a'), 0.0008061145279751597)\n",
      "(('with', 'a'), 0.0008061145279751597)\n",
      "(('all', 'the'), 0.0007762584343464501)\n",
      "(('a', 'very'), 0.0007464023407177404)\n",
      "(('at', 'all'), 0.0007464023407177404)\n",
      "(('into', 'the'), 0.0007165462470890309)\n",
      "(('that', 'it'), 0.0006866901534603213)\n",
      "(('but', 'she'), 0.0006568340598316116)\n",
      "(('by', 'the'), 0.0006568340598316116)\n",
      "(('as', 'it'), 0.000626977966202902)\n",
      "(('the', 'same'), 0.000626977966202902)\n",
      "(('i', 'should'), 0.0005971218725741924)\n",
      "(('of', 'a'), 0.0005971218725741924)\n",
      "(('to', 'do'), 0.0005971218725741924)\n",
      "(('up', 'and'), 0.0005971218725741924)\n",
      "(('and', 'was'), 0.0005672657789454827)\n",
      "(('was', 'the'), 0.0005672657789454827)\n",
      "(('when', 'she'), 0.0005672657789454827)\n",
      "(('about', 'it'), 0.0005374096853167731)\n",
      "(('as', 'the'), 0.0005374096853167731)\n",
      "(('at', 'once'), 0.0005374096853167731)\n",
      "(('had', 'been'), 0.0005374096853167731)\n",
      "(('of', 'it'), 0.0005374096853167731)\n",
      "(('for', 'the'), 0.0005075535916880636)\n",
      "(('if', 'i'), 0.0005075535916880636)\n"
     ]
    }
   ],
   "source": [
    "for bscore in scored_caw[:50]:\n",
    "    print(bscore)"
   ]
  },
  {
   "cell_type": "code",
   "execution_count": 64,
   "id": "69173c0e",
   "metadata": {},
   "outputs": [],
   "source": [
    "finder_caw_pmi = BigramCollocationFinder.from_words(caralicewords)\n",
    "finder_cw_pmi = BigramCollocationFinder.from_words(chestertonwords)"
   ]
  },
  {
   "cell_type": "code",
   "execution_count": 65,
   "id": "772b534e",
   "metadata": {},
   "outputs": [],
   "source": [
    "scored_caw_pmi = finder_caw_pmi.score_ngrams(bigram_measures.pmi)\n",
    "scored_cw_pmi = finder_cw_pmi.score_ngrams(bigram_measures.pmi)"
   ]
  },
  {
   "cell_type": "code",
   "execution_count": 66,
   "id": "30f14301",
   "metadata": {},
   "outputs": [
    {
     "name": "stdout",
     "output_type": "stream",
     "text": [
      "((\"'any\", 'shrimp'), 15.03161505883576)\n",
      "((\"'cheshire\", 'puss'), 15.03161505883576)\n",
      "((\"'orange\", 'marmalade'), 15.03161505883576)\n",
      "((\"'ou\", 'est'), 15.03161505883576)\n",
      "((\"'rule\", 'forty-two'), 15.03161505883576)\n",
      "((\"'seven\", 'jogged'), 15.03161505883576)\n",
      "((\"'than\", 'waste'), 15.03161505883576)\n",
      "((\"'with\", 'extras'), 15.03161505883576)\n",
      "(('abide', 'figures'), 15.03161505883576)\n",
      "(('barking', 'hoarsely'), 15.03161505883576)\n",
      "(('bathing', 'machines'), 15.03161505883576)\n",
      "(('bright-eyed', 'terrier'), 15.03161505883576)\n",
      "(('buttered', 'toast'), 15.03161505883576)\n",
      "(('canvas', 'bag'), 15.03161505883576)\n",
      "(('carroll', '1865'), 15.03161505883576)\n",
      "(('crocodile', 'improve'), 15.03161505883576)\n",
      "(('daresay', \"it's\"), 15.03161505883576)\n",
      "(('deepest', 'contempt'), 15.03161505883576)\n",
      "(('draggled', 'feathers'), 15.03161505883576)\n",
      "(('edgar', 'atheling'), 15.03161505883576)\n",
      "(('energetic', 'remedies'), 15.03161505883576)\n",
      "(('exact', 'shape'), 15.03161505883576)\n",
      "(('fair', 'warning'), 15.03161505883576)\n",
      "(('feather', 'flock'), 15.03161505883576)\n",
      "(('graceful', 'zigzag'), 15.03161505883576)\n",
      "(('hundred', 'pounds'), 15.03161505883576)\n",
      "(('immediate', 'adoption'), 15.03161505883576)\n",
      "(('immense', 'length'), 15.03161505883576)\n",
      "(('labelled', \"'orange\"), 15.03161505883576)\n",
      "(('latin', 'grammar'), 15.03161505883576)\n",
      "(('lewis', 'carroll'), 15.03161505883576)\n",
      "(('lodging', 'houses'), 15.03161505883576)\n",
      "(('meeting', 'adjourn'), 15.03161505883576)\n",
      "(('muscular', 'strength'), 15.03161505883576)\n",
      "(('never-ending', 'meal'), 15.03161505883576)\n",
      "(('occasional', 'exclamation'), 15.03161505883576)\n",
      "(('positively', 'refused'), 15.03161505883576)\n",
      "(('prosecute', 'you.'), 15.03161505883576)\n",
      "(('reasonable', 'pace'), 15.03161505883576)\n",
      "(('red-hot', 'poker'), 15.03161505883576)\n",
      "(('riper', 'years'), 15.03161505883576)\n",
      "(('roast', 'turkey'), 15.03161505883576)\n",
      "(('saucepan', 'flew'), 15.03161505883576)\n",
      "(('shedding', 'gallons'), 15.03161505883576)\n",
      "(('sneezed', 'occasionally'), 15.03161505883576)\n",
      "(('splendidly', 'dressed'), 15.03161505883576)\n",
      "(('thank', 'ye'), 15.03161505883576)\n",
      "(('tide', 'rises'), 15.03161505883576)\n",
      "(('tinkling', 'sheep-bells'), 15.03161505883576)\n",
      "(('tittered', 'audibly'), 15.03161505883576)\n"
     ]
    }
   ],
   "source": [
    "for bscore in scored_caw_pmi[:50]:\n",
    "    print(bscore)"
   ]
  },
  {
   "cell_type": "code",
   "execution_count": 67,
   "id": "26b55713",
   "metadata": {},
   "outputs": [
    {
     "name": "stdout",
     "output_type": "stream",
     "text": [
      "((\"'ampstead\", \"'eath\"), 16.569321617439694)\n",
      "(('10', '1991'), 16.569321617439694)\n",
      "(('1000', '1997'), 16.569321617439694)\n",
      "(('10000', '2004'), 16.569321617439694)\n",
      "(('113', '1739'), 16.569321617439694)\n",
      "(('1500', '1998'), 16.569321617439694)\n",
      "(('1739', 'university'), 16.569321617439694)\n",
      "(('1971', 'july'), 16.569321617439694)\n",
      "(('1997', 'august'), 16.569321617439694)\n",
      "(('1998', 'october'), 16.569321617439694)\n",
      "(('9000', '2003'), 16.569321617439694)\n",
      "(('_altiora', 'peto_'), 16.569321617439694)\n",
      "(('_idee', 'fixe_'), 16.569321617439694)\n",
      "(('_natura', 'naturans_'), 16.569321617439694)\n",
      "(('_vae', 'victis'), 16.569321617439694)\n",
      "(('_virgin', 'martyr_'), 16.569321617439694)\n",
      "(('absent', 'minded'), 16.569321617439694)\n",
      "(('abstractedly', 'boring'), 16.569321617439694)\n",
      "(('accommodated', 'indoors'), 16.569321617439694)\n",
      "(('adult', 'reformatory'), 16.569321617439694)\n",
      "(('adverse', 'theories'), 16.569321617439694)\n",
      "(('albert', 'memorial'), 16.569321617439694)\n",
      "(('angler', 'stares'), 16.569321617439694)\n",
      "(('applaud', 'tyrannicide'), 16.569321617439694)\n",
      "(('applicable', 'taxes'), 16.569321617439694)\n",
      "(('architectural', 'arrangement'), 16.569321617439694)\n",
      "(('assyrian', 'bas-reliefs'), 16.569321617439694)\n",
      "(('astonishing', 'transparency'), 16.569321617439694)\n",
      "(('august', '1500'), 16.569321617439694)\n",
      "(('barren', 'steeps'), 16.569321617439694)\n",
      "(('bearing', 'witness'), 16.569321617439694)\n",
      "(('beetle', 'strayed'), 16.569321617439694)\n",
      "(('ben', 'crowder'), 16.569321617439694)\n",
      "(('bile', 'beans'), 16.569321617439694)\n",
      "(('black-and-white', 'beads'), 16.569321617439694)\n",
      "(('black-haired', 'skull'), 16.569321617439694)\n",
      "(('blackcoated', 'bustle'), 16.569321617439694)\n",
      "(('bllcr10.zip', 'corrected'), 16.569321617439694)\n",
      "(('bllcr11.txt', 'versions'), 16.569321617439694)\n",
      "(('boorish', 'moralities'), 16.569321617439694)\n",
      "(('bourgeois', 'speaks'), 16.569321617439694)\n",
      "(('bulging', 'bravery'), 16.569321617439694)\n",
      "(('californian', 'tourist'), 16.569321617439694)\n",
      "(('captured', 'coach'), 16.569321617439694)\n",
      "(('cardinal', 'manning'), 16.569321617439694)\n",
      "(('carthage', '_was_'), 16.569321617439694)\n",
      "(('chartered', 'lunacies'), 16.569321617439694)\n",
      "(('constables', 'attended'), 16.569321617439694)\n",
      "(('continual', 'tournament'), 16.569321617439694)\n",
      "(('contributing', 'scanning'), 16.569321617439694)\n"
     ]
    }
   ],
   "source": [
    "for bscore in scored_cw_pmi[:50]:\n",
    "    print(bscore)"
   ]
  },
  {
   "cell_type": "code",
   "execution_count": null,
   "id": "fb18e863",
   "metadata": {},
   "outputs": [],
   "source": []
  }
 ],
 "metadata": {
  "kernelspec": {
   "display_name": "Python 3 (ipykernel)",
   "language": "python",
   "name": "python3"
  },
  "language_info": {
   "codemirror_mode": {
    "name": "ipython",
    "version": 3
   },
   "file_extension": ".py",
   "mimetype": "text/x-python",
   "name": "python",
   "nbconvert_exporter": "python",
   "pygments_lexer": "ipython3",
   "version": "3.9.7"
  }
 },
 "nbformat": 4,
 "nbformat_minor": 5
}
