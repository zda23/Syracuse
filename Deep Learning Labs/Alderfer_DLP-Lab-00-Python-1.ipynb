{
 "cells": [
  {
   "cell_type": "markdown",
   "metadata": {
    "id": "ZhpnJImyZcV-"
   },
   "source": [
    "## Basic Python"
   ]
  },
  {
   "cell_type": "markdown",
   "metadata": {
    "id": "AG4pKm_lQiGN"
   },
   "source": [
    "### Create a few variables"
   ]
  },
  {
   "cell_type": "code",
   "execution_count": 1,
   "metadata": {
    "colab": {
     "base_uri": "https://localhost:8080/"
    },
    "executionInfo": {
     "elapsed": 3,
     "status": "ok",
     "timestamp": 1692220362386,
     "user": {
      "displayName": "Christopher Dunham",
      "userId": "05514182182652963797"
     },
     "user_tz": 240
    },
    "id": "Ew6dBxiQQou8",
    "outputId": "cf378697-bc57-41b5-f775-61bc0f5f539c"
   },
   "outputs": [
    {
     "name": "stdout",
     "output_type": "stream",
     "text": [
      "x = 3\n",
      "y = 5\n",
      "product = 15\n",
      "new product = 30\n"
     ]
    }
   ],
   "source": [
    "# define a couple of variables\n",
    "x = 3\n",
    "print('x =', x)\n",
    "\n",
    "y = 5\n",
    "print('y =', y)\n",
    "\n",
    "# compute a product\n",
    "product = x * y\n",
    "print('product =', product)\n",
    "\n",
    "# change one of the variables and compute a new product\n",
    "y = 10\n",
    "product = x * y\n",
    "print('new product =', product)"
   ]
  },
  {
   "cell_type": "markdown",
   "metadata": {
    "application/vnd.databricks.v1+cell": {
     "cellMetadata": {},
     "inputWidgets": {},
     "nuid": "45525765-db7e-4001-8b9a-c4cc5e804c57",
     "showTitle": false,
     "title": ""
    },
    "id": "IDOyLC68QJ2b"
   },
   "source": [
    "### Basic types"
   ]
  },
  {
   "cell_type": "markdown",
   "metadata": {
    "application/vnd.databricks.v1+cell": {
     "cellMetadata": {},
     "inputWidgets": {},
     "nuid": "3d8878ac-e916-452b-a7ef-3ca90a8e8cdf",
     "showTitle": false,
     "title": ""
    },
    "id": "ujB5I2yPQJ2b"
   },
   "source": [
    "You can check the type of a variable using `type`."
   ]
  },
  {
   "cell_type": "code",
   "execution_count": 2,
   "metadata": {
    "application/vnd.databricks.v1+cell": {
     "cellMetadata": {
      "byteLimit": 2048000,
      "rowLimit": 10000
     },
     "inputWidgets": {},
     "nuid": "53ab693d-7771-48ba-93f3-3b358bb6f5f7",
     "showTitle": false,
     "title": ""
    },
    "id": "GlxY3gKPQJ2c"
   },
   "outputs": [
    {
     "data": {
      "text/plain": [
       "int"
      ]
     },
     "execution_count": 2,
     "metadata": {},
     "output_type": "execute_result"
    }
   ],
   "source": [
    "type(1)"
   ]
  },
  {
   "cell_type": "code",
   "execution_count": 3,
   "metadata": {
    "application/vnd.databricks.v1+cell": {
     "cellMetadata": {
      "byteLimit": 2048000,
      "rowLimit": 10000
     },
     "inputWidgets": {},
     "nuid": "d7732696-0404-47dc-bda1-12ab4f046a84",
     "showTitle": false,
     "title": ""
    },
    "id": "TYBVZTg9QJ2c"
   },
   "outputs": [
    {
     "data": {
      "text/plain": [
       "float"
      ]
     },
     "execution_count": 3,
     "metadata": {},
     "output_type": "execute_result"
    }
   ],
   "source": [
    "type(1.0)"
   ]
  },
  {
   "cell_type": "code",
   "execution_count": 4,
   "metadata": {
    "application/vnd.databricks.v1+cell": {
     "cellMetadata": {
      "byteLimit": 2048000,
      "rowLimit": 10000
     },
     "inputWidgets": {},
     "nuid": "2f053321-3ab3-497a-b858-64ac57713b2c",
     "showTitle": false,
     "title": ""
    },
    "id": "pSAxWaA6QJ2d"
   },
   "outputs": [
    {
     "data": {
      "text/plain": [
       "str"
      ]
     },
     "execution_count": 4,
     "metadata": {},
     "output_type": "execute_result"
    }
   ],
   "source": [
    "type(\"4.5\")"
   ]
  },
  {
   "cell_type": "code",
   "execution_count": 5,
   "metadata": {
    "application/vnd.databricks.v1+cell": {
     "cellMetadata": {
      "byteLimit": 2048000,
      "rowLimit": 10000
     },
     "inputWidgets": {},
     "nuid": "1251c77e-dc01-4cd3-8636-525f383099f9",
     "showTitle": false,
     "title": ""
    },
    "id": "lmjUWH5HQJ2d"
   },
   "outputs": [
    {
     "data": {
      "text/plain": [
       "bool"
      ]
     },
     "execution_count": 5,
     "metadata": {},
     "output_type": "execute_result"
    }
   ],
   "source": [
    "type(True)"
   ]
  },
  {
   "cell_type": "code",
   "execution_count": 6,
   "metadata": {
    "application/vnd.databricks.v1+cell": {
     "cellMetadata": {
      "byteLimit": 2048000,
      "rowLimit": 10000
     },
     "inputWidgets": {},
     "nuid": "e9fe0e99-0d36-44ce-a9fc-a367edc94266",
     "showTitle": false,
     "title": ""
    },
    "id": "Fj8yDCemQJ2d"
   },
   "outputs": [
    {
     "data": {
      "text/plain": [
       "list"
      ]
     },
     "execution_count": 6,
     "metadata": {},
     "output_type": "execute_result"
    }
   ],
   "source": [
    "type([4.5])"
   ]
  },
  {
   "cell_type": "code",
   "execution_count": 7,
   "metadata": {
    "application/vnd.databricks.v1+cell": {
     "cellMetadata": {
      "byteLimit": 2048000,
      "rowLimit": 10000
     },
     "inputWidgets": {},
     "nuid": "dec54474-d119-4db1-850b-0894909e133c",
     "showTitle": false,
     "title": ""
    },
    "id": "y2Mv5kkMQJ2d"
   },
   "outputs": [
    {
     "data": {
      "text/plain": [
       "dict"
      ]
     },
     "execution_count": 7,
     "metadata": {},
     "output_type": "execute_result"
    }
   ],
   "source": [
    "type({'x': 4.5})"
   ]
  },
  {
   "cell_type": "code",
   "execution_count": 8,
   "metadata": {
    "application/vnd.databricks.v1+cell": {
     "cellMetadata": {
      "byteLimit": 2048000,
      "rowLimit": 10000
     },
     "inputWidgets": {},
     "nuid": "3bf2b94e-0215-403e-ba9b-276b9f3db7cd",
     "showTitle": false,
     "title": ""
    },
    "id": "rOQLuLZLQJ2e"
   },
   "outputs": [
    {
     "data": {
      "text/plain": [
       "tuple"
      ]
     },
     "execution_count": 8,
     "metadata": {},
     "output_type": "execute_result"
    }
   ],
   "source": [
    "type((1, 2, 3, 4))"
   ]
  },
  {
   "cell_type": "code",
   "execution_count": 9,
   "metadata": {
    "application/vnd.databricks.v1+cell": {
     "cellMetadata": {
      "byteLimit": 2048000,
      "rowLimit": 10000
     },
     "inputWidgets": {},
     "nuid": "06d62b83-7e53-46af-8545-9e163295dfd5",
     "showTitle": false,
     "title": ""
    },
    "id": "YmsxRW3QQJ2e"
   },
   "outputs": [
    {
     "data": {
      "text/plain": [
       "float"
      ]
     },
     "execution_count": 9,
     "metadata": {},
     "output_type": "execute_result"
    }
   ],
   "source": [
    "type((4.5))"
   ]
  },
  {
   "cell_type": "code",
   "execution_count": 10,
   "metadata": {
    "application/vnd.databricks.v1+cell": {
     "cellMetadata": {
      "byteLimit": 2048000,
      "rowLimit": 10000
     },
     "inputWidgets": {},
     "nuid": "3cb32cc2-3038-4041-9f5a-fdaf020d9b21",
     "showTitle": false,
     "title": ""
    },
    "id": "OqCSYPeQQJ2e"
   },
   "outputs": [
    {
     "data": {
      "text/plain": [
       "tuple"
      ]
     },
     "execution_count": 10,
     "metadata": {},
     "output_type": "execute_result"
    }
   ],
   "source": [
    "type((4.5, ))"
   ]
  },
  {
   "cell_type": "markdown",
   "metadata": {
    "id": "PCBNVAo0ReOb"
   },
   "source": [
    "### Values and references\n",
    "\n",
    "A **reference** type contains a pointer which points to an area in memory that contains data.  When we copy a reference, we make a copy of the pointer, not the data.  \n",
    "\n",
    "A **value** type contains the data (not a pointer to the data).  \n",
    "\n",
    "The difference between reference and value types can produce unexpected outcomes as illustrated in the cells below."
   ]
  },
  {
   "cell_type": "code",
   "execution_count": 11,
   "metadata": {
    "id": "QDuxyTOrRyAl"
   },
   "outputs": [
    {
     "name": "stdout",
     "output_type": "stream",
     "text": [
      "list1 = [1, 2, 3, 4, 5, 6]\n",
      "list2 = [1, 2, 3, 4, 5, 6]\n"
     ]
    }
   ],
   "source": [
    "# reference example using lists\n",
    "list1 = [1, 2, 3, 4, 5]\n",
    "list2 = list1\n",
    "list2.append(6)\n",
    "print('list1 =', list1)\n",
    "print('list2 =', list2)"
   ]
  },
  {
   "cell_type": "code",
   "execution_count": 12,
   "metadata": {
    "id": "87aRcuKfSBD3"
   },
   "outputs": [
    {
     "name": "stdout",
     "output_type": "stream",
     "text": [
      "list2 = [1, 2, 3, 4, 5, 6]\n",
      "list3 = [1, 2, 3, 4, 5, 6, 7]\n"
     ]
    }
   ],
   "source": [
    "# how to make a copy of a reference type\n",
    "list3 = list2.copy()\n",
    "list3.append(7)\n",
    "print('list2 =', list2)\n",
    "print('list3 =', list3)"
   ]
  },
  {
   "cell_type": "code",
   "execution_count": 13,
   "metadata": {
    "id": "ky5ulJhlSIMO"
   },
   "outputs": [
    {
     "name": "stdout",
     "output_type": "stream",
     "text": [
      "foo = 1\n",
      "bar = 2\n"
     ]
    }
   ],
   "source": [
    "# value example using ints\n",
    "foo = 1\n",
    "bar = foo\n",
    "bar = 2\n",
    "print(\"foo =\", foo)\n",
    "print(\"bar =\", bar)"
   ]
  },
  {
   "cell_type": "markdown",
   "metadata": {
    "id": "Z4YbEJoVSR_U"
   },
   "source": [
    "### Logical (Boolean) operators\n",
    "\n",
    "Python implements all of the usual operators for Boolean logic. Boolean operators operate on individual Boolean values."
   ]
  },
  {
   "cell_type": "code",
   "execution_count": 14,
   "metadata": {
    "id": "-wUGNxeCSxBd"
   },
   "outputs": [
    {
     "name": "stdout",
     "output_type": "stream",
     "text": [
      "False\n",
      "True\n",
      "False\n"
     ]
    }
   ],
   "source": [
    "print(True and False) # Logical AND;\n",
    "print(True or False)  # Logical OR;\n",
    "print(not True)   # Logical NOT;"
   ]
  },
  {
   "cell_type": "markdown",
   "metadata": {
    "application/vnd.databricks.v1+cell": {
     "cellMetadata": {},
     "inputWidgets": {},
     "nuid": "acab133e-6d65-4ffd-9a80-c992575dc2c2",
     "showTitle": false,
     "title": ""
    },
    "id": "fo_vufrFQJ2e"
   },
   "source": [
    "### Lists"
   ]
  },
  {
   "cell_type": "markdown",
   "metadata": {
    "application/vnd.databricks.v1+cell": {
     "cellMetadata": {},
     "inputWidgets": {},
     "nuid": "33144c94-e102-46c0-aa15-0e4837d41f38",
     "showTitle": false,
     "title": ""
    },
    "id": "GHzg14pjQJ2e"
   },
   "source": [
    "Lists are mutable structures that hold a list of arbitrary data types."
   ]
  },
  {
   "cell_type": "code",
   "execution_count": 16,
   "metadata": {
    "application/vnd.databricks.v1+cell": {
     "cellMetadata": {
      "byteLimit": 2048000,
      "rowLimit": 10000
     },
     "inputWidgets": {},
     "nuid": "b6d0c10b-1bc0-4fc9-9e27-84ebb8c6829d",
     "showTitle": false,
     "title": ""
    },
    "id": "wWWxelnKQJ2e"
   },
   "outputs": [],
   "source": [
    "x = [1, 2, 3]\n",
    "y = [1, \"1\", None]"
   ]
  },
  {
   "cell_type": "code",
   "execution_count": 17,
   "metadata": {
    "application/vnd.databricks.v1+cell": {
     "cellMetadata": {
      "byteLimit": 2048000,
      "rowLimit": 10000
     },
     "inputWidgets": {},
     "nuid": "af137c44-580e-4b0a-85ae-a7c8b3917303",
     "showTitle": false,
     "title": ""
    },
    "id": "pbduRGSQQJ2e"
   },
   "outputs": [
    {
     "data": {
      "text/plain": [
       "3"
      ]
     },
     "execution_count": 17,
     "metadata": {},
     "output_type": "execute_result"
    }
   ],
   "source": [
    "# length\n",
    "len(x)"
   ]
  },
  {
   "cell_type": "markdown",
   "metadata": {
    "application/vnd.databricks.v1+cell": {
     "cellMetadata": {},
     "inputWidgets": {},
     "nuid": "8ab0c532-96aa-4159-b6c5-3075f24e3a8c",
     "showTitle": false,
     "title": ""
    },
    "id": "QPSzcxJPQJ2e"
   },
   "source": [
    "You can append to a list."
   ]
  },
  {
   "cell_type": "code",
   "execution_count": 18,
   "metadata": {
    "application/vnd.databricks.v1+cell": {
     "cellMetadata": {
      "byteLimit": 2048000,
      "rowLimit": 10000
     },
     "inputWidgets": {},
     "nuid": "24ae0d39-0477-4ae6-8db9-dcf58db40360",
     "showTitle": false,
     "title": ""
    },
    "id": "cQKOzS_rQJ2e"
   },
   "outputs": [
    {
     "data": {
      "text/plain": [
       "[1, 2, 3, 4]"
      ]
     },
     "execution_count": 18,
     "metadata": {},
     "output_type": "execute_result"
    }
   ],
   "source": [
    "x.append(4)\n",
    "x"
   ]
  },
  {
   "cell_type": "markdown",
   "metadata": {
    "application/vnd.databricks.v1+cell": {
     "cellMetadata": {},
     "inputWidgets": {},
     "nuid": "3b88e8aa-b78d-4266-b9e3-6cdbf2d4af19",
     "showTitle": false,
     "title": ""
    },
    "id": "wi_rbRiKQJ2e"
   },
   "source": [
    "You can concatenate two lists."
   ]
  },
  {
   "cell_type": "code",
   "execution_count": 19,
   "metadata": {
    "application/vnd.databricks.v1+cell": {
     "cellMetadata": {
      "byteLimit": 2048000,
      "rowLimit": 10000
     },
     "inputWidgets": {},
     "nuid": "ad92c088-63ed-405a-a209-52ecf4b91df3",
     "showTitle": false,
     "title": ""
    },
    "id": "XU_04GFaQJ2e"
   },
   "outputs": [
    {
     "data": {
      "text/plain": [
       "[1, 2, 3, 4, 1, '1', None]"
      ]
     },
     "execution_count": 19,
     "metadata": {},
     "output_type": "execute_result"
    }
   ],
   "source": [
    "x + y"
   ]
  },
  {
   "cell_type": "markdown",
   "metadata": {
    "application/vnd.databricks.v1+cell": {
     "cellMetadata": {},
     "inputWidgets": {},
     "nuid": "32e17f38-8006-4951-8a20-01b776d03087",
     "showTitle": false,
     "title": ""
    },
    "id": "olsD55oIQJ2e"
   },
   "source": [
    "You can ask if an element belongs to a list."
   ]
  },
  {
   "cell_type": "code",
   "execution_count": 20,
   "metadata": {
    "application/vnd.databricks.v1+cell": {
     "cellMetadata": {
      "byteLimit": 2048000,
      "rowLimit": 10000
     },
     "inputWidgets": {},
     "nuid": "ad81ae38-6b3e-4276-b21b-4135b339fe24",
     "showTitle": false,
     "title": ""
    },
    "id": "z_fajgoWQJ2e"
   },
   "outputs": [
    {
     "data": {
      "text/plain": [
       "True"
      ]
     },
     "execution_count": 20,
     "metadata": {},
     "output_type": "execute_result"
    }
   ],
   "source": [
    "2 in x"
   ]
  },
  {
   "cell_type": "code",
   "execution_count": 21,
   "metadata": {
    "application/vnd.databricks.v1+cell": {
     "cellMetadata": {
      "byteLimit": 2048000,
      "rowLimit": 10000
     },
     "inputWidgets": {},
     "nuid": "92a8fec4-a324-4251-b704-852d6d4e1049",
     "showTitle": false,
     "title": ""
    },
    "id": "mdDPqpobQJ2e"
   },
   "outputs": [
    {
     "data": {
      "text/plain": [
       "False"
      ]
     },
     "execution_count": 21,
     "metadata": {},
     "output_type": "execute_result"
    }
   ],
   "source": [
    "-1 in x"
   ]
  },
  {
   "cell_type": "markdown",
   "metadata": {
    "application/vnd.databricks.v1+cell": {
     "cellMetadata": {},
     "inputWidgets": {},
     "nuid": "b8936339-2cf3-46a6-a73d-7cc61962c9bb",
     "showTitle": false,
     "title": ""
    },
    "id": "LK6mG5xSQJ2f"
   },
   "source": [
    "### Slicing\n",
    "\n",
    "You can index or \"slice\" a list by using the following notation:\n",
    "\n",
    "`x[start:stop:step]`: where `start` is the initial element of the slice, `stop` is the final element (until), and `step` is how many elements will skip to move from `start` until `stop`."
   ]
  },
  {
   "cell_type": "code",
   "execution_count": 22,
   "metadata": {
    "application/vnd.databricks.v1+cell": {
     "cellMetadata": {
      "byteLimit": 2048000,
      "rowLimit": 10000
     },
     "inputWidgets": {},
     "nuid": "c9d55185-6e6b-47a2-8945-7ab5abd4930e",
     "showTitle": false,
     "title": ""
    },
    "id": "zqmmUKU0QJ2f"
   },
   "outputs": [],
   "source": [
    "x = [1, 2, 3, 4]"
   ]
  },
  {
   "cell_type": "markdown",
   "metadata": {
    "application/vnd.databricks.v1+cell": {
     "cellMetadata": {},
     "inputWidgets": {},
     "nuid": "431e3cbc-98a0-43a4-b9ca-43af7155afde",
     "showTitle": false,
     "title": ""
    },
    "id": "Q-LxU38UQJ2f"
   },
   "source": [
    "Indices start from 0 and you can omit `stop` and `step`. Here is the first element of the list."
   ]
  },
  {
   "cell_type": "code",
   "execution_count": 23,
   "metadata": {
    "application/vnd.databricks.v1+cell": {
     "cellMetadata": {
      "byteLimit": 2048000,
      "rowLimit": 10000
     },
     "inputWidgets": {},
     "nuid": "d4de0059-9703-4369-ab0b-22b2c7ed26c7",
     "showTitle": false,
     "title": ""
    },
    "id": "6zRmxcGmQJ2f"
   },
   "outputs": [
    {
     "data": {
      "text/plain": [
       "1"
      ]
     },
     "execution_count": 23,
     "metadata": {},
     "output_type": "execute_result"
    }
   ],
   "source": [
    "x[0]"
   ]
  },
  {
   "cell_type": "markdown",
   "metadata": {
    "id": "HAxSXxBITSoV"
   },
   "source": [
    "The 4th element in the list is index '3' because we start from index '0'"
   ]
  },
  {
   "cell_type": "code",
   "execution_count": 24,
   "metadata": {
    "application/vnd.databricks.v1+cell": {
     "cellMetadata": {
      "byteLimit": 2048000,
      "rowLimit": 10000
     },
     "inputWidgets": {},
     "nuid": "74a43c89-b806-455e-8406-266b72c590ce",
     "showTitle": false,
     "title": ""
    },
    "id": "yWpHcq7bQJ2f"
   },
   "outputs": [
    {
     "data": {
      "text/plain": [
       "4"
      ]
     },
     "execution_count": 24,
     "metadata": {},
     "output_type": "execute_result"
    }
   ],
   "source": [
    "x[3]"
   ]
  },
  {
   "cell_type": "markdown",
   "metadata": {
    "id": "R8HsdHfTTGNQ"
   },
   "source": [
    "The entire list."
   ]
  },
  {
   "cell_type": "code",
   "execution_count": 25,
   "metadata": {
    "application/vnd.databricks.v1+cell": {
     "cellMetadata": {
      "byteLimit": 2048000,
      "rowLimit": 10000
     },
     "inputWidgets": {},
     "nuid": "75a3c10f-f6fe-4703-9555-84a3064e3f8d",
     "showTitle": false,
     "title": ""
    },
    "id": "BclPUEwjQJ2f"
   },
   "outputs": [
    {
     "data": {
      "text/plain": [
       "[1, 2, 3, 4]"
      ]
     },
     "execution_count": 25,
     "metadata": {},
     "output_type": "execute_result"
    }
   ],
   "source": [
    "x"
   ]
  },
  {
   "cell_type": "markdown",
   "metadata": {
    "id": "owecunlkTW9T"
   },
   "source": [
    "All elements are taken from `start` until `stop`, but not `stop`."
   ]
  },
  {
   "cell_type": "code",
   "execution_count": 26,
   "metadata": {
    "application/vnd.databricks.v1+cell": {
     "cellMetadata": {
      "byteLimit": 2048000,
      "rowLimit": 10000
     },
     "inputWidgets": {},
     "nuid": "d6c74e8e-7bba-4f35-8113-0d5ce85df46b",
     "showTitle": false,
     "title": ""
    },
    "id": "BVkCF0QLQJ2f"
   },
   "outputs": [
    {
     "data": {
      "text/plain": [
       "[1, 2, 3]"
      ]
     },
     "execution_count": 26,
     "metadata": {},
     "output_type": "execute_result"
    }
   ],
   "source": [
    "x[0:3]"
   ]
  },
  {
   "cell_type": "markdown",
   "metadata": {
    "application/vnd.databricks.v1+cell": {
     "cellMetadata": {},
     "inputWidgets": {},
     "nuid": "8dd21829-d3d8-4e45-8ed7-d3acad711314",
     "showTitle": false,
     "title": ""
    },
    "id": "SViRaDKcQJ2f"
   },
   "source": [
    "Take one every other element."
   ]
  },
  {
   "cell_type": "code",
   "execution_count": 27,
   "metadata": {
    "application/vnd.databricks.v1+cell": {
     "cellMetadata": {
      "byteLimit": 2048000,
      "rowLimit": 10000
     },
     "inputWidgets": {},
     "nuid": "f13c966d-2137-4079-a315-85625529eb66",
     "showTitle": false,
     "title": ""
    },
    "id": "_48ofVVdQJ2f"
   },
   "outputs": [
    {
     "data": {
      "text/plain": [
       "[1, 3]"
      ]
     },
     "execution_count": 27,
     "metadata": {},
     "output_type": "execute_result"
    }
   ],
   "source": [
    "x[0:3:2]"
   ]
  },
  {
   "cell_type": "markdown",
   "metadata": {
    "application/vnd.databricks.v1+cell": {
     "cellMetadata": {},
     "inputWidgets": {},
     "nuid": "4abeade9-7176-45e6-b101-9f054fc064aa",
     "showTitle": false,
     "title": ""
    },
    "id": "4V_NghtYQJ2f"
   },
   "source": [
    "A negative index indicates indexing from the end."
   ]
  },
  {
   "cell_type": "code",
   "execution_count": 28,
   "metadata": {
    "application/vnd.databricks.v1+cell": {
     "cellMetadata": {
      "byteLimit": 2048000,
      "rowLimit": 10000
     },
     "inputWidgets": {},
     "nuid": "740cbeed-01e5-4eae-ad85-ccc98fea5174",
     "showTitle": false,
     "title": ""
    },
    "id": "Sx_pw7l6QJ2f"
   },
   "outputs": [
    {
     "data": {
      "text/plain": [
       "4"
      ]
     },
     "execution_count": 28,
     "metadata": {},
     "output_type": "execute_result"
    }
   ],
   "source": [
    "x[-1]"
   ]
  },
  {
   "cell_type": "code",
   "execution_count": 29,
   "metadata": {
    "application/vnd.databricks.v1+cell": {
     "cellMetadata": {
      "byteLimit": 2048000,
      "rowLimit": 10000
     },
     "inputWidgets": {},
     "nuid": "84997ae3-cd6a-42cc-81ab-90c8d8d96595",
     "showTitle": false,
     "title": ""
    },
    "id": "REkXH0OUQJ2f"
   },
   "outputs": [
    {
     "data": {
      "text/plain": [
       "3"
      ]
     },
     "execution_count": 29,
     "metadata": {},
     "output_type": "execute_result"
    }
   ],
   "source": [
    "x[-2]"
   ]
  },
  {
   "cell_type": "markdown",
   "metadata": {
    "application/vnd.databricks.v1+cell": {
     "cellMetadata": {},
     "inputWidgets": {},
     "nuid": "67b7624a-605c-4b77-aaf2-fd2a3a4c1bc0",
     "showTitle": false,
     "title": ""
    },
    "id": "3jHKddv2QJ2f"
   },
   "source": [
    "Lets take the last three elements:  Start at -3 and go to the end."
   ]
  },
  {
   "cell_type": "code",
   "execution_count": 30,
   "metadata": {
    "application/vnd.databricks.v1+cell": {
     "cellMetadata": {
      "byteLimit": 2048000,
      "rowLimit": 10000
     },
     "inputWidgets": {},
     "nuid": "9daeac61-11bc-4421-a42b-24661e6531b8",
     "showTitle": false,
     "title": ""
    },
    "id": "6_F_3xo4QJ2f"
   },
   "outputs": [
    {
     "data": {
      "text/plain": [
       "[2, 3, 4]"
      ]
     },
     "execution_count": 30,
     "metadata": {},
     "output_type": "execute_result"
    }
   ],
   "source": [
    "x[-3:]"
   ]
  },
  {
   "cell_type": "markdown",
   "metadata": {
    "application/vnd.databricks.v1+cell": {
     "cellMetadata": {},
     "inputWidgets": {},
     "nuid": "340a1f46-486f-45d0-9d0f-701adb1c9553",
     "showTitle": false,
     "title": ""
    },
    "id": "hg1NQzC9QJ2j"
   },
   "source": [
    "If you omit `stop`, it will assume it will assume it is until the end of the list."
   ]
  },
  {
   "cell_type": "code",
   "execution_count": 31,
   "metadata": {
    "application/vnd.databricks.v1+cell": {
     "cellMetadata": {
      "byteLimit": 2048000,
      "rowLimit": 10000
     },
     "inputWidgets": {},
     "nuid": "18ea5093-18b0-4720-a42c-81bc76beb033",
     "showTitle": false,
     "title": ""
    },
    "id": "AuqoMkW5QJ2j"
   },
   "outputs": [
    {
     "data": {
      "text/plain": [
       "[2, 4]"
      ]
     },
     "execution_count": 31,
     "metadata": {},
     "output_type": "execute_result"
    }
   ],
   "source": [
    "x[-3::2]"
   ]
  },
  {
   "cell_type": "markdown",
   "metadata": {
    "application/vnd.databricks.v1+cell": {
     "cellMetadata": {},
     "inputWidgets": {},
     "nuid": "e5fe40f2-4add-4bfe-ab3a-dd25d9db8df9",
     "showTitle": false,
     "title": ""
    },
    "id": "mYlZo4X5QJ2j"
   },
   "source": [
    "### Activity\n",
    "Try reversing `x` using slicing. Hint: Focus on `step`."
   ]
  },
  {
   "cell_type": "code",
   "execution_count": 32,
   "metadata": {
    "application/vnd.databricks.v1+cell": {
     "cellMetadata": {
      "byteLimit": 2048000,
      "rowLimit": 10000
     },
     "inputWidgets": {},
     "nuid": "da4d4054-cfb5-4e78-9135-c50adb60f8af",
     "showTitle": false,
     "title": ""
    },
    "id": "hMonppnyQJ2j"
   },
   "outputs": [],
   "source": [
    "# code"
   ]
  },
  {
   "cell_type": "code",
   "execution_count": 33,
   "metadata": {
    "application/vnd.databricks.v1+cell": {
     "cellMetadata": {
      "byteLimit": 2048000,
      "rowLimit": 10000
     },
     "inputWidgets": {},
     "nuid": "f955a9ab-dd2d-42d9-9fd2-9f052da357bc",
     "showTitle": false,
     "title": ""
    },
    "id": "BgjutR7LQJ2k"
   },
   "outputs": [
    {
     "name": "stdout",
     "output_type": "stream",
     "text": [
      "[4, 3, 2, 1]\n"
     ]
    }
   ],
   "source": [
    "# alternative method for reversing a list\n",
    "# note that this modifies the object in place\n",
    "x.reverse()\n",
    "print(x)\n"
   ]
  },
  {
   "cell_type": "markdown",
   "metadata": {
    "application/vnd.databricks.v1+cell": {
     "cellMetadata": {},
     "inputWidgets": {},
     "nuid": "ba3b2a02-8062-4901-a32b-76d0c3c63842",
     "showTitle": false,
     "title": ""
    },
    "id": "lbjzkbrgQJ2k"
   },
   "source": [
    "### Tuples"
   ]
  },
  {
   "cell_type": "markdown",
   "metadata": {
    "application/vnd.databricks.v1+cell": {
     "cellMetadata": {},
     "inputWidgets": {},
     "nuid": "512f9cc0-89f3-4b7f-9bf3-21cae69650be",
     "showTitle": false,
     "title": ""
    },
    "id": "FTh9irh2QJ2k"
   },
   "source": [
    "Tuples are like lists but they are *immutable* — i.e., they cannot be changed."
   ]
  },
  {
   "cell_type": "code",
   "execution_count": 34,
   "metadata": {
    "application/vnd.databricks.v1+cell": {
     "cellMetadata": {
      "byteLimit": 2048000,
      "rowLimit": 10000
     },
     "inputWidgets": {},
     "nuid": "821bbb63-050c-4dfe-8116-31943e5d9638",
     "showTitle": false,
     "title": ""
    },
    "id": "BESEUqySQJ2k"
   },
   "outputs": [],
   "source": [
    "z = (1, 2, 3, 4, 5)"
   ]
  },
  {
   "cell_type": "code",
   "execution_count": 35,
   "metadata": {
    "id": "j9aYVhQGT_Je"
   },
   "outputs": [
    {
     "name": "stdout",
     "output_type": "stream",
     "text": [
      "a = 7 b = 9\n"
     ]
    }
   ],
   "source": [
    "a, b = (7, 9)\n",
    "print(\"a = %d b = %d\" % (a, b))"
   ]
  },
  {
   "cell_type": "code",
   "execution_count": 36,
   "metadata": {
    "application/vnd.databricks.v1+cell": {
     "cellMetadata": {},
     "inputWidgets": {},
     "nuid": "beaf3ac1-3b0a-422b-a6ac-1eb3d6eb2871",
     "showTitle": false,
     "title": ""
    },
    "id": "h16fXkbWQJ2k"
   },
   "outputs": [],
   "source": [
    "# try: z.append(2)"
   ]
  },
  {
   "cell_type": "markdown",
   "metadata": {
    "application/vnd.databricks.v1+cell": {
     "cellMetadata": {},
     "inputWidgets": {},
     "nuid": "4572c367-f1b9-4f7b-9063-50cde1b656f4",
     "showTitle": false,
     "title": ""
    },
    "id": "ZK5nie4oQJ2k"
   },
   "source": [
    "### Basic Operators"
   ]
  },
  {
   "cell_type": "markdown",
   "metadata": {
    "application/vnd.databricks.v1+cell": {
     "cellMetadata": {},
     "inputWidgets": {},
     "nuid": "03714bd4-b76a-487b-b6e2-38121f828153",
     "showTitle": false,
     "title": ""
    },
    "id": "WWEXek0kQJ2k"
   },
   "source": [
    "Python has a very expressive set of condition statements."
   ]
  },
  {
   "cell_type": "code",
   "execution_count": 37,
   "metadata": {
    "application/vnd.databricks.v1+cell": {
     "cellMetadata": {
      "byteLimit": 2048000,
      "rowLimit": 10000
     },
     "inputWidgets": {},
     "nuid": "fbf4344e-0215-42c5-b866-3e97dfab1d20",
     "showTitle": false,
     "title": ""
    },
    "id": "qrtrEH2dQJ2k"
   },
   "outputs": [],
   "source": [
    "account_balance = 100\n",
    "withdrawal_amount = 200"
   ]
  },
  {
   "cell_type": "markdown",
   "metadata": {
    "application/vnd.databricks.v1+cell": {
     "cellMetadata": {},
     "inputWidgets": {},
     "nuid": "2461aaec-64fa-40af-b867-b6cd1b501c24",
     "showTitle": false,
     "title": ""
    },
    "id": "Yc6rGK2xQJ2k"
   },
   "source": [
    "Check to see if my balance is greater than 0."
   ]
  },
  {
   "cell_type": "code",
   "execution_count": 38,
   "metadata": {
    "application/vnd.databricks.v1+cell": {
     "cellMetadata": {
      "byteLimit": 2048000,
      "rowLimit": 10000
     },
     "inputWidgets": {},
     "nuid": "6bf44bfe-4625-4bbb-acc5-774e36f3d292",
     "showTitle": false,
     "title": ""
    },
    "id": "hpbdCO9cQJ2k"
   },
   "outputs": [
    {
     "data": {
      "text/plain": [
       "True"
      ]
     },
     "execution_count": 38,
     "metadata": {},
     "output_type": "execute_result"
    }
   ],
   "source": [
    "account_balance > 0"
   ]
  },
  {
   "cell_type": "markdown",
   "metadata": {
    "application/vnd.databricks.v1+cell": {
     "cellMetadata": {},
     "inputWidgets": {},
     "nuid": "f6245015-58fb-407a-b2c9-b1faf147ffaf",
     "showTitle": false,
     "title": ""
    },
    "id": "GUYSFJjUQJ2l"
   },
   "source": [
    "Check to see if I can withdraw $200."
   ]
  },
  {
   "cell_type": "code",
   "execution_count": 39,
   "metadata": {
    "application/vnd.databricks.v1+cell": {
     "cellMetadata": {
      "byteLimit": 2048000,
      "rowLimit": 10000
     },
     "inputWidgets": {},
     "nuid": "04b0b2ae-543b-40c4-9c6e-1f06bd8c15bd",
     "showTitle": false,
     "title": ""
    },
    "id": "twdb98IZQJ2l",
    "scrolled": true
   },
   "outputs": [
    {
     "data": {
      "text/plain": [
       "False"
      ]
     },
     "execution_count": 39,
     "metadata": {},
     "output_type": "execute_result"
    }
   ],
   "source": [
    "account_balance - withdrawal_amount >= 0"
   ]
  },
  {
   "cell_type": "markdown",
   "metadata": {
    "application/vnd.databricks.v1+cell": {
     "cellMetadata": {},
     "inputWidgets": {},
     "nuid": "7231cc1b-6690-4813-9780-71b4161e3807",
     "showTitle": false,
     "title": ""
    },
    "id": "IRAW7vuzQJ2l"
   },
   "source": [
    "You can combine statements in an intuitive way."
   ]
  },
  {
   "cell_type": "code",
   "execution_count": 40,
   "metadata": {
    "application/vnd.databricks.v1+cell": {
     "cellMetadata": {
      "byteLimit": 2048000,
      "rowLimit": 10000
     },
     "inputWidgets": {},
     "nuid": "91312fe9-9313-48d0-a1e9-91a3b5902dd1",
     "showTitle": false,
     "title": ""
    },
    "id": "OcrMhiIMQJ2l",
    "scrolled": true
   },
   "outputs": [
    {
     "data": {
      "text/plain": [
       "True"
      ]
     },
     "execution_count": 40,
     "metadata": {},
     "output_type": "execute_result"
    }
   ],
   "source": [
    "0 <= account_balance <= 100"
   ]
  },
  {
   "cell_type": "code",
   "execution_count": 42,
   "metadata": {
    "application/vnd.databricks.v1+cell": {
     "cellMetadata": {
      "byteLimit": 2048000,
      "rowLimit": 10000
     },
     "inputWidgets": {},
     "nuid": "d20f19ee-bb2b-46aa-bfdd-ecc5a8d45e5e",
     "showTitle": false,
     "title": ""
    },
    "id": "jLEfwYiMQJ2l"
   },
   "outputs": [
    {
     "data": {
      "text/plain": [
       "True"
      ]
     },
     "execution_count": 42,
     "metadata": {},
     "output_type": "execute_result"
    }
   ],
   "source": [
    "0 <= account_balance and account_balance <= 100"
   ]
  },
  {
   "cell_type": "code",
   "execution_count": 41,
   "metadata": {
    "id": "MUSKtbqqUXyS"
   },
   "outputs": [
    {
     "name": "stdout",
     "output_type": "stream",
     "text": [
      "0\n",
      "1\n",
      "3\n"
     ]
    }
   ],
   "source": [
    "# modulo operator (%) returns the remainder\n",
    "print(10 % 5)\n",
    "\n",
    "print(10 % 3)\n",
    "\n",
    "print(10 % 7)"
   ]
  },
  {
   "cell_type": "markdown",
   "metadata": {
    "id": "DyAixXyaUcpN"
   },
   "source": [
    "### If - Then - Else"
   ]
  },
  {
   "cell_type": "markdown",
   "metadata": {
    "application/vnd.databricks.v1+cell": {
     "cellMetadata": {},
     "inputWidgets": {},
     "nuid": "44115406-e033-4180-8c0c-8ebb29f0ace2",
     "showTitle": false,
     "title": ""
    },
    "id": "Cl-JVEGxQJ2l"
   },
   "source": [
    "We can use `if` and `else` statements to perform operations if one or more conditions are met or not."
   ]
  },
  {
   "cell_type": "code",
   "execution_count": 43,
   "metadata": {
    "application/vnd.databricks.v1+cell": {
     "cellMetadata": {
      "byteLimit": 2048000,
      "rowLimit": 10000
     },
     "inputWidgets": {},
     "nuid": "c7567cc1-bfa8-4bcf-977c-0ae53015a1d7",
     "showTitle": false,
     "title": ""
    },
    "id": "BwjxD6A0QJ2l"
   },
   "outputs": [
    {
     "name": "stdout",
     "output_type": "stream",
     "text": [
      "100 is greater than 30\n"
     ]
    }
   ],
   "source": [
    "if 100 > 30:\n",
    "    print(\"100 is greater than 30\")\n",
    "else:\n",
    "    print(\"100 is not greater than 30\")"
   ]
  },
  {
   "cell_type": "markdown",
   "metadata": {
    "application/vnd.databricks.v1+cell": {
     "cellMetadata": {},
     "inputWidgets": {},
     "nuid": "424edec1-3233-46be-baad-a41e95b35d49",
     "showTitle": false,
     "title": ""
    },
    "id": "Xw1vC-34QJ2l"
   },
   "source": [
    "### Activity\n",
    "Write a program that checks if it is okay to withdraw money, outputting an appropriate message. Hint: What if withdrawal amount is negative?"
   ]
  },
  {
   "cell_type": "code",
   "execution_count": 44,
   "metadata": {
    "application/vnd.databricks.v1+cell": {
     "cellMetadata": {},
     "inputWidgets": {},
     "nuid": "9f26c67f-57e8-4c42-8991-9b21447eca96",
     "showTitle": false,
     "title": ""
    },
    "id": "9eP7f7H2QJ2l"
   },
   "outputs": [],
   "source": [
    "def can_withdraw(balance, withdrawal_amount):\n",
    "    # Check if the withdrawal amount is negative\n",
    "    if withdrawal_amount < 0:\n",
    "        return \"Error: Withdrawal amount cannot be negative.\"\n",
    "    \n",
    "    # Check if there are sufficient funds\n",
    "    if withdrawal_amount > balance:\n",
    "        return \"Error: Insufficient funds.\"\n",
    "    \n",
    "    # If both conditions are satisfied, withdrawal is okay\n",
    "    return \"Withdrawal successful.\""
   ]
  },
  {
   "cell_type": "markdown",
   "metadata": {
    "id": "jLJVpqBbUyGZ"
   },
   "source": [
    "### Loops"
   ]
  },
  {
   "cell_type": "markdown",
   "metadata": {
    "id": "Wh5oiYAIU0iQ"
   },
   "source": [
    "You can loop over the elements of a list like this:"
   ]
  },
  {
   "cell_type": "code",
   "execution_count": 45,
   "metadata": {
    "id": "WC3fusGuU5PK"
   },
   "outputs": [
    {
     "name": "stdout",
     "output_type": "stream",
     "text": [
      "cat\n",
      "dog\n",
      "monkey\n"
     ]
    }
   ],
   "source": [
    "animals = ['cat', 'dog', 'monkey']\n",
    "for animal in animals:\n",
    "    print(animal)"
   ]
  },
  {
   "cell_type": "markdown",
   "metadata": {
    "id": "75LlY1EqU8E8"
   },
   "source": [
    "If you want access to the index of each element within the body of a loop, use the built-in `enumerate()` function:"
   ]
  },
  {
   "cell_type": "code",
   "execution_count": 46,
   "metadata": {
    "id": "2YbOqhyEU_tY"
   },
   "outputs": [
    {
     "name": "stdout",
     "output_type": "stream",
     "text": [
      "#1: cat\n",
      "#2: dog\n",
      "#3: monkey\n"
     ]
    }
   ],
   "source": [
    "animals = ['cat', 'dog', 'monkey']\n",
    "for index, animal in enumerate(animals):\n",
    "    print('#{}: {}'.format(index + 1, animal))"
   ]
  },
  {
   "cell_type": "markdown",
   "metadata": {
    "application/vnd.databricks.v1+cell": {
     "cellMetadata": {},
     "inputWidgets": {},
     "nuid": "264233f8-e155-4f72-9b07-2a91bb187308",
     "showTitle": false,
     "title": ""
    },
    "id": "xyF2ZaHlQJ2l"
   },
   "source": [
    "### Strings"
   ]
  },
  {
   "cell_type": "markdown",
   "metadata": {
    "application/vnd.databricks.v1+cell": {
     "cellMetadata": {},
     "inputWidgets": {},
     "nuid": "a722989f-a2d8-431f-a2cf-67a52a8284c2",
     "showTitle": false,
     "title": ""
    },
    "id": "tiqriV_2QJ2l"
   },
   "source": [
    "Strings are also manipulated similar to lists."
   ]
  },
  {
   "cell_type": "code",
   "execution_count": 47,
   "metadata": {
    "application/vnd.databricks.v1+cell": {
     "cellMetadata": {
      "byteLimit": 2048000,
      "rowLimit": 10000
     },
     "inputWidgets": {},
     "nuid": "0fa59748-435a-447d-8230-4ac64264f0cf",
     "showTitle": false,
     "title": ""
    },
    "id": "P66n-FGrQJ2l"
   },
   "outputs": [],
   "source": [
    "s = \"Every once in a while there is a revolutionary product that comes along a changes everything\""
   ]
  },
  {
   "cell_type": "code",
   "execution_count": 48,
   "metadata": {
    "application/vnd.databricks.v1+cell": {
     "cellMetadata": {
      "byteLimit": 2048000,
      "rowLimit": 10000
     },
     "inputWidgets": {},
     "nuid": "640ca8b3-6972-4213-b1e8-a499f0e7b207",
     "showTitle": false,
     "title": ""
    },
    "id": "khTm4MWgQJ2l"
   },
   "outputs": [
    {
     "data": {
      "text/plain": [
       "'E'"
      ]
     },
     "execution_count": 48,
     "metadata": {},
     "output_type": "execute_result"
    }
   ],
   "source": [
    "s[0]"
   ]
  },
  {
   "cell_type": "code",
   "execution_count": 49,
   "metadata": {
    "application/vnd.databricks.v1+cell": {
     "cellMetadata": {
      "byteLimit": 2048000,
      "rowLimit": 10000
     },
     "inputWidgets": {},
     "nuid": "825e5a13-c714-4167-8404-f4c170341f3e",
     "showTitle": false,
     "title": ""
    },
    "id": "rXRfJjoiQJ2l"
   },
   "outputs": [
    {
     "data": {
      "text/plain": [
       "'Every once'"
      ]
     },
     "execution_count": 49,
     "metadata": {},
     "output_type": "execute_result"
    }
   ],
   "source": [
    "s[0:10]"
   ]
  },
  {
   "cell_type": "code",
   "execution_count": 50,
   "metadata": {
    "application/vnd.databricks.v1+cell": {
     "cellMetadata": {
      "byteLimit": 2048000,
      "rowLimit": 10000
     },
     "inputWidgets": {},
     "nuid": "3f46c3d8-f057-422b-be06-c62d1eeaccd1",
     "showTitle": false,
     "title": ""
    },
    "id": "-XJuRv_WQJ2m"
   },
   "outputs": [
    {
     "data": {
      "text/plain": [
       "'everything'"
      ]
     },
     "execution_count": 50,
     "metadata": {},
     "output_type": "execute_result"
    }
   ],
   "source": [
    "s[-10:]"
   ]
  },
  {
   "cell_type": "code",
   "execution_count": 51,
   "metadata": {
    "application/vnd.databricks.v1+cell": {
     "cellMetadata": {
      "byteLimit": 2048000,
      "rowLimit": 10000
     },
     "inputWidgets": {},
     "nuid": "90392768-ac65-46e4-81df-d53f05e6f7e2",
     "showTitle": false,
     "title": ""
    },
    "id": "eLnPECf6QJ2m"
   },
   "outputs": [
    {
     "data": {
      "text/plain": [
       "'Eeyoc nawieteei  eouinr rdc htcmsaogacagseeyhn'"
      ]
     },
     "execution_count": 51,
     "metadata": {},
     "output_type": "execute_result"
    }
   ],
   "source": [
    "s[0::2]"
   ]
  },
  {
   "cell_type": "markdown",
   "metadata": {
    "application/vnd.databricks.v1+cell": {
     "cellMetadata": {},
     "inputWidgets": {},
     "nuid": "749c92ec-83fd-45e6-894b-2669e9fa72a4",
     "showTitle": false,
     "title": ""
    },
    "id": "uOrNBdCAQJ2m"
   },
   "source": [
    "Sometimes you want to transform a string into a list of words (e.g., Natural Language Processing)."
   ]
  },
  {
   "cell_type": "code",
   "execution_count": 52,
   "metadata": {
    "application/vnd.databricks.v1+cell": {
     "cellMetadata": {
      "byteLimit": 2048000,
      "rowLimit": 10000
     },
     "inputWidgets": {},
     "nuid": "5862e514-7ab5-485f-b8d1-9001f5d7a704",
     "showTitle": false,
     "title": ""
    },
    "id": "E8Ap4M_DQJ2m"
   },
   "outputs": [
    {
     "data": {
      "text/plain": [
       "['Every',\n",
       " 'once',\n",
       " 'in',\n",
       " 'a',\n",
       " 'while',\n",
       " 'there',\n",
       " 'is',\n",
       " 'a',\n",
       " 'revolutionary',\n",
       " 'product',\n",
       " 'that',\n",
       " 'comes',\n",
       " 'along',\n",
       " 'a',\n",
       " 'changes',\n",
       " 'everything']"
      ]
     },
     "execution_count": 52,
     "metadata": {},
     "output_type": "execute_result"
    }
   ],
   "source": [
    "s.split()"
   ]
  },
  {
   "cell_type": "markdown",
   "metadata": {
    "application/vnd.databricks.v1+cell": {
     "cellMetadata": {},
     "inputWidgets": {},
     "nuid": "e7171547-4eb7-4285-a40a-6ae1615386c4",
     "showTitle": false,
     "title": ""
    },
    "id": "iWOq67LaQJ2m"
   },
   "source": [
    "You can do the reverse by using the `join` operation over string."
   ]
  },
  {
   "cell_type": "code",
   "execution_count": 53,
   "metadata": {
    "application/vnd.databricks.v1+cell": {
     "cellMetadata": {
      "byteLimit": 2048000,
      "rowLimit": 10000
     },
     "inputWidgets": {},
     "nuid": "31a2633a-79f7-4807-98bf-9f9145c51ec0",
     "showTitle": false,
     "title": ""
    },
    "id": "uXOAnjF3QJ2m"
   },
   "outputs": [],
   "source": [
    "word_list = ['I', 'love', 'data', 'science']"
   ]
  },
  {
   "cell_type": "code",
   "execution_count": 54,
   "metadata": {
    "application/vnd.databricks.v1+cell": {
     "cellMetadata": {
      "byteLimit": 2048000,
      "rowLimit": 10000
     },
     "inputWidgets": {},
     "nuid": "2cca2791-9fd6-47f7-aab7-7aec0e3f0aff",
     "showTitle": false,
     "title": ""
    },
    "id": "ao57kg7SQJ2m"
   },
   "outputs": [
    {
     "data": {
      "text/plain": [
       "'I love data science'"
      ]
     },
     "execution_count": 54,
     "metadata": {},
     "output_type": "execute_result"
    }
   ],
   "source": [
    "' '.join(word_list)"
   ]
  },
  {
   "cell_type": "code",
   "execution_count": 55,
   "metadata": {
    "application/vnd.databricks.v1+cell": {
     "cellMetadata": {
      "byteLimit": 2048000,
      "rowLimit": 10000
     },
     "inputWidgets": {},
     "nuid": "cba74c8d-5733-4c3e-be2c-1efe893fe81e",
     "showTitle": false,
     "title": ""
    },
    "id": "GDlenz0ZQJ2m"
   },
   "outputs": [
    {
     "data": {
      "text/plain": [
       "'I-love-data-science'"
      ]
     },
     "execution_count": 55,
     "metadata": {},
     "output_type": "execute_result"
    }
   ],
   "source": [
    "'-'.join(word_list)"
   ]
  },
  {
   "cell_type": "code",
   "execution_count": 56,
   "metadata": {
    "id": "U5gPvsJ-Vp1W"
   },
   "outputs": [],
   "source": [
    "word_list.append('!')"
   ]
  },
  {
   "cell_type": "markdown",
   "metadata": {
    "application/vnd.databricks.v1+cell": {
     "cellMetadata": {
      "byteLimit": 2048000,
      "rowLimit": 10000
     },
     "inputWidgets": {},
     "nuid": "81258f0d-c777-4368-9f66-0f9090376fcc",
     "showTitle": false,
     "title": ""
    },
    "id": "LNEuB2S6QJ2m"
   },
   "source": [
    "**Question:** Can you perform the last `join` in reverse order?\n",
    "\n",
    "**Answer:** # \n",
    "reversed_list = word_list[::-1]\n",
    "\n",
    "joined_reversed = '-'.join(reversed_list)"
   ]
  },
  {
   "cell_type": "markdown",
   "metadata": {
    "id": "ZIfAgGuaWUVg"
   },
   "source": [
    "### Formatting strings"
   ]
  },
  {
   "cell_type": "code",
   "execution_count": 57,
   "metadata": {
    "id": "5xvPwtP1WYiD"
   },
   "outputs": [
    {
     "name": "stdout",
     "output_type": "stream",
     "text": [
      "Error the value 3.1415 was received but the value 1 was expected\n",
      "Error: the string foo was received but bar was expected\n"
     ]
    }
   ],
   "source": [
    "# create a string using integers and floats\n",
    "# using argument positions in the format specification\n",
    "str1 = 'Error the value {1} was received but the value {0} was expected'.format(1, 3.1415)\n",
    "print(str1)\n",
    "\n",
    "str2 = 'Error: the string {} was received but {} was expected'.format('foo', 'bar')\n",
    "print(str2)"
   ]
  },
  {
   "cell_type": "markdown",
   "metadata": {
    "application/vnd.databricks.v1+cell": {
     "cellMetadata": {},
     "inputWidgets": {},
     "nuid": "e93a4ba2-552e-471c-8d7e-0dd88f8ee1b6",
     "showTitle": false,
     "title": ""
    },
    "id": "mASA81GgQJ2m"
   },
   "source": [
    "### Functions"
   ]
  },
  {
   "cell_type": "code",
   "execution_count": 58,
   "metadata": {
    "application/vnd.databricks.v1+cell": {
     "cellMetadata": {
      "byteLimit": 2048000,
      "rowLimit": 10000
     },
     "inputWidgets": {},
     "nuid": "471d36a0-5dab-45b7-bf9c-b791ed89f10b",
     "showTitle": false,
     "title": ""
    },
    "id": "N31y4c7hQJ2m"
   },
   "outputs": [],
   "source": [
    "def f():\n",
    "    return 5"
   ]
  },
  {
   "cell_type": "code",
   "execution_count": 59,
   "metadata": {
    "application/vnd.databricks.v1+cell": {
     "cellMetadata": {
      "byteLimit": 2048000,
      "rowLimit": 10000
     },
     "inputWidgets": {},
     "nuid": "3b80ad56-102c-4902-b8bb-b56fe3bc0b14",
     "showTitle": false,
     "title": ""
    },
    "id": "l6rbRSqXQJ2m"
   },
   "outputs": [
    {
     "data": {
      "text/plain": [
       "5"
      ]
     },
     "execution_count": 59,
     "metadata": {},
     "output_type": "execute_result"
    }
   ],
   "source": [
    "f()"
   ]
  },
  {
   "cell_type": "code",
   "execution_count": 60,
   "metadata": {
    "application/vnd.databricks.v1+cell": {
     "cellMetadata": {
      "byteLimit": 2048000,
      "rowLimit": 10000
     },
     "inputWidgets": {},
     "nuid": "2a435a22-b0e7-4dd6-99ed-df9eea82a5f1",
     "showTitle": false,
     "title": ""
    },
    "id": "vcj8BBr5QJ2n"
   },
   "outputs": [],
   "source": [
    "def add(a, b):\n",
    "    return a + b"
   ]
  },
  {
   "cell_type": "code",
   "execution_count": 61,
   "metadata": {
    "application/vnd.databricks.v1+cell": {
     "cellMetadata": {
      "byteLimit": 2048000,
      "rowLimit": 10000
     },
     "inputWidgets": {},
     "nuid": "7f91f924-a9e9-45fc-8f9d-9db77a744d71",
     "showTitle": false,
     "title": ""
    },
    "id": "29Mckw8VQJ2n"
   },
   "outputs": [
    {
     "data": {
      "text/plain": [
       "5"
      ]
     },
     "execution_count": 61,
     "metadata": {},
     "output_type": "execute_result"
    }
   ],
   "source": [
    "add(2, 3)"
   ]
  },
  {
   "cell_type": "code",
   "execution_count": 62,
   "metadata": {
    "application/vnd.databricks.v1+cell": {
     "cellMetadata": {
      "byteLimit": 2048000,
      "rowLimit": 10000
     },
     "inputWidgets": {},
     "nuid": "2fdc1fe0-5888-4a44-90e3-f5b4f574b9bd",
     "showTitle": false,
     "title": ""
    },
    "id": "hSi_xunqQJ2n"
   },
   "outputs": [
    {
     "data": {
      "text/plain": [
       "'hello world'"
      ]
     },
     "execution_count": 62,
     "metadata": {},
     "output_type": "execute_result"
    }
   ],
   "source": [
    "add(\"hello \", \"world\")"
   ]
  },
  {
   "cell_type": "code",
   "execution_count": 63,
   "metadata": {
    "application/vnd.databricks.v1+cell": {
     "cellMetadata": {
      "byteLimit": 2048000,
      "rowLimit": 10000
     },
     "inputWidgets": {},
     "nuid": "5c3a6367-b68c-4a66-9fd8-cd50d0a3efca",
     "showTitle": false,
     "title": ""
    },
    "id": "RSV3vhTWQJ2n"
   },
   "outputs": [
    {
     "data": {
      "text/plain": [
       "[1, 2, 3, 4]"
      ]
     },
     "execution_count": 63,
     "metadata": {},
     "output_type": "execute_result"
    }
   ],
   "source": [
    "add([1,2,3], [4])"
   ]
  },
  {
   "cell_type": "markdown",
   "metadata": {
    "application/vnd.databricks.v1+cell": {
     "cellMetadata": {},
     "inputWidgets": {},
     "nuid": "13a7330a-73fa-4452-bce5-0106cb970990",
     "showTitle": false,
     "title": ""
    },
    "id": "kwpvp24GQJ2n"
   },
   "source": [
    "**Question:** Why didn't the above call to the add() function produce the sum of the numbers supplied to it?\n",
    "\n",
    "**Answer:** Here, it appears that the add() function was implemented to concatenate lists rather than sum their elements."
   ]
  },
  {
   "cell_type": "markdown",
   "metadata": {
    "id": "Uc92xsepXi0R"
   },
   "source": [
    "### Sets\n",
    "\n",
    "A set is an unordered collection of distinct elements. As a simple example, consider the following:"
   ]
  },
  {
   "cell_type": "code",
   "execution_count": 64,
   "metadata": {
    "id": "bsGtJt80Xns8"
   },
   "outputs": [
    {
     "name": "stdout",
     "output_type": "stream",
     "text": [
      "True\n",
      "False\n"
     ]
    }
   ],
   "source": [
    "animals = {'cat', 'dog'}\n",
    "print('cat' in animals)   # check if an element is in a set; prints \"True\"\n",
    "print('fish' in animals)  # prints \"False\""
   ]
  },
  {
   "cell_type": "markdown",
   "metadata": {
    "id": "Xr2ufdLYXxTR"
   },
   "source": [
    "Note: Iterating over a set has the same syntax as iterating over a list; however, since sets are unordered, you cannot make assumptions about the order in which you visit the elements of the set."
   ]
  },
  {
   "cell_type": "code",
   "execution_count": 65,
   "metadata": {
    "id": "dU1ZEpobX5Il"
   },
   "outputs": [
    {
     "name": "stdout",
     "output_type": "stream",
     "text": [
      "Iterating over the set:\n",
      "1\n",
      "2\n",
      "4\n",
      "5\n",
      "7\n",
      "9\n"
     ]
    }
   ],
   "source": [
    "my_set = {4, 1, 7, 2, 9, 5}\n",
    "\n",
    "# iterating over a set using a for loop\n",
    "print('Iterating over the set:')\n",
    "for element in my_set:\n",
    "    print(element)\n",
    "\n",
    "# output may vary due to the unordered nature of sets\n"
   ]
  },
  {
   "cell_type": "markdown",
   "metadata": {
    "application/vnd.databricks.v1+cell": {
     "cellMetadata": {},
     "inputWidgets": {},
     "nuid": "757c4ac8-1616-4921-b383-39b2269d6ed8",
     "showTitle": false,
     "title": ""
    },
    "id": "tso_bLO7QJ2n"
   },
   "source": [
    "### Dictionaries"
   ]
  },
  {
   "cell_type": "markdown",
   "metadata": {
    "application/vnd.databricks.v1+cell": {
     "cellMetadata": {},
     "inputWidgets": {},
     "nuid": "d630422d-bedf-4ed3-806a-c74fdb7f49f8",
     "showTitle": false,
     "title": ""
    },
    "id": "tN9gLcc8QJ2n"
   },
   "source": [
    "Dictionaries allow us to store key:value pairs."
   ]
  },
  {
   "cell_type": "code",
   "execution_count": 66,
   "metadata": {
    "application/vnd.databricks.v1+cell": {
     "cellMetadata": {
      "byteLimit": 2048000,
      "rowLimit": 10000
     },
     "inputWidgets": {},
     "nuid": "2d6bbc3b-8236-444b-b84c-8e9b8386b348",
     "showTitle": false,
     "title": ""
    },
    "id": "58kpiSR_QJ2n"
   },
   "outputs": [],
   "source": [
    "S = { 'name' : 'bob',\n",
    "     'gpa'  : 3.4 }\n",
    "S['major'] = 'IM'"
   ]
  },
  {
   "cell_type": "code",
   "execution_count": 67,
   "metadata": {
    "application/vnd.databricks.v1+cell": {
     "cellMetadata": {
      "byteLimit": 2048000,
      "rowLimit": 10000
     },
     "inputWidgets": {},
     "nuid": "4c0e5d9e-ac69-4bf4-aa47-71cb55e356d0",
     "showTitle": false,
     "title": ""
    },
    "id": "2lv3IlQiQJ2n"
   },
   "outputs": [
    {
     "data": {
      "text/plain": [
       "{'name': 'bob', 'gpa': 3.4, 'major': 'IM'}"
      ]
     },
     "execution_count": 67,
     "metadata": {},
     "output_type": "execute_result"
    }
   ],
   "source": [
    "S"
   ]
  },
  {
   "cell_type": "markdown",
   "metadata": {
    "application/vnd.databricks.v1+cell": {
     "cellMetadata": {},
     "inputWidgets": {},
     "nuid": "9d874e2f-c73e-4095-8bcf-32df7634ed3f",
     "showTitle": false,
     "title": ""
    },
    "id": "QPglO3ruQJ2n"
   },
   "source": [
    "Retrieve a value from the dictionary by calling its key."
   ]
  },
  {
   "cell_type": "code",
   "execution_count": 68,
   "metadata": {
    "application/vnd.databricks.v1+cell": {
     "cellMetadata": {
      "byteLimit": 2048000,
      "rowLimit": 10000
     },
     "inputWidgets": {},
     "nuid": "d68f1371-86cf-41d9-87ff-3f05393dcdab",
     "showTitle": false,
     "title": ""
    },
    "id": "YfVuIoyaQJ2n"
   },
   "outputs": [
    {
     "data": {
      "text/plain": [
       "3.4"
      ]
     },
     "execution_count": 68,
     "metadata": {},
     "output_type": "execute_result"
    }
   ],
   "source": [
    "S['gpa']"
   ]
  },
  {
   "cell_type": "code",
   "execution_count": 69,
   "metadata": {
    "application/vnd.databricks.v1+cell": {
     "cellMetadata": {
      "byteLimit": 2048000,
      "rowLimit": 10000
     },
     "inputWidgets": {},
     "nuid": "021ccb12-c107-400f-a90d-387e0eeeaca1",
     "showTitle": false,
     "title": ""
    },
    "id": "R947923eQJ2n"
   },
   "outputs": [
    {
     "data": {
      "text/plain": [
       "'IM'"
      ]
     },
     "execution_count": 69,
     "metadata": {},
     "output_type": "execute_result"
    }
   ],
   "source": [
    "S['major']"
   ]
  },
  {
   "cell_type": "code",
   "execution_count": 70,
   "metadata": {
    "application/vnd.databricks.v1+cell": {
     "cellMetadata": {
      "byteLimit": 2048000,
      "rowLimit": 10000
     },
     "inputWidgets": {},
     "nuid": "ff2d9502-0d04-480c-978e-a54d64a292d9",
     "showTitle": false,
     "title": ""
    },
    "id": "zPkf9i8DQJ2n"
   },
   "outputs": [
    {
     "ename": "KeyError",
     "evalue": "'age'",
     "output_type": "error",
     "traceback": [
      "\u001b[0;31m---------------------------------------------------------------------------\u001b[0m",
      "\u001b[0;31mKeyError\u001b[0m                                  Traceback (most recent call last)",
      "\u001b[0;32m/var/folders/3q/shvmw9xs58x3cfkdnl94yrkr0000gn/T/ipykernel_1181/2949673649.py\u001b[0m in \u001b[0;36m<module>\u001b[0;34m\u001b[0m\n\u001b[0;32m----> 1\u001b[0;31m \u001b[0mS\u001b[0m\u001b[0;34m[\u001b[0m\u001b[0;34m'age'\u001b[0m\u001b[0;34m]\u001b[0m\u001b[0;34m\u001b[0m\u001b[0;34m\u001b[0m\u001b[0m\n\u001b[0m",
      "\u001b[0;31mKeyError\u001b[0m: 'age'"
     ]
    }
   ],
   "source": [
    "S['age']"
   ]
  },
  {
   "cell_type": "code",
   "execution_count": 71,
   "metadata": {
    "application/vnd.databricks.v1+cell": {
     "cellMetadata": {
      "byteLimit": 2048000,
      "rowLimit": 10000
     },
     "inputWidgets": {},
     "nuid": "5261212f-aa38-416c-9f6d-9fa11b76f7b2",
     "showTitle": false,
     "title": ""
    },
    "id": "vl78mv-BQJ2n"
   },
   "outputs": [],
   "source": [
    "S.get('age')"
   ]
  },
  {
   "cell_type": "markdown",
   "metadata": {
    "application/vnd.databricks.v1+cell": {
     "cellMetadata": {},
     "inputWidgets": {},
     "nuid": "62389bc8-229a-49a6-ab24-11ed44d6670e",
     "showTitle": false,
     "title": ""
    },
    "id": "QJY1afbsQJ2n"
   },
   "source": [
    "**Question:** Why didn't the above call to `get` result in an error? You may need to consult the documentation for `get`.\n",
    "\n",
    "**Answer:** The call to S.get('age') did not result in an error because the get method of a dictionary in Python is designed to return None (or a specified default value) when the key is not found, thus avoiding a KeyError."
   ]
  },
  {
   "cell_type": "markdown",
   "metadata": {
    "application/vnd.databricks.v1+cell": {
     "cellMetadata": {},
     "inputWidgets": {},
     "nuid": "34201df2-f05d-4c72-a95c-e515e6352911",
     "showTitle": false,
     "title": ""
    },
    "id": "VRxHBCeeQJ2n"
   },
   "source": [
    "### List Comprehension"
   ]
  },
  {
   "cell_type": "markdown",
   "metadata": {
    "application/vnd.databricks.v1+cell": {
     "cellMetadata": {},
     "inputWidgets": {},
     "nuid": "9df28b77-8b11-4a53-af63-8bf6c80b1b1c",
     "showTitle": false,
     "title": ""
    },
    "id": "F_fR3f11QJ2o"
   },
   "source": [
    "Very easy to describe sets."
   ]
  },
  {
   "cell_type": "code",
   "execution_count": 72,
   "metadata": {
    "application/vnd.databricks.v1+cell": {
     "cellMetadata": {
      "byteLimit": 2048000,
      "rowLimit": 10000
     },
     "inputWidgets": {},
     "nuid": "b6fb9d0a-d8ee-45f6-a0be-c3dda2f1d9e1",
     "showTitle": false,
     "title": ""
    },
    "id": "7yDMaQSRQJ2o"
   },
   "outputs": [
    {
     "data": {
      "text/plain": [
       "[0, 1, 2, 3, 4, 5, 6, 7, 8, 9]"
      ]
     },
     "execution_count": 72,
     "metadata": {},
     "output_type": "execute_result"
    }
   ],
   "source": [
    "[i for i in range(10)]"
   ]
  },
  {
   "cell_type": "code",
   "execution_count": 73,
   "metadata": {
    "application/vnd.databricks.v1+cell": {
     "cellMetadata": {
      "byteLimit": 2048000,
      "rowLimit": 10000
     },
     "inputWidgets": {},
     "nuid": "9ecb6553-9151-4426-b81c-c387877b932e",
     "showTitle": false,
     "title": ""
    },
    "id": "JlEMPW3cQJ2p"
   },
   "outputs": [
    {
     "data": {
      "text/plain": [
       "[0, 1, 4, 9, 16, 25, 36, 49, 64, 81]"
      ]
     },
     "execution_count": 73,
     "metadata": {},
     "output_type": "execute_result"
    }
   ],
   "source": [
    "[i**2 for i in range(10)]"
   ]
  },
  {
   "cell_type": "markdown",
   "metadata": {
    "application/vnd.databricks.v1+cell": {
     "cellMetadata": {},
     "inputWidgets": {},
     "nuid": "440365e9-c32e-4e8d-a6c3-f67664f954b7",
     "showTitle": false,
     "title": ""
    },
    "id": "8thkH4hEQJ2p"
   },
   "source": [
    "We can even add some conditions."
   ]
  },
  {
   "cell_type": "code",
   "execution_count": 74,
   "metadata": {
    "application/vnd.databricks.v1+cell": {
     "cellMetadata": {
      "byteLimit": 2048000,
      "rowLimit": 10000
     },
     "inputWidgets": {},
     "nuid": "e7e77198-52bd-428b-ab75-6e1946163e82",
     "showTitle": false,
     "title": ""
    },
    "id": "_v7YSLpPQJ2p"
   },
   "outputs": [
    {
     "data": {
      "text/plain": [
       "[6, 7, 8, 9]"
      ]
     },
     "execution_count": 74,
     "metadata": {},
     "output_type": "execute_result"
    }
   ],
   "source": [
    "[i for i in range(10) if i > 5]"
   ]
  },
  {
   "cell_type": "markdown",
   "metadata": {
    "application/vnd.databricks.v1+cell": {
     "cellMetadata": {},
     "inputWidgets": {},
     "nuid": "6954800d-4dc4-4d8e-b74c-c101122243c6",
     "showTitle": false,
     "title": ""
    },
    "id": "Pvbq5RE2QJ2q"
   },
   "source": [
    "Multiples of 2."
   ]
  },
  {
   "cell_type": "code",
   "execution_count": 75,
   "metadata": {
    "application/vnd.databricks.v1+cell": {
     "cellMetadata": {
      "byteLimit": 2048000,
      "rowLimit": 10000
     },
     "inputWidgets": {},
     "nuid": "15775b38-d7f3-4311-9b80-05b8738cc78f",
     "showTitle": false,
     "title": ""
    },
    "id": "BWTdOLmNQJ2q"
   },
   "outputs": [
    {
     "data": {
      "text/plain": [
       "[0, 2, 4, 6, 8]"
      ]
     },
     "execution_count": 75,
     "metadata": {},
     "output_type": "execute_result"
    }
   ],
   "source": [
    "[i for i in range(10) if i % 2 == 0]"
   ]
  },
  {
   "cell_type": "markdown",
   "metadata": {
    "application/vnd.databricks.v1+cell": {
     "cellMetadata": {},
     "inputWidgets": {},
     "nuid": "7b183795-3379-4b5c-b6a3-f78e9199a690",
     "showTitle": false,
     "title": ""
    },
    "id": "dWYZPBZiQJ2q"
   },
   "source": [
    "Powers of 2."
   ]
  },
  {
   "cell_type": "code",
   "execution_count": 76,
   "metadata": {
    "application/vnd.databricks.v1+cell": {
     "cellMetadata": {
      "byteLimit": 2048000,
      "rowLimit": 10000
     },
     "inputWidgets": {},
     "nuid": "85675ada-35f9-40f0-9855-fd19ff170e5e",
     "showTitle": false,
     "title": ""
    },
    "id": "2EQRrQ5OQJ2q"
   },
   "outputs": [
    {
     "data": {
      "text/plain": [
       "[0, 1, 4, 9, 16, 25, 36, 49, 64, 81]"
      ]
     },
     "execution_count": 76,
     "metadata": {},
     "output_type": "execute_result"
    }
   ],
   "source": [
    "[i**2 for i in range(10)]"
   ]
  },
  {
   "cell_type": "markdown",
   "metadata": {
    "application/vnd.databricks.v1+cell": {
     "cellMetadata": {},
     "inputWidgets": {},
     "nuid": "f4434a61-6394-4e73-990f-80aace49270f",
     "showTitle": false,
     "title": ""
    },
    "id": "xnIMXnYQQJ2q"
   },
   "source": [
    "You can nest comprehensions."
   ]
  },
  {
   "cell_type": "code",
   "execution_count": 77,
   "metadata": {
    "application/vnd.databricks.v1+cell": {
     "cellMetadata": {
      "byteLimit": 2048000,
      "rowLimit": 10000
     },
     "inputWidgets": {},
     "nuid": "ea195bab-3f91-40bf-958f-cfd34ed91902",
     "showTitle": false,
     "title": ""
    },
    "id": "lWtiMeprQJ2q"
   },
   "outputs": [
    {
     "data": {
      "text/plain": [
       "[[[0, 0], [1, 0], [2, 0], [3, 0], [4, 0]],\n",
       " [[0, 1], [1, 1], [2, 1], [3, 1], [4, 1]],\n",
       " [[0, 2], [1, 2], [2, 2], [3, 2], [4, 2]],\n",
       " [[0, 3], [1, 3], [2, 3], [3, 3], [4, 3]],\n",
       " [[0, 4], [1, 4], [2, 4], [3, 4], [4, 4]]]"
      ]
     },
     "execution_count": 77,
     "metadata": {},
     "output_type": "execute_result"
    }
   ],
   "source": [
    "[[[i, j] for i in range(5)] for j in range(5)]"
   ]
  },
  {
   "cell_type": "markdown",
   "metadata": {
    "application/vnd.databricks.v1+cell": {
     "cellMetadata": {},
     "inputWidgets": {},
     "nuid": "18810b13-51df-4fdf-bbbb-59615f65be68",
     "showTitle": false,
     "title": ""
    },
    "id": "MLvJCcb5QJ2q"
   },
   "source": [
    "You can concatenate multiple comprehensions."
   ]
  },
  {
   "cell_type": "code",
   "execution_count": 78,
   "metadata": {
    "application/vnd.databricks.v1+cell": {
     "cellMetadata": {
      "byteLimit": 2048000,
      "rowLimit": 10000
     },
     "inputWidgets": {},
     "nuid": "a476e758-3e39-413d-a209-0b4de35699e6",
     "showTitle": false,
     "title": ""
    },
    "id": "cZVNVuNMQJ2q"
   },
   "outputs": [
    {
     "data": {
      "text/plain": [
       "[[0, 1],\n",
       " [0, 2],\n",
       " [0, 3],\n",
       " [0, 4],\n",
       " [1, 2],\n",
       " [1, 3],\n",
       " [1, 4],\n",
       " [2, 3],\n",
       " [2, 4],\n",
       " [3, 4]]"
      ]
     },
     "execution_count": 78,
     "metadata": {},
     "output_type": "execute_result"
    }
   ],
   "source": [
    "[[i, j] for i in range(5) for j in range(5) if i < j]"
   ]
  },
  {
   "cell_type": "markdown",
   "metadata": {
    "application/vnd.databricks.v1+cell": {
     "cellMetadata": {},
     "inputWidgets": {},
     "nuid": "af0283bc-f670-4497-92a2-57aa703c1a50",
     "showTitle": false,
     "title": ""
    },
    "id": "3IcFJKvMQJ2q"
   },
   "source": [
    "### Activity\n",
    "Create a list comprehension of the prime numbers between 1 and 20. Remember that a  number is prime if it is only divisible by 1 and itself. Hint: Use the modulo operator % introduced earlier."
   ]
  },
  {
   "cell_type": "code",
   "execution_count": 80,
   "metadata": {
    "application/vnd.databricks.v1+cell": {
     "cellMetadata": {
      "byteLimit": 2048000,
      "rowLimit": 10000
     },
     "inputWidgets": {},
     "nuid": "1529b6b1-1971-4954-80d1-b5ece81f350a",
     "showTitle": false,
     "title": ""
    },
    "id": "zvmlRr-YQJ2q"
   },
   "outputs": [],
   "source": [
    "# first, create function that checks whether a number is prime\n",
    "def is_prime(n):\n",
    "    if n <= 1:\n",
    "        return False\n",
    "    for i in range(2, int(n**0.5) + 1):\n",
    "        if n % i == 0:\n",
    "            return False\n",
    "    return True"
   ]
  },
  {
   "cell_type": "code",
   "execution_count": 81,
   "metadata": {
    "application/vnd.databricks.v1+cell": {
     "cellMetadata": {
      "byteLimit": 2048000,
      "rowLimit": 10000
     },
     "inputWidgets": {},
     "nuid": "fc69b956-46d5-4eb5-8e67-ee65b73ccf6e",
     "showTitle": false,
     "title": ""
    },
    "id": "H03VQWQuQJ2q"
   },
   "outputs": [
    {
     "name": "stdout",
     "output_type": "stream",
     "text": [
      "[2, 3, 5, 7, 11, 13, 17, 19]\n"
     ]
    }
   ],
   "source": [
    "# then, create the list comprehension\n",
    "prime_numbers = [n for n in range(1, 21) if is_prime(n)]\n",
    "print(prime_numbers)"
   ]
  },
  {
   "cell_type": "markdown",
   "metadata": {
    "id": "RqBG6nwlZmEu"
   },
   "source": [
    "## Advanced Topics"
   ]
  },
  {
   "cell_type": "markdown",
   "metadata": {
    "application/vnd.databricks.v1+cell": {
     "cellMetadata": {},
     "inputWidgets": {},
     "nuid": "0d1c5602-2a4b-413c-80a8-5a17bb5c7055",
     "showTitle": false,
     "title": ""
    },
    "id": "KKEEk30QQJ2q"
   },
   "source": [
    "### Keyword Parameters"
   ]
  },
  {
   "cell_type": "markdown",
   "metadata": {
    "id": "owr1Sa8FZzGn"
   },
   "source": [
    "Define a simple function."
   ]
  },
  {
   "cell_type": "code",
   "execution_count": 82,
   "metadata": {
    "application/vnd.databricks.v1+cell": {
     "cellMetadata": {
      "byteLimit": 2048000,
      "rowLimit": 10000
     },
     "inputWidgets": {},
     "nuid": "5ea9613c-a521-4bb7-8c66-9f5cf03c351b",
     "showTitle": false,
     "title": ""
    },
    "id": "npuanw3tQJ2q"
   },
   "outputs": [],
   "source": [
    "def f():\n",
    "    return 5"
   ]
  },
  {
   "cell_type": "markdown",
   "metadata": {
    "id": "fzgZpD0PZ1MN"
   },
   "source": [
    "Check the type of the function."
   ]
  },
  {
   "cell_type": "code",
   "execution_count": 83,
   "metadata": {
    "application/vnd.databricks.v1+cell": {
     "cellMetadata": {
      "byteLimit": 2048000,
      "rowLimit": 10000
     },
     "inputWidgets": {},
     "nuid": "6db5d171-4e31-460e-84ce-c3ca40ddc4ea",
     "showTitle": false,
     "title": ""
    },
    "id": "mkYcOV-QQJ2r"
   },
   "outputs": [
    {
     "data": {
      "text/plain": [
       "function"
      ]
     },
     "execution_count": 83,
     "metadata": {},
     "output_type": "execute_result"
    }
   ],
   "source": [
    "type(f)"
   ]
  },
  {
   "cell_type": "markdown",
   "metadata": {
    "id": "_v3__QfTZ6ri"
   },
   "source": [
    "Define a function with default parameters `b` and `c`."
   ]
  },
  {
   "cell_type": "code",
   "execution_count": 84,
   "metadata": {
    "application/vnd.databricks.v1+cell": {
     "cellMetadata": {
      "byteLimit": 2048000,
      "rowLimit": 10000
     },
     "inputWidgets": {},
     "nuid": "a18990ce-87bd-4f5b-ab96-9933e76cbf2f",
     "showTitle": false,
     "title": ""
    },
    "id": "7p5We24OQJ2r"
   },
   "outputs": [],
   "source": [
    "def f2(a, b = 0, c = 3):\n",
    "    return (a + b) * c"
   ]
  },
  {
   "cell_type": "markdown",
   "metadata": {
    "id": "eB6aRxyxaBG8"
   },
   "source": [
    "Show that the function with default parameters can be called by omitting all, some, or none of the defaults."
   ]
  },
  {
   "cell_type": "code",
   "execution_count": 85,
   "metadata": {
    "application/vnd.databricks.v1+cell": {
     "cellMetadata": {
      "byteLimit": 2048000,
      "rowLimit": 10000
     },
     "inputWidgets": {},
     "nuid": "edf31027-12ea-451e-be3a-8e88fb9660ea",
     "showTitle": false,
     "title": ""
    },
    "id": "8VeSbDuqQJ2r"
   },
   "outputs": [
    {
     "data": {
      "text/plain": [
       "(3, 9, 5, 9, 9)"
      ]
     },
     "execution_count": 85,
     "metadata": {},
     "output_type": "execute_result"
    }
   ],
   "source": [
    "f2(1), f2(1, 2), f2(1,c=5), f2(1, 2, 3), f2(1, c=3, b=2)"
   ]
  },
  {
   "cell_type": "markdown",
   "metadata": {
    "id": "VRlQaGBFaFIN"
   },
   "source": [
    "Default parameters must be defined last, the following is a syntax error."
   ]
  },
  {
   "cell_type": "code",
   "execution_count": 86,
   "metadata": {
    "application/vnd.databricks.v1+cell": {
     "cellMetadata": {
      "byteLimit": 2048000,
      "rowLimit": 10000
     },
     "inputWidgets": {},
     "nuid": "ba584654-f3e7-47e8-860d-26c14adef7a6",
     "showTitle": false,
     "title": ""
    },
    "id": "Jgp7W9OvQJ2r"
   },
   "outputs": [],
   "source": [
    "# syntax error\n",
    "# f2(1, b = 3, 3)"
   ]
  },
  {
   "cell_type": "markdown",
   "metadata": {
    "id": "pPZbfle1aMht"
   },
   "source": [
    "Python’s default arguments are evaluated once when the function is defined, not each time the function is called (like it is in say, Ruby). This means that if you use a mutable default argument and mutate it, you will have mutated that object for all future calls to the function as well. The local variable `x` is similar to a \"static\" variable in C++."
   ]
  },
  {
   "cell_type": "code",
   "execution_count": 87,
   "metadata": {
    "application/vnd.databricks.v1+cell": {
     "cellMetadata": {
      "byteLimit": 2048000,
      "rowLimit": 10000
     },
     "inputWidgets": {},
     "nuid": "d73e0a59-c43e-4318-a3b2-f5fc92be873d",
     "showTitle": false,
     "title": ""
    },
    "id": "vddpqXaKQJ2r"
   },
   "outputs": [],
   "source": [
    "def f3(x=[]):\n",
    "    x.append(1)\n",
    "    return x"
   ]
  },
  {
   "cell_type": "code",
   "execution_count": 88,
   "metadata": {
    "application/vnd.databricks.v1+cell": {
     "cellMetadata": {
      "byteLimit": 2048000,
      "rowLimit": 10000
     },
     "inputWidgets": {},
     "nuid": "b4e0df11-07f4-4ff6-899e-1869f78b6464",
     "showTitle": false,
     "title": ""
    },
    "id": "u9Mj3bvbQJ2r"
   },
   "outputs": [
    {
     "data": {
      "text/plain": [
       "[1]"
      ]
     },
     "execution_count": 88,
     "metadata": {},
     "output_type": "execute_result"
    }
   ],
   "source": [
    "f3()"
   ]
  },
  {
   "cell_type": "markdown",
   "metadata": {
    "id": "T7gJ2C3AajBq"
   },
   "source": [
    "The next call adds another 1 to the default list `x`."
   ]
  },
  {
   "cell_type": "code",
   "execution_count": 89,
   "metadata": {
    "application/vnd.databricks.v1+cell": {
     "cellMetadata": {
      "byteLimit": 2048000,
      "rowLimit": 10000
     },
     "inputWidgets": {},
     "nuid": "e97f54f4-0316-4378-9e72-592a8daff63a",
     "showTitle": false,
     "title": ""
    },
    "id": "ey010rCsQJ2r"
   },
   "outputs": [
    {
     "data": {
      "text/plain": [
       "[1, 1]"
      ]
     },
     "execution_count": 89,
     "metadata": {},
     "output_type": "execute_result"
    }
   ],
   "source": [
    "f3()"
   ]
  },
  {
   "cell_type": "markdown",
   "metadata": {
    "id": "7uehjlOGanu2"
   },
   "source": [
    "To avoid the unexpected behavior caused by the static nature of default args, one option is to write code to create a new variable each time the function is called."
   ]
  },
  {
   "cell_type": "code",
   "execution_count": 90,
   "metadata": {
    "application/vnd.databricks.v1+cell": {
     "cellMetadata": {
      "byteLimit": 2048000,
      "rowLimit": 10000
     },
     "inputWidgets": {},
     "nuid": "9a052a86-6144-4bfd-a606-e788519446f9",
     "showTitle": false,
     "title": ""
    },
    "id": "TdTCORr1QJ2r"
   },
   "outputs": [],
   "source": [
    "def f4(x = None):\n",
    "    if x is None:\n",
    "        x = []\n",
    "    x.append(1)\n",
    "    return x"
   ]
  },
  {
   "cell_type": "code",
   "execution_count": 91,
   "metadata": {
    "application/vnd.databricks.v1+cell": {
     "cellMetadata": {
      "byteLimit": 2048000,
      "rowLimit": 10000
     },
     "inputWidgets": {},
     "nuid": "508af4e1-f3c5-4d7f-b63b-91364e9235a7",
     "showTitle": false,
     "title": ""
    },
    "id": "3pO4CnDqQJ2r"
   },
   "outputs": [
    {
     "data": {
      "text/plain": [
       "[1]"
      ]
     },
     "execution_count": 91,
     "metadata": {},
     "output_type": "execute_result"
    }
   ],
   "source": [
    "f4()"
   ]
  },
  {
   "cell_type": "markdown",
   "metadata": {
    "id": "O5Kfw6lvaxjK"
   },
   "source": [
    "This time the second call produces a consistent result because the variable `x` is newly created each time the function is called."
   ]
  },
  {
   "cell_type": "code",
   "execution_count": 92,
   "metadata": {
    "application/vnd.databricks.v1+cell": {
     "cellMetadata": {
      "byteLimit": 2048000,
      "rowLimit": 10000
     },
     "inputWidgets": {},
     "nuid": "5a5bb1ca-9547-4240-911d-e2bcfb83271f",
     "showTitle": false,
     "title": ""
    },
    "id": "FlE9flsvQJ2r"
   },
   "outputs": [
    {
     "data": {
      "text/plain": [
       "[1]"
      ]
     },
     "execution_count": 92,
     "metadata": {},
     "output_type": "execute_result"
    }
   ],
   "source": [
    "f4()"
   ]
  },
  {
   "cell_type": "markdown",
   "metadata": {
    "id": "xQrl-9vLa9xE"
   },
   "source": [
    "Define a function that returns a list created from its parameters."
   ]
  },
  {
   "cell_type": "code",
   "execution_count": 93,
   "metadata": {
    "application/vnd.databricks.v1+cell": {
     "cellMetadata": {
      "byteLimit": 2048000,
      "rowLimit": 10000
     },
     "inputWidgets": {},
     "nuid": "65423d6f-5a17-4220-bf50-5b67bfe4fda4",
     "showTitle": false,
     "title": ""
    },
    "id": "68FgoqoHQJ2r"
   },
   "outputs": [],
   "source": [
    "def f5(a, b = 2, c = 3):\n",
    "    return [a, b, c]"
   ]
  },
  {
   "cell_type": "code",
   "execution_count": 94,
   "metadata": {
    "application/vnd.databricks.v1+cell": {
     "cellMetadata": {
      "byteLimit": 2048000,
      "rowLimit": 10000
     },
     "inputWidgets": {},
     "nuid": "05b28f0c-651f-454d-9b26-b01a1c8fef78",
     "showTitle": false,
     "title": ""
    },
    "id": "3dxywiY-QJ2r"
   },
   "outputs": [
    {
     "data": {
      "text/plain": [
       "[3, 2, 1]"
      ]
     },
     "execution_count": 94,
     "metadata": {},
     "output_type": "execute_result"
    }
   ],
   "source": [
    "f5(3, 2, 1)"
   ]
  },
  {
   "cell_type": "markdown",
   "metadata": {
    "id": "o5A1tUlabDTP"
   },
   "source": [
    "Note that if we pass a list to `f5` it will return a list containing a list."
   ]
  },
  {
   "cell_type": "code",
   "execution_count": 95,
   "metadata": {
    "application/vnd.databricks.v1+cell": {
     "cellMetadata": {
      "byteLimit": 2048000,
      "rowLimit": 10000
     },
     "inputWidgets": {},
     "nuid": "83adccf8-42f0-4872-8b81-296e9c1ad8c3",
     "showTitle": false,
     "title": ""
    },
    "id": "clIe9xy4QJ2r"
   },
   "outputs": [
    {
     "data": {
      "text/plain": [
       "[[3, 2, 1], 2, 3]"
      ]
     },
     "execution_count": 95,
     "metadata": {},
     "output_type": "execute_result"
    }
   ],
   "source": [
    "f5([3, 2, 1])"
   ]
  },
  {
   "cell_type": "markdown",
   "metadata": {
    "application/vnd.databricks.v1+cell": {
     "cellMetadata": {},
     "inputWidgets": {},
     "nuid": "6dbca06e-56ab-4a73-98aa-b5826cf1fecc",
     "showTitle": false,
     "title": ""
    },
    "id": "pkT-GHD0QJ2r"
   },
   "source": [
    "The star (`*`) operator expands the list by selecting each element of the list. The result is that the call sends 3, 2, 1 to `f5` instead of the list [3, 2, 1]."
   ]
  },
  {
   "cell_type": "code",
   "execution_count": 96,
   "metadata": {
    "application/vnd.databricks.v1+cell": {
     "cellMetadata": {
      "byteLimit": 2048000,
      "rowLimit": 10000
     },
     "inputWidgets": {},
     "nuid": "323d6ef0-bcdb-48e5-b6e1-fc78f412c6b4",
     "showTitle": false,
     "title": ""
    },
    "id": "ZxTwPUuBQJ2s"
   },
   "outputs": [
    {
     "data": {
      "text/plain": [
       "[3, 2, 1]"
      ]
     },
     "execution_count": 96,
     "metadata": {},
     "output_type": "execute_result"
    }
   ],
   "source": [
    "f5(*[3, 2, 1])"
   ]
  },
  {
   "cell_type": "markdown",
   "metadata": {
    "application/vnd.databricks.v1+cell": {
     "cellMetadata": {},
     "inputWidgets": {},
     "nuid": "32714c68-8fe9-4913-981c-4e9438a09bc8",
     "showTitle": false,
     "title": ""
    },
    "id": "GaLJZsA6QJ2s"
   },
   "source": [
    "Use `**` to pass dictionary values as your positional function arguments."
   ]
  },
  {
   "cell_type": "code",
   "execution_count": 97,
   "metadata": {
    "application/vnd.databricks.v1+cell": {
     "cellMetadata": {
      "byteLimit": 2048000,
      "rowLimit": 10000
     },
     "inputWidgets": {},
     "nuid": "bb1a5dd2-42ea-4ac4-986d-c8e66795fc68",
     "showTitle": false,
     "title": ""
    },
    "id": "jzRqqKIFQJ2s"
   },
   "outputs": [
    {
     "data": {
      "text/plain": [
       "[100, 2, 1]"
      ]
     },
     "execution_count": 97,
     "metadata": {},
     "output_type": "execute_result"
    }
   ],
   "source": [
    "f5(**{'a': 100,'c': 1, 'b': 2})"
   ]
  },
  {
   "cell_type": "markdown",
   "metadata": {
    "id": "oxDiE9m_bhxr"
   },
   "source": [
    "The * operator extracts keys from the dictionary"
   ]
  },
  {
   "cell_type": "code",
   "execution_count": 98,
   "metadata": {
    "id": "rWzdFsWobjMV"
   },
   "outputs": [
    {
     "data": {
      "text/plain": [
       "[3, 'c', 'b']"
      ]
     },
     "execution_count": 98,
     "metadata": {},
     "output_type": "execute_result"
    }
   ],
   "source": [
    "f5(*[3], *{'c': 1, 'b': 2})"
   ]
  },
  {
   "cell_type": "markdown",
   "metadata": {
    "application/vnd.databricks.v1+cell": {
     "cellMetadata": {},
     "inputWidgets": {},
     "nuid": "652b23d1-eae0-4a5b-93f7-c7b09e72f0b4",
     "showTitle": false,
     "title": ""
    },
    "id": "yOd0bdO8QJ2s"
   },
   "source": [
    "A \"map\" operation is the process of performing an operation on each element of an object. For example, perform a math operation on each element of a list. In `map2` below, we show that functions are treated as first class variables in python. The `f` parameter is a function that we intend to apply to the list `L`."
   ]
  },
  {
   "cell_type": "code",
   "execution_count": 99,
   "metadata": {
    "application/vnd.databricks.v1+cell": {
     "cellMetadata": {
      "byteLimit": 2048000,
      "rowLimit": 10000
     },
     "inputWidgets": {},
     "nuid": "2616dba9-913a-4f28-8189-2e3e1428b782",
     "showTitle": false,
     "title": ""
    },
    "id": "xVyKkXeoQJ2s"
   },
   "outputs": [],
   "source": [
    "def map2(f, L):\n",
    "    return [f(e) for e in L]"
   ]
  },
  {
   "cell_type": "markdown",
   "metadata": {
    "application/vnd.databricks.v1+cell": {
     "cellMetadata": {},
     "inputWidgets": {},
     "nuid": "1a23de7c-ffb8-4928-9655-9dc6c67b1ca1",
     "showTitle": false,
     "title": ""
    },
    "id": "b84WI7GEQJ2s"
   },
   "source": [
    "Define a function which we intend to pass to `map2`."
   ]
  },
  {
   "cell_type": "code",
   "execution_count": 100,
   "metadata": {
    "application/vnd.databricks.v1+cell": {
     "cellMetadata": {
      "byteLimit": 2048000,
      "rowLimit": 10000
     },
     "inputWidgets": {},
     "nuid": "287710d1-063b-4645-b9c2-bb95554808ea",
     "showTitle": false,
     "title": ""
    },
    "id": "lA0zVRKKQJ2s"
   },
   "outputs": [],
   "source": [
    "def f6(n):\n",
    "    return n + 1"
   ]
  },
  {
   "cell_type": "markdown",
   "metadata": {
    "id": "DYmgJHQVdlEY"
   },
   "source": [
    "Call `map2`, passing in the function `f6` and a list on which to perform the map operation. The map operation adds 1 to each element of the list."
   ]
  },
  {
   "cell_type": "code",
   "execution_count": 101,
   "metadata": {
    "application/vnd.databricks.v1+cell": {
     "cellMetadata": {
      "byteLimit": 2048000,
      "rowLimit": 10000
     },
     "inputWidgets": {},
     "nuid": "40c9e980-7378-4839-93dd-04392efc5ff6",
     "showTitle": false,
     "title": ""
    },
    "id": "o8ZvIYfHQJ2s"
   },
   "outputs": [
    {
     "data": {
      "text/plain": [
       "[2, 3, 4, 5]"
      ]
     },
     "execution_count": 101,
     "metadata": {},
     "output_type": "execute_result"
    }
   ],
   "source": [
    "map2(f6, [1, 2, 3, 4])"
   ]
  },
  {
   "cell_type": "markdown",
   "metadata": {
    "application/vnd.databricks.v1+cell": {
     "cellMetadata": {},
     "inputWidgets": {},
     "nuid": "6a14caf0-e865-4e16-a900-68c34dd7ae0c",
     "showTitle": false,
     "title": ""
    },
    "id": "Cy6UHDDhQJ2s"
   },
   "source": [
    "### Anonymous (Lambda) Functions\n",
    "\n",
    "Anonymous functions are \"inline\" functions that are not named. The following defines an anonymous function that takes `x` as an argument and adds 1 to `x`. It is then called anonymously passing in a 2."
   ]
  },
  {
   "cell_type": "code",
   "execution_count": 102,
   "metadata": {
    "application/vnd.databricks.v1+cell": {
     "cellMetadata": {
      "byteLimit": 2048000,
      "rowLimit": 10000
     },
     "inputWidgets": {},
     "nuid": "37707988-574e-4c6d-bfce-2c1f4098b696",
     "showTitle": false,
     "title": ""
    },
    "id": "L1ccN2XZQJ2s"
   },
   "outputs": [
    {
     "data": {
      "text/plain": [
       "3"
      ]
     },
     "execution_count": 102,
     "metadata": {},
     "output_type": "execute_result"
    }
   ],
   "source": [
    "(lambda x: x + 1)(2)"
   ]
  },
  {
   "cell_type": "markdown",
   "metadata": {
    "id": "Kc7iTovDd3DA"
   },
   "source": [
    "Here we assign an anonymous function to variable `anon_f`."
   ]
  },
  {
   "cell_type": "code",
   "execution_count": 103,
   "metadata": {
    "application/vnd.databricks.v1+cell": {
     "cellMetadata": {
      "byteLimit": 2048000,
      "rowLimit": 10000
     },
     "inputWidgets": {},
     "nuid": "c39e3c88-c77d-434b-8db5-b1308a80da7b",
     "showTitle": false,
     "title": ""
    },
    "id": "SVz7fD4kQJ2s"
   },
   "outputs": [],
   "source": [
    "anon_f = (lambda x: x + 1)"
   ]
  },
  {
   "cell_type": "markdown",
   "metadata": {
    "id": "2EBw5fufd79h"
   },
   "source": [
    "Now call `anon_f`, passing in a 2."
   ]
  },
  {
   "cell_type": "code",
   "execution_count": 104,
   "metadata": {
    "application/vnd.databricks.v1+cell": {
     "cellMetadata": {
      "byteLimit": 2048000,
      "rowLimit": 10000
     },
     "inputWidgets": {},
     "nuid": "d7a015fe-2c54-4fd5-a3a9-50ab84a3e281",
     "showTitle": false,
     "title": ""
    },
    "id": "u6D19gfzQJ2s"
   },
   "outputs": [
    {
     "data": {
      "text/plain": [
       "3"
      ]
     },
     "execution_count": 104,
     "metadata": {},
     "output_type": "execute_result"
    }
   ],
   "source": [
    "anon_f(2)"
   ]
  },
  {
   "cell_type": "markdown",
   "metadata": {
    "application/vnd.databricks.v1+cell": {
     "cellMetadata": {},
     "inputWidgets": {},
     "nuid": "47c34494-a02e-47d5-b9c6-9049a9590217",
     "showTitle": false,
     "title": ""
    },
    "id": "FVixLU_AQJ2s"
   },
   "source": [
    "### Function Docs"
   ]
  },
  {
   "cell_type": "markdown",
   "metadata": {
    "id": "K9rj9g_OeAIB"
   },
   "source": [
    "A Python docstring is placed right after the function declaration and enclosed in triple quotation marks. The docstring is used by Python in its help module."
   ]
  },
  {
   "cell_type": "code",
   "execution_count": 105,
   "metadata": {
    "application/vnd.databricks.v1+cell": {
     "cellMetadata": {
      "byteLimit": 2048000,
      "rowLimit": 10000
     },
     "inputWidgets": {},
     "nuid": "71c09b14-b84b-4e36-963b-6325cb9324c6",
     "showTitle": false,
     "title": ""
    },
    "id": "KRGbN_jPQJ2s"
   },
   "outputs": [],
   "source": [
    "def f7():\n",
    "    \"\"\"This function returns 0\"\"\"\n",
    "    return 0"
   ]
  },
  {
   "cell_type": "markdown",
   "metadata": {
    "id": "RMSA7cOeeJx1"
   },
   "source": [
    "The syntax to access a function's documentation attribute is shown below with the \\_\\_doc\\_\\_ syntax."
   ]
  },
  {
   "cell_type": "code",
   "execution_count": 106,
   "metadata": {
    "application/vnd.databricks.v1+cell": {
     "cellMetadata": {
      "byteLimit": 2048000,
      "rowLimit": 10000
     },
     "inputWidgets": {},
     "nuid": "951e8405-8769-4a0a-abff-5551df89c3e4",
     "showTitle": false,
     "title": ""
    },
    "id": "dvThz3o7QJ2s"
   },
   "outputs": [
    {
     "data": {
      "text/plain": [
       "'This function returns 0'"
      ]
     },
     "execution_count": 106,
     "metadata": {},
     "output_type": "execute_result"
    }
   ],
   "source": [
    "f7.__doc__"
   ]
  },
  {
   "cell_type": "markdown",
   "metadata": {
    "id": "QkwvHZdmeP0C"
   },
   "source": [
    "The question mark is used to print help."
   ]
  },
  {
   "cell_type": "code",
   "execution_count": 107,
   "metadata": {
    "application/vnd.databricks.v1+cell": {
     "cellMetadata": {
      "byteLimit": 2048000,
      "rowLimit": 10000
     },
     "inputWidgets": {},
     "nuid": "97fd3fc0-b88c-43ab-ab8e-f7a71e542c5b",
     "showTitle": false,
     "title": ""
    },
    "id": "SCCEG1J5QJ2s"
   },
   "outputs": [],
   "source": [
    "f7?"
   ]
  },
  {
   "cell_type": "code",
   "execution_count": 108,
   "metadata": {
    "id": "sOjCPpnneYPJ"
   },
   "outputs": [],
   "source": [
    "?f7"
   ]
  },
  {
   "cell_type": "markdown",
   "metadata": {
    "id": "jM_qLrFseiIN"
   },
   "source": [
    "### Exceptions\n",
    "\n",
    "An exception is an object that is \"thrown\" when an exceptional situation happens.  For example, the Python math libray throws an exception if we try to divide by 0.  Exceptions are handled in a \"try/catch block\"."
   ]
  },
  {
   "cell_type": "code",
   "execution_count": 109,
   "metadata": {
    "id": "v5ZC2hhqeje5"
   },
   "outputs": [
    {
     "name": "stdout",
     "output_type": "stream",
     "text": [
      "There are no exceptions.\n",
      "This is always executed.\n"
     ]
    }
   ],
   "source": [
    "import sys\n",
    "\n",
    "try:\n",
    "    1/1\n",
    "    # uncomment the following lines one at a time\n",
    "    #1/0 # try this first with the next line commented\n",
    "    #raise Exception('My Custom Exception') # then try this with the previous line commented\n",
    "except ZeroDivisionError as exception:\n",
    "    print('Caught a ZeroDivisionError Exception:')\n",
    "    print(exception)\n",
    "except Exception as exception:\n",
    "    print('Catch all exceptions in this block.')\n",
    "    print(exception)\n",
    "else:\n",
    "    print('There are no exceptions.')\n",
    "finally:\n",
    "    print('This is always executed.')"
   ]
  },
  {
   "cell_type": "markdown",
   "metadata": {
    "id": "vMZvfNCMgMEc"
   },
   "source": [
    "### Generators (Iterators)"
   ]
  },
  {
   "cell_type": "markdown",
   "metadata": {
    "id": "KT-tCqEwgTC7"
   },
   "source": [
    "The `yield` statement tells Python to treat the function as an object. Instead of executing the function, a generator object is created."
   ]
  },
  {
   "cell_type": "code",
   "execution_count": 110,
   "metadata": {
    "id": "JEKm0FTvgXtu"
   },
   "outputs": [],
   "source": [
    "def range_custom(n):\n",
    "    i = 0\n",
    "    while i < n:\n",
    "        yield i\n",
    "        i += 1"
   ]
  },
  {
   "cell_type": "markdown",
   "metadata": {
    "id": "9H410aA5gasR"
   },
   "source": [
    "Create the generator."
   ]
  },
  {
   "cell_type": "code",
   "execution_count": 111,
   "metadata": {
    "id": "TqlRnsmKgdBk"
   },
   "outputs": [],
   "source": [
    "gen = range_custom(3)"
   ]
  },
  {
   "cell_type": "markdown",
   "metadata": {
    "id": "asJXmjqUgnLc"
   },
   "source": [
    "The type of the variable named `gen` is 'generator.'"
   ]
  },
  {
   "cell_type": "code",
   "execution_count": 112,
   "metadata": {
    "id": "1zQSaaKAgq9y"
   },
   "outputs": [
    {
     "data": {
      "text/plain": [
       "generator"
      ]
     },
     "execution_count": 112,
     "metadata": {},
     "output_type": "execute_result"
    }
   ],
   "source": [
    "type(gen)"
   ]
  },
  {
   "cell_type": "markdown",
   "metadata": {
    "id": "TVAdkaQYgwdr"
   },
   "source": [
    "Iterate through the generator values."
   ]
  },
  {
   "cell_type": "code",
   "execution_count": 113,
   "metadata": {
    "id": "E_jm5CGLg6gn"
   },
   "outputs": [
    {
     "data": {
      "text/plain": [
       "0"
      ]
     },
     "execution_count": 113,
     "metadata": {},
     "output_type": "execute_result"
    }
   ],
   "source": [
    "next(gen)"
   ]
  },
  {
   "cell_type": "code",
   "execution_count": 114,
   "metadata": {
    "id": "xKryx8kyg8br"
   },
   "outputs": [
    {
     "data": {
      "text/plain": [
       "1"
      ]
     },
     "execution_count": 114,
     "metadata": {},
     "output_type": "execute_result"
    }
   ],
   "source": [
    "next(gen)"
   ]
  },
  {
   "cell_type": "code",
   "execution_count": 115,
   "metadata": {
    "id": "5MSFDxBGg97B"
   },
   "outputs": [
    {
     "data": {
      "text/plain": [
       "2"
      ]
     },
     "execution_count": 115,
     "metadata": {},
     "output_type": "execute_result"
    }
   ],
   "source": [
    "next(gen)"
   ]
  },
  {
   "cell_type": "markdown",
   "metadata": {
    "id": "5fb_h5qShCHe"
   },
   "source": [
    "The generator raises an exception when it reaches the end."
   ]
  },
  {
   "cell_type": "code",
   "execution_count": 116,
   "metadata": {
    "id": "3CdDrTu4g_dA"
   },
   "outputs": [],
   "source": [
    "# the following call will raise an exception\n",
    "# next(gen)"
   ]
  },
  {
   "cell_type": "markdown",
   "metadata": {
    "application/vnd.databricks.v1+cell": {
     "cellMetadata": {},
     "inputWidgets": {},
     "nuid": "0c4a7c3b-ab65-436c-9c3a-c0e760c29407",
     "showTitle": false,
     "title": ""
    },
    "id": "jl99eFWNQJ2s"
   },
   "source": [
    "### Object Oriented Programming\n",
    "\n",
    "Define a simple python class.  The `__init__` method is the constructor. Internal class member variables are accessed using the `self` syntax. `self` refers to the current instance of the class object."
   ]
  },
  {
   "cell_type": "code",
   "execution_count": 117,
   "metadata": {
    "application/vnd.databricks.v1+cell": {
     "cellMetadata": {
      "byteLimit": 2048000,
      "rowLimit": 10000
     },
     "inputWidgets": {},
     "nuid": "03ed1955-1ed8-4503-a45a-97d5bbbbdcbd",
     "showTitle": false,
     "title": ""
    },
    "id": "PsbxFEVLQJ2t"
   },
   "outputs": [],
   "source": [
    "class BankAccount():\n",
    "    # here the __init__ function is called when the class is constructed\n",
    "    def __init__(self, initial_balance = 0):\n",
    "        self.balance = initial_balance\n",
    "\n",
    "    def deposit(self, amount):\n",
    "        self.balance += amount\n",
    "\n",
    "    def withdraw(self, amount):\n",
    "        pass\n",
    "\n",
    "    def get_balance(self):\n",
    "        return self.balance\n",
    "\n",
    "    def __repr__(self):\n",
    "        return \"Bank account with a balance of \" \\\n",
    "                + str(self.balance)"
   ]
  },
  {
   "cell_type": "markdown",
   "metadata": {
    "id": "up-bvnRMhYhC"
   },
   "source": [
    "The cell below \"instantiates\" the `BankAccount` class."
   ]
  },
  {
   "cell_type": "code",
   "execution_count": 118,
   "metadata": {
    "application/vnd.databricks.v1+cell": {
     "cellMetadata": {
      "byteLimit": 2048000,
      "rowLimit": 10000
     },
     "inputWidgets": {},
     "nuid": "b631d9f1-212c-49c8-a618-a0c3d0de001d",
     "showTitle": false,
     "title": ""
    },
    "id": "5uNRkN8IQJ2t"
   },
   "outputs": [],
   "source": [
    "ba1 = BankAccount()"
   ]
  },
  {
   "cell_type": "markdown",
   "metadata": {
    "id": "89O4ibQMhi5y"
   },
   "source": [
    "Make two deposits of 100."
   ]
  },
  {
   "cell_type": "code",
   "execution_count": 119,
   "metadata": {
    "application/vnd.databricks.v1+cell": {
     "cellMetadata": {
      "byteLimit": 2048000,
      "rowLimit": 10000
     },
     "inputWidgets": {},
     "nuid": "30479ae2-7df1-4305-8ea6-3426b96f036b",
     "showTitle": false,
     "title": ""
    },
    "id": "lLjijxSrQJ2t"
   },
   "outputs": [
    {
     "data": {
      "text/plain": [
       "Bank account with a balance of 200"
      ]
     },
     "execution_count": 119,
     "metadata": {},
     "output_type": "execute_result"
    }
   ],
   "source": [
    "ba1.deposit(100)\n",
    "ba1\n",
    "ba1.deposit(100)\n",
    "ba1"
   ]
  },
  {
   "cell_type": "markdown",
   "metadata": {
    "id": "tQg8ulWEhnPe"
   },
   "source": [
    "The below cell is equivalent to creating ba1 above and depositing $100."
   ]
  },
  {
   "cell_type": "code",
   "execution_count": 120,
   "metadata": {
    "id": "ZIpForzchp9Y"
   },
   "outputs": [
    {
     "data": {
      "text/plain": [
       "Bank account with a balance of 100"
      ]
     },
     "execution_count": 120,
     "metadata": {},
     "output_type": "execute_result"
    }
   ],
   "source": [
    "ba2 = BankAccount(100)\n",
    "ba2"
   ]
  },
  {
   "cell_type": "markdown",
   "metadata": {
    "application/vnd.databricks.v1+cell": {
     "cellMetadata": {},
     "inputWidgets": {},
     "nuid": "4f3d2686-80b0-409d-9b85-8885d3ff2d19",
     "showTitle": false,
     "title": ""
    },
    "id": "ZDUghPo2QJ2t"
   },
   "source": [
    "### Activity\n",
    "Modify `BankAccount` above so that the `withdraw` method will work in the following code block. Also, see if you can make `withdraw` happen only if there are sufficient funds."
   ]
  },
  {
   "cell_type": "code",
   "execution_count": 121,
   "metadata": {
    "application/vnd.databricks.v1+cell": {
     "cellMetadata": {
      "byteLimit": 2048000,
      "rowLimit": 10000
     },
     "inputWidgets": {},
     "nuid": "e95bb060-fa4f-47d9-b436-07574029de4b",
     "showTitle": false,
     "title": ""
    },
    "id": "XULvUWqWQJ2t"
   },
   "outputs": [
    {
     "data": {
      "text/plain": [
       "Bank account with a balance of 100"
      ]
     },
     "execution_count": 121,
     "metadata": {},
     "output_type": "execute_result"
    }
   ],
   "source": [
    "ba2.withdraw(100)\n",
    "ba2\n",
    "ba2.withdraw(200)\n",
    "ba2"
   ]
  },
  {
   "cell_type": "markdown",
   "metadata": {
    "id": "ucAz3hBXip80"
   },
   "source": [
    "### Reading/Writing Files"
   ]
  },
  {
   "cell_type": "code",
   "execution_count": 122,
   "metadata": {
    "id": "ZC8faqwqit-o"
   },
   "outputs": [
    {
     "name": "stdout",
     "output_type": "stream",
     "text": [
      "First line of text.\n",
      "Second line of text.\n",
      "Third line of text.\n"
     ]
    }
   ],
   "source": [
    "# define the file name\n",
    "file_name = 'test_file.txt'\n",
    "\n",
    "# write to a file\n",
    "with open(file_name, 'w') as out_file:\n",
    "    out_file.write('First line of text.\\n')\n",
    "    out_file.write('Second line of text.\\n')\n",
    "    out_file.write('Third line of text.')\n",
    "\n",
    "# read the file\n",
    "with open(file_name, 'r') as in_file:\n",
    "    lines = in_file.read()\n",
    "\n",
    "print(lines)"
   ]
  }
 ],
 "metadata": {
  "application/vnd.databricks.v1+notebook": {
   "dashboards": [],
   "language": "python",
   "notebookMetadata": {
    "pythonIndentUnit": 4
   },
   "notebookName": "BDA-Lab-01",
   "widgets": {}
  },
  "colab": {
   "provenance": []
  },
  "kernelspec": {
   "display_name": "Python 3 (ipykernel)",
   "language": "python",
   "name": "python3"
  },
  "language_info": {
   "codemirror_mode": {
    "name": "ipython",
    "version": 3
   },
   "file_extension": ".py",
   "mimetype": "text/x-python",
   "name": "python",
   "nbconvert_exporter": "python",
   "pygments_lexer": "ipython3",
   "version": "3.9.7"
  },
  "name": "Basic Python",
  "notebookId": 1552673237676332
 },
 "nbformat": 4,
 "nbformat_minor": 1
}
