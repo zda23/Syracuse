{
 "cells": [
  {
   "cell_type": "markdown",
   "metadata": {
    "id": "owglZnmxRL54"
   },
   "source": [
    "In this notebook, we will introduce PyTorch framework and building a simple model using PyTorch. We will also look at how to back propagate in PyTorch."
   ]
  },
  {
   "cell_type": "code",
   "execution_count": 1,
   "metadata": {
    "colab": {
     "base_uri": "https://localhost:8080/"
    },
    "executionInfo": {
     "elapsed": 24407,
     "status": "ok",
     "timestamp": 1691604518346,
     "user": {
      "displayName": "Christopher Dunham",
      "userId": "05514182182652963797"
     },
     "user_tz": 240
    },
    "id": "zXO_k9NeMYh2",
    "outputId": "9eeececd-7705-4f32-8c93-f8f1835ce498"
   },
   "outputs": [
    {
     "name": "stdout",
     "output_type": "stream",
     "text": [
      "\u001b[33mDEPRECATION: pyodbc 4.0.0-unsupported has a non-standard version number. pip 24.1 will enforce this behaviour change. A possible replacement is to upgrade to a newer version of pyodbc or contact the author to suggest that they release a version with a conforming version number. Discussion can be found at https://github.com/pypa/pip/issues/12063\u001b[0m\u001b[33m\n",
      "\u001b[0mNote: you may need to restart the kernel to use updated packages.\n"
     ]
    }
   ],
   "source": [
    "pip install torchviz -q"
   ]
  },
  {
   "cell_type": "code",
   "execution_count": 2,
   "metadata": {
    "executionInfo": {
     "elapsed": 7983,
     "status": "ok",
     "timestamp": 1691604633398,
     "user": {
      "displayName": "Christopher Dunham",
      "userId": "05514182182652963797"
     },
     "user_tz": 240
    },
    "id": "Y_0kiBUzRL5-"
   },
   "outputs": [
    {
     "name": "stderr",
     "output_type": "stream",
     "text": [
      "/Users/zanealderfer/opt/anaconda3/lib/python3.9/site-packages/scipy/__init__.py:146: UserWarning: A NumPy version >=1.16.5 and <1.23.0 is required for this version of SciPy (detected version 1.26.4\n",
      "  warnings.warn(f\"A NumPy version >={np_minversion} and <{np_maxversion}\"\n",
      "/Users/zanealderfer/opt/anaconda3/lib/python3.9/site-packages/pandas/core/computation/expressions.py:21: UserWarning: Pandas requires version '2.8.4' or newer of 'numexpr' (version '2.7.3' currently installed).\n",
      "  from pandas.core.computation.check import NUMEXPR_INSTALLED\n",
      "/Users/zanealderfer/opt/anaconda3/lib/python3.9/site-packages/pandas/core/arrays/masked.py:60: UserWarning: Pandas requires version '1.3.6' or newer of 'bottleneck' (version '1.3.2' currently installed).\n",
      "  from pandas.core import (\n"
     ]
    }
   ],
   "source": [
    "from sklearn.model_selection import train_test_split\n",
    "from sklearn.preprocessing import MinMaxScaler\n",
    "import sklearn\n",
    "import numpy as np\n",
    "from sklearn.metrics import mean_squared_error\n",
    "\n",
    "from torch.utils import data as T\n",
    "import torch\n",
    "from torchviz import make_dot, make_dot_from_trace\n",
    "from torchsummary import summary\n",
    "from torch.autograd import Variable\n",
    "import pandas as pd\n",
    "import matplotlib.pyplot as plt\n",
    "import torch.nn as nn\n",
    "import torch.nn.functional as F\n",
    "import seaborn as sns\n",
    "import time\n",
    "import matplotlib.patches as mpatches\n",
    "import plotly.io as pio\n",
    "pio.renderers.default = 'notebook'"
   ]
  },
  {
   "cell_type": "markdown",
   "metadata": {
    "id": "1Isg3T6ORL5_"
   },
   "source": [
    "### Dataset description\n",
    "We are using 20 years of Gamestop (GME) stock market data from Yahoo! Finance. Data is from June 15, 2003 to June 14, 2023."
   ]
  },
  {
   "cell_type": "code",
   "execution_count": 4,
   "metadata": {
    "colab": {
     "base_uri": "https://localhost:8080/",
     "height": 423
    },
    "executionInfo": {
     "elapsed": 319,
     "status": "ok",
     "timestamp": 1691604662382,
     "user": {
      "displayName": "Christopher Dunham",
      "userId": "05514182182652963797"
     },
     "user_tz": 240
    },
    "id": "mpHSq-ygRL6A",
    "outputId": "b2e43cda-bac9-430c-ab9e-b52aa0336bc3"
   },
   "outputs": [
    {
     "data": {
      "text/html": [
       "<div>\n",
       "<style scoped>\n",
       "    .dataframe tbody tr th:only-of-type {\n",
       "        vertical-align: middle;\n",
       "    }\n",
       "\n",
       "    .dataframe tbody tr th {\n",
       "        vertical-align: top;\n",
       "    }\n",
       "\n",
       "    .dataframe thead th {\n",
       "        text-align: right;\n",
       "    }\n",
       "</style>\n",
       "<table border=\"1\" class=\"dataframe\">\n",
       "  <thead>\n",
       "    <tr style=\"text-align: right;\">\n",
       "      <th></th>\n",
       "      <th>Date</th>\n",
       "      <th>Open</th>\n",
       "      <th>High</th>\n",
       "      <th>Low</th>\n",
       "      <th>Close</th>\n",
       "      <th>Adj Close</th>\n",
       "      <th>Volume</th>\n",
       "    </tr>\n",
       "  </thead>\n",
       "  <tbody>\n",
       "    <tr>\n",
       "      <th>0</th>\n",
       "      <td>2/14/02</td>\n",
       "      <td>2.543750</td>\n",
       "      <td>2.548750</td>\n",
       "      <td>2.481250</td>\n",
       "      <td>2.500000</td>\n",
       "      <td>1.683250</td>\n",
       "      <td>11021600</td>\n",
       "    </tr>\n",
       "    <tr>\n",
       "      <th>1</th>\n",
       "      <td>2/15/02</td>\n",
       "      <td>2.500000</td>\n",
       "      <td>2.506250</td>\n",
       "      <td>2.462500</td>\n",
       "      <td>2.487500</td>\n",
       "      <td>1.674834</td>\n",
       "      <td>8389600</td>\n",
       "    </tr>\n",
       "    <tr>\n",
       "      <th>2</th>\n",
       "      <td>2/19/02</td>\n",
       "      <td>2.475000</td>\n",
       "      <td>2.475000</td>\n",
       "      <td>2.343750</td>\n",
       "      <td>2.387500</td>\n",
       "      <td>1.607504</td>\n",
       "      <td>7410400</td>\n",
       "    </tr>\n",
       "    <tr>\n",
       "      <th>3</th>\n",
       "      <td>2/20/02</td>\n",
       "      <td>2.400000</td>\n",
       "      <td>2.468750</td>\n",
       "      <td>2.381250</td>\n",
       "      <td>2.468750</td>\n",
       "      <td>1.662209</td>\n",
       "      <td>6892800</td>\n",
       "    </tr>\n",
       "    <tr>\n",
       "      <th>4</th>\n",
       "      <td>2/21/02</td>\n",
       "      <td>2.460000</td>\n",
       "      <td>2.481250</td>\n",
       "      <td>2.437500</td>\n",
       "      <td>2.462500</td>\n",
       "      <td>1.658002</td>\n",
       "      <td>6976800</td>\n",
       "    </tr>\n",
       "    <tr>\n",
       "      <th>...</th>\n",
       "      <td>...</td>\n",
       "      <td>...</td>\n",
       "      <td>...</td>\n",
       "      <td>...</td>\n",
       "      <td>...</td>\n",
       "      <td>...</td>\n",
       "      <td>...</td>\n",
       "    </tr>\n",
       "    <tr>\n",
       "      <th>5365</th>\n",
       "      <td>6/8/23</td>\n",
       "      <td>20.299999</td>\n",
       "      <td>22.000000</td>\n",
       "      <td>20.100000</td>\n",
       "      <td>21.440001</td>\n",
       "      <td>21.440001</td>\n",
       "      <td>19213300</td>\n",
       "    </tr>\n",
       "    <tr>\n",
       "      <th>5366</th>\n",
       "      <td>6/9/23</td>\n",
       "      <td>21.780001</td>\n",
       "      <td>23.430000</td>\n",
       "      <td>21.500000</td>\n",
       "      <td>22.680000</td>\n",
       "      <td>22.680000</td>\n",
       "      <td>10321200</td>\n",
       "    </tr>\n",
       "    <tr>\n",
       "      <th>5367</th>\n",
       "      <td>6/12/23</td>\n",
       "      <td>22.850000</td>\n",
       "      <td>24.299999</td>\n",
       "      <td>22.740000</td>\n",
       "      <td>24.299999</td>\n",
       "      <td>24.299999</td>\n",
       "      <td>7131400</td>\n",
       "    </tr>\n",
       "    <tr>\n",
       "      <th>5368</th>\n",
       "      <td>6/13/23</td>\n",
       "      <td>26.200001</td>\n",
       "      <td>27.650000</td>\n",
       "      <td>25.030001</td>\n",
       "      <td>26.950001</td>\n",
       "      <td>26.950001</td>\n",
       "      <td>17160600</td>\n",
       "    </tr>\n",
       "    <tr>\n",
       "      <th>5369</th>\n",
       "      <td>6/14/23</td>\n",
       "      <td>26.719999</td>\n",
       "      <td>27.080000</td>\n",
       "      <td>24.900000</td>\n",
       "      <td>25.700001</td>\n",
       "      <td>25.700001</td>\n",
       "      <td>7243700</td>\n",
       "    </tr>\n",
       "  </tbody>\n",
       "</table>\n",
       "<p>5370 rows × 7 columns</p>\n",
       "</div>"
      ],
      "text/plain": [
       "         Date       Open       High        Low      Close  Adj Close    Volume\n",
       "0     2/14/02   2.543750   2.548750   2.481250   2.500000   1.683250  11021600\n",
       "1     2/15/02   2.500000   2.506250   2.462500   2.487500   1.674834   8389600\n",
       "2     2/19/02   2.475000   2.475000   2.343750   2.387500   1.607504   7410400\n",
       "3     2/20/02   2.400000   2.468750   2.381250   2.468750   1.662209   6892800\n",
       "4     2/21/02   2.460000   2.481250   2.437500   2.462500   1.658002   6976800\n",
       "...       ...        ...        ...        ...        ...        ...       ...\n",
       "5365   6/8/23  20.299999  22.000000  20.100000  21.440001  21.440001  19213300\n",
       "5366   6/9/23  21.780001  23.430000  21.500000  22.680000  22.680000  10321200\n",
       "5367  6/12/23  22.850000  24.299999  22.740000  24.299999  24.299999   7131400\n",
       "5368  6/13/23  26.200001  27.650000  25.030001  26.950001  26.950001  17160600\n",
       "5369  6/14/23  26.719999  27.080000  24.900000  25.700001  25.700001   7243700\n",
       "\n",
       "[5370 rows x 7 columns]"
      ]
     },
     "execution_count": 4,
     "metadata": {},
     "output_type": "execute_result"
    }
   ],
   "source": [
    "gme = pd.read_csv('https://ist691.s3.us-east-2.amazonaws.com/GME.csv')\n",
    "gme"
   ]
  },
  {
   "cell_type": "markdown",
   "metadata": {
    "id": "TnjPcaNKRL6A"
   },
   "source": [
    "#### We are only using the closing price of the stock on a particular day as our variable of interest."
   ]
  },
  {
   "cell_type": "code",
   "execution_count": 5,
   "metadata": {
    "executionInfo": {
     "elapsed": 1,
     "status": "ok",
     "timestamp": 1691604669619,
     "user": {
      "displayName": "Christopher Dunham",
      "userId": "05514182182652963797"
     },
     "user_tz": 240
    },
    "id": "zbT1KC6DRL6B"
   },
   "outputs": [],
   "source": [
    "gme = np.array(gme['Close'])"
   ]
  },
  {
   "cell_type": "markdown",
   "metadata": {
    "id": "ZU2bga6CRL6B"
   },
   "source": [
    "#### Train, validation, and test data\n",
    "\n",
    "We create 3 different data sets for training, validation and testing. We will use the last two years of data for testing, the 3rd to last year for validation, and remaining data for training."
   ]
  },
  {
   "cell_type": "code",
   "execution_count": 6,
   "metadata": {
    "executionInfo": {
     "elapsed": 152,
     "status": "ok",
     "timestamp": 1691604676509,
     "user": {
      "displayName": "Christopher Dunham",
      "userId": "05514182182652963797"
     },
     "user_tz": 240
    },
    "id": "MyE5kqd7RL6C"
   },
   "outputs": [],
   "source": [
    "# each array needs to be reshaped from 1-d to 2-d for MinMaxScaler() in the next step\n",
    "train_data = gme[:4613].reshape(-1, 1)\n",
    "validation_data = gme[4613:4866].reshape(-1, 1)\n",
    "test_data = gme[4866:].reshape(-1, 1)"
   ]
  },
  {
   "cell_type": "code",
   "execution_count": 7,
   "metadata": {
    "executionInfo": {
     "elapsed": 158,
     "status": "ok",
     "timestamp": 1691604680375,
     "user": {
      "displayName": "Christopher Dunham",
      "userId": "05514182182652963797"
     },
     "user_tz": 240
    },
    "id": "SkaAbwzwRL6D"
   },
   "outputs": [],
   "source": [
    "# initializing scaler object\n",
    "scaler = MinMaxScaler()\n",
    "\n",
    "# fitting our training data into scaler object\n",
    "scaler = scaler.fit(train_data)\n",
    "\n",
    "# transforming training, testing and validation data using scaler object\n",
    "train_data = scaler.transform(train_data)\n",
    "test_data = scaler.transform(test_data)\n",
    "validation_data = scaler.transform(validation_data)"
   ]
  },
  {
   "cell_type": "markdown",
   "metadata": {
    "id": "z5ZQl0RjRL6D"
   },
   "source": [
    "The following function creates a sequence based on the sequence length provided as the parameters. It will create a new dataset with feature as the number of days of data as the sequence and the target variable as the following day's closing price. Suppose sequence is 3, then the first 3 data elements will be our X or features and the 4th day data will be our Y or the target variable."
   ]
  },
  {
   "cell_type": "code",
   "execution_count": 8,
   "metadata": {
    "executionInfo": {
     "elapsed": 154,
     "status": "ok",
     "timestamp": 1691604696366,
     "user": {
      "displayName": "Christopher Dunham",
      "userId": "05514182182652963797"
     },
     "user_tz": 240
    },
    "id": "RkDBTbQ6RL6D"
   },
   "outputs": [],
   "source": [
    "def create_sequences(data, seq_length):\n",
    "    xs = []\n",
    "    ys = []\n",
    "    for i in range(len(data)-seq_length-1):\n",
    "        x = data[i:(i+seq_length)]\n",
    "        y = data[i+seq_length]\n",
    "        xs.append(x)\n",
    "        ys.append(y)\n",
    "    return np.array(xs), np.array(ys)"
   ]
  },
  {
   "cell_type": "code",
   "execution_count": 9,
   "metadata": {
    "executionInfo": {
     "elapsed": 147,
     "status": "ok",
     "timestamp": 1691604699527,
     "user": {
      "displayName": "Christopher Dunham",
      "userId": "05514182182652963797"
     },
     "user_tz": 240
    },
    "id": "2S1a-eH0RL6E"
   },
   "outputs": [],
   "source": [
    "seq_length = 4\n",
    "\n",
    "# creating sequential data for training, testing and validation set\n",
    "X_train, y_train = create_sequences(train_data, seq_length)\n",
    "X_test, y_test = create_sequences(test_data, seq_length)\n",
    "X_val, y_val = create_sequences(validation_data, seq_length)\n",
    "\n",
    "# converting our features and target for all three set into tensors\n",
    "X_train = torch.from_numpy(X_train).float()\n",
    "y_train = torch.from_numpy(y_train).float()\n",
    "\n",
    "X_test = torch.from_numpy(X_test).float()\n",
    "y_test = torch.from_numpy(y_test).float()\n",
    "\n",
    "X_val = torch.from_numpy(X_val).float()\n",
    "y_val = torch.from_numpy(y_val).float()"
   ]
  },
  {
   "cell_type": "markdown",
   "metadata": {
    "id": "Z2fWKsO7jUQB"
   },
   "source": [
    "Here is the first training sequence."
   ]
  },
  {
   "cell_type": "code",
   "execution_count": 10,
   "metadata": {
    "colab": {
     "base_uri": "https://localhost:8080/"
    },
    "executionInfo": {
     "elapsed": 193,
     "status": "ok",
     "timestamp": 1691605522611,
     "user": {
      "displayName": "Christopher Dunham",
      "userId": "05514182182652963797"
     },
     "user_tz": 240
    },
    "id": "D2vY5iCBi7dm",
    "outputId": "68fa04d7-52ac-4d40-82b8-4d59c7b7567e"
   },
   "outputs": [
    {
     "data": {
      "text/plain": [
       "tensor([[0.1190],\n",
       "        [0.1182],\n",
       "        [0.1116],\n",
       "        [0.1169]])"
      ]
     },
     "execution_count": 10,
     "metadata": {},
     "output_type": "execute_result"
    }
   ],
   "source": [
    "X_train[0]"
   ]
  },
  {
   "cell_type": "markdown",
   "metadata": {
    "id": "tzkGptd-jcTr"
   },
   "source": [
    "And here is the target for the sequence above."
   ]
  },
  {
   "cell_type": "code",
   "execution_count": 11,
   "metadata": {
    "colab": {
     "base_uri": "https://localhost:8080/"
    },
    "executionInfo": {
     "elapsed": 151,
     "status": "ok",
     "timestamp": 1691605561528,
     "user": {
      "displayName": "Christopher Dunham",
      "userId": "05514182182652963797"
     },
     "user_tz": 240
    },
    "id": "n4L64hqVjEf2",
    "outputId": "f40330f5-499d-4504-c61d-25b9b276ab5a"
   },
   "outputs": [
    {
     "data": {
      "text/plain": [
       "tensor([0.1165])"
      ]
     },
     "execution_count": 11,
     "metadata": {},
     "output_type": "execute_result"
    }
   ],
   "source": [
    "y_train[0]"
   ]
  },
  {
   "cell_type": "markdown",
   "metadata": {
    "id": "KhHxw_aBj-dN"
   },
   "source": [
    "Remember that our original data has been transformed using `MinMaxScaler`."
   ]
  },
  {
   "cell_type": "code",
   "execution_count": 12,
   "metadata": {
    "colab": {
     "base_uri": "https://localhost:8080/"
    },
    "executionInfo": {
     "elapsed": 142,
     "status": "ok",
     "timestamp": 1691605775642,
     "user": {
      "displayName": "Christopher Dunham",
      "userId": "05514182182652963797"
     },
     "user_tz": 240
    },
    "id": "MAEEtsY8jrYo",
    "outputId": "9f7e8b24-7e8f-44cd-aadd-d937c6e9b5a6"
   },
   "outputs": [
    {
     "data": {
      "text/plain": [
       "array([2.5    , 2.4875 , 2.3875 , 2.46875, 2.4625 ])"
      ]
     },
     "execution_count": 12,
     "metadata": {},
     "output_type": "execute_result"
    }
   ],
   "source": [
    "gme[0:5]"
   ]
  },
  {
   "cell_type": "markdown",
   "metadata": {
    "id": "2eu3bZYRRL6E"
   },
   "source": [
    "For the first task, which is plain backpropogation, we create a model with 1 hidden layer and a sigmoid activation function. Since we have created sequences of 4 features, we will have 4 input nodes and our output will be 1 node."
   ]
  },
  {
   "cell_type": "code",
   "execution_count": 13,
   "metadata": {
    "executionInfo": {
     "elapsed": 140,
     "status": "ok",
     "timestamp": 1691604712358,
     "user": {
      "displayName": "Christopher Dunham",
      "userId": "05514182182652963797"
     },
     "user_tz": 240
    },
    "id": "gplAEPDiRL6E"
   },
   "outputs": [],
   "source": [
    "class Model(nn.Module):\n",
    "    def __init__(self):\n",
    "        super(Model, self).__init__()\n",
    "        self.fc1 = nn.Linear(4, 16)\n",
    "        self.fc2 = nn.Linear(16, 32)\n",
    "        self.fc3 = nn.Linear(32, 1)\n",
    "\n",
    "    def forward(self, x):\n",
    "        x = torch.sigmoid(self.fc1(x))\n",
    "        x = torch.sigmoid(self.fc2(x))\n",
    "        x = self.fc3(x)\n",
    "\n",
    "        return x"
   ]
  },
  {
   "cell_type": "code",
   "execution_count": 13,
   "metadata": {
    "colab": {
     "base_uri": "https://localhost:8080/"
    },
    "executionInfo": {
     "elapsed": 140,
     "status": "ok",
     "timestamp": 1691604715391,
     "user": {
      "displayName": "Christopher Dunham",
      "userId": "05514182182652963797"
     },
     "user_tz": 240
    },
    "id": "fHer4nJURL6F",
    "outputId": "a093c015-5969-4e69-873d-e7d15225f39f"
   },
   "outputs": [
    {
     "name": "stdout",
     "output_type": "stream",
     "text": [
      "----------------------------------------------------------------\n",
      "        Layer (type)               Output Shape         Param #\n",
      "================================================================\n",
      "            Linear-1             [-1, 4022, 16]              80\n",
      "            Linear-2             [-1, 4022, 32]             544\n",
      "            Linear-3              [-1, 4022, 1]              33\n",
      "================================================================\n",
      "Total params: 657\n",
      "Trainable params: 657\n",
      "Non-trainable params: 0\n",
      "----------------------------------------------------------------\n",
      "Input size (MB): 0.06\n",
      "Forward/backward pass size (MB): 1.50\n",
      "Params size (MB): 0.00\n",
      "Estimated Total Size (MB): 1.57\n",
      "----------------------------------------------------------------\n"
     ]
    }
   ],
   "source": [
    "summary(Model(), input_size = (4022,4))"
   ]
  },
  {
   "cell_type": "markdown",
   "metadata": {
    "id": "-DYpfmj9f9Va"
   },
   "source": [
    "We have to reshape the data for our linear model. Since we will pass one dimensional data, and our data is\n",
    "in 2 dimensions. So we will use reshape function to re-shape the data.\n",
    "Example: `[[[1],[2],[3]]] -> shape is (1,3,1)`\n",
    "\n",
    "The above data is in 3 dimensions, where the first dimension indicates total number of rows in our data, and the second and third\n",
    "dimensions give us the dimension of the data passed into the model.\n",
    "\n",
    "So we have to convert `(1,3,1) => (1,3)` so that we can pass that into our linear model."
   ]
  },
  {
   "cell_type": "code",
   "execution_count": 14,
   "metadata": {
    "colab": {
     "base_uri": "https://localhost:8080/"
    },
    "executionInfo": {
     "elapsed": 144,
     "status": "ok",
     "timestamp": 1691609040579,
     "user": {
      "displayName": "Christopher Dunham",
      "userId": "05514182182652963797"
     },
     "user_tz": 240
    },
    "id": "Kr1QfhZdwCW-",
    "outputId": "8e57a438-24c3-428c-cd9b-1abcf771b588"
   },
   "outputs": [
    {
     "name": "stdout",
     "output_type": "stream",
     "text": [
      "X_train shape: torch.Size([4608, 4, 1])\n",
      "X_val shape: torch.Size([248, 4, 1])\n",
      "X_test shape: torch.Size([499, 4, 1])\n"
     ]
    }
   ],
   "source": [
    "print('X_train shape:', X_train.shape)\n",
    "print('X_val shape:', X_val.shape)\n",
    "print('X_test shape:', X_test.shape)"
   ]
  },
  {
   "cell_type": "code",
   "execution_count": 15,
   "metadata": {
    "executionInfo": {
     "elapsed": 126,
     "status": "ok",
     "timestamp": 1691609059613,
     "user": {
      "displayName": "Christopher Dunham",
      "userId": "05514182182652963797"
     },
     "user_tz": 240
    },
    "id": "kQvbHbsYRL6G"
   },
   "outputs": [],
   "source": [
    "train = X_train.reshape(4608,4)\n",
    "validation = X_val.reshape(248,4)\n",
    "test = X_test.reshape(499,4)"
   ]
  },
  {
   "cell_type": "code",
   "execution_count": 16,
   "metadata": {
    "executionInfo": {
     "elapsed": 159,
     "status": "ok",
     "timestamp": 1691604825749,
     "user": {
      "displayName": "Christopher Dunham",
      "userId": "05514182182652963797"
     },
     "user_tz": 240
    },
    "id": "x2xC4uyNRL6G"
   },
   "outputs": [],
   "source": [
    "model = Model()\n",
    "# make_dot(model(X_train), params=dict(model.named_parameters()))"
   ]
  },
  {
   "cell_type": "code",
   "execution_count": 17,
   "metadata": {
    "colab": {
     "base_uri": "https://localhost:8080/"
    },
    "executionInfo": {
     "elapsed": 626,
     "status": "ok",
     "timestamp": 1691609096900,
     "user": {
      "displayName": "Christopher Dunham",
      "userId": "05514182182652963797"
     },
     "user_tz": 240
    },
    "id": "7vx9U7vERL6G",
    "outputId": "e3e4e849-cc4a-498d-b0ea-41d19d369ab7"
   },
   "outputs": [
    {
     "name": "stderr",
     "output_type": "stream",
     "text": [
      "/Users/zanealderfer/opt/anaconda3/lib/python3.9/site-packages/torch/nn/modules/loss.py:535: UserWarning:\n",
      "\n",
      "Using a target size (torch.Size([4])) that is different to the input size (torch.Size([1])). This will likely lead to incorrect results due to broadcasting. Please ensure they have the same size.\n",
      "\n"
     ]
    },
    {
     "name": "stdout",
     "output_type": "stream",
     "text": [
      "Epoch: 0, training loss: 0.00001 , validation loss: 0.00708\n",
      "Epoch: 20, training loss: 0.00119 , validation loss: 0.00238\n",
      "Epoch: 40, training loss: 0.00067 , validation loss: 0.01181\n",
      "Epoch: 60, training loss: 0.00001 , validation loss: 0.00720\n",
      "Epoch: 80, training loss: 0.00001 , validation loss: 0.00685\n",
      "Epoch: 100, training loss: 0.00001 , validation loss: 0.00699\n",
      "Epoch: 120, training loss: 0.00001 , validation loss: 0.00696\n",
      "Epoch: 140, training loss: 0.00001 , validation loss: 0.00687\n",
      "Epoch: 160, training loss: 0.00001 , validation loss: 0.00689\n",
      "Epoch: 180, training loss: 0.00001 , validation loss: 0.00689\n",
      "Epoch: 200, training loss: 0.00001 , validation loss: 0.00689\n",
      "Epoch: 220, training loss: 0.00001 , validation loss: 0.00689\n",
      "Epoch: 240, training loss: 0.00001 , validation loss: 0.00689\n",
      "Epoch: 260, training loss: 0.00001 , validation loss: 0.00689\n",
      "Epoch: 280, training loss: 0.00001 , validation loss: 0.00689\n"
     ]
    }
   ],
   "source": [
    "num_epochs = 300\n",
    "\n",
    "learning_rate = 0.01\n",
    "\n",
    "X_train = train[0]\n",
    "y_train = train[1]\n",
    "\n",
    "X_val = validation[0]\n",
    "y_val = validation[1]\n",
    "\n",
    "# loss functiom\n",
    "criterion = torch.nn.MSELoss() # mean-squared error for regression\n",
    "\n",
    "# initialization of Adam optimizer\n",
    "optimizer = torch.optim.Adam(model.parameters(), lr=learning_rate)\n",
    "#optimizer = torch.optim.SGD(lstm.parameters(), lr=learning_rate)\n",
    "\n",
    "# initilizing empty list for storing training loss, test loss and computation time\n",
    "train_lss = []\n",
    "val_loss = []\n",
    "\n",
    "# train the model\n",
    "for epoch in range(num_epochs):\n",
    "    outputs = model(X_train)\n",
    "    optimizer.zero_grad()\n",
    "    # obtain the loss function\n",
    "    loss = criterion(outputs, y_train)\n",
    "    with torch.no_grad():\n",
    "        y_val_pred = model(X_val)\n",
    "        val_lss = criterion(y_val_pred.float(), y_val)\n",
    "        val_loss.append(val_lss.item())\n",
    "    train_lss.append(loss.item())\n",
    "\n",
    "    loss.backward()\n",
    "    optimizer.step()\n",
    "\n",
    "    if epoch % 20 == 0:\n",
    "        print(\"Epoch: %d, training loss: %1.5f , validation loss: %1.5f\"\n",
    "              % (epoch, loss.item(),val_lss.item()))\n",
    "\n"
   ]
  },
  {
   "cell_type": "code",
   "execution_count": 18,
   "metadata": {
    "colab": {
     "base_uri": "https://localhost:8080/",
     "height": 564
    },
    "executionInfo": {
     "elapsed": 1044,
     "status": "ok",
     "timestamp": 1691609142045,
     "user": {
      "displayName": "Christopher Dunham",
      "userId": "05514182182652963797"
     },
     "user_tz": 240
    },
    "id": "Qb9iEc0GRL6H",
    "outputId": "e0b5f4c2-0b91-4833-e5ee-62e168849426"
   },
   "outputs": [
    {
     "data": {
      "image/png": "[encoded data removed]",
      "text/plain": [
       "<Figure size 720x432 with 1 Axes>"
      ]
     },
     "metadata": {
      "needs_background": "light"
     },
     "output_type": "display_data"
    }
   ],
   "source": [
    "blue_patch = mpatches.Patch(color = 'blue', label = 'Train MSE')\n",
    "green_patch = mpatches.Patch(color = 'orange', label = 'Validation MSE')\n",
    "\n",
    "plt.figure(figsize=(10,6))\n",
    "\n",
    "sns.lineplot(x=range(1,300+1),y = train_lss)\n",
    "sns.lineplot(x=range(1,300+1),y = val_loss)\n",
    "\n",
    "plt.xlabel('EPOCH')\n",
    "plt.ylabel('MSE')\n",
    "plt.legend(handles = [blue_patch,green_patch])\n",
    "plt.title('Training and Validation loss');\n"
   ]
  }
 ],
 "metadata": {
  "colab": {
   "provenance": []
  },
  "kernelspec": {
   "display_name": "Python 3 (ipykernel)",
   "language": "python",
   "name": "python3"
  },
  "language_info": {
   "codemirror_mode": {
    "name": "ipython",
    "version": 3
   },
   "file_extension": ".py",
   "mimetype": "text/x-python",
   "name": "python",
   "nbconvert_exporter": "python",
   "pygments_lexer": "ipython3",
   "version": "3.9.7"
  }
 },
 "nbformat": 4,
 "nbformat_minor": 1
}
