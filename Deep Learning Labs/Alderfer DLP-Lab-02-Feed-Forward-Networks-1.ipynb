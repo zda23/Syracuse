{
 "cells": [
  {
   "cell_type": "markdown",
   "metadata": {
    "id": "gEP_82fox9z9"
   },
   "source": [
    "# Feed Forward Networks Using Keras\n",
    "\n",
    "Content in this notebook is taken from keras.io"
   ]
  },
  {
   "cell_type": "code",
   "execution_count": 2,
   "metadata": {
    "id": "v5iLYX6ENrTh"
   },
   "outputs": [],
   "source": [
    "import numpy as np\n",
    "from keras.models import Sequential\n",
    "from keras.layers import Dense, Dropout, Activation\n",
    "import keras\n",
    "import tensorflow as tf\n",
    "import matplotlib.pyplot as plt\n",
    "import pandas as pd"
   ]
  },
  {
   "cell_type": "markdown",
   "metadata": {
    "id": "SKIC9CGdNrTi"
   },
   "source": [
    "### Building a Network for an XOR Gate"
   ]
  },
  {
   "cell_type": "markdown",
   "metadata": {
    "id": "gA7Pxb5XNrTi"
   },
   "source": [
    "\n",
    "We will be implementing a 2-input XOR gate using Keras. We choose the XOR problem to explain the basic neural network because it is one of the most common ANN research problems. We will try to predict the output of an XOR gate given two or three binary inputs.\n",
    "\n",
    "For the two-input XOR gate problem, it should return a `True` value if both inputs are not equal and a `False` value if they are equal.\n",
    "\n",
    "| Input 1 | Input 2 | Output |\n",
    "| --- | --- | --- |\n",
    "| 0 | 0 | 0 |\n",
    "| 0 | 1 | 1 |\n",
    "| 1 | 0 | 1 |\n",
    "| 1 | 1 | 0 |\n",
    "\n",
    "`Input 1` and `Input 2` will be our training data for the model and `Output` will be the target."
   ]
  },
  {
   "cell_type": "code",
   "execution_count": 3,
   "metadata": {
    "id": "i2EcXTM4NrTj"
   },
   "outputs": [],
   "source": [
    "# training data: numpy array, two inputs of a XOR gate\n",
    "training_data = np.array([[0,0],[0,1],[1,0],[1,1]], \"float32\")\n",
    "\n",
    "# test data: numpy array\n",
    "test_data = np.array([[0,1],[1,1],[1,0],[0,0]], \"float32\")\n",
    "\n",
    "# target: numpy array, output of a XOR gate\n",
    "target_data = np.array([[0],[1],[1],[0]], \"float32\")"
   ]
  },
  {
   "cell_type": "markdown",
   "metadata": {
    "id": "Lno8-uRJNrTj"
   },
   "source": [
    "**Sequential Model**\n",
    "\n",
    "The Keras `Sequential` class helps to form a cluster of layers that is linearly stacked into `tf.keras.Model`. The features of training and inference are provided by `Sequential` to this model. (Definition taken from keras.io)\n",
    "\n",
    "`Sequential` has two methods, `add` and `pop`. The `add()` method adds la ayer on the top of the stack and the `pop()` method removes the last layer from stack. Documentation for the `Sequential` method can be accessed at the <a href=\"https://keras.io/api/models/sequential/\">`Sequential`</a> layer source page."
   ]
  },
  {
   "cell_type": "markdown",
   "metadata": {
    "id": "ymD0YlnR2BtU"
   },
   "source": [
    "**Dense Layer**\n",
    "\n",
    "The `Dense` layer is a fully connected neural network layer. It is the most commonly used layer in Keras models. Below is the structure of the `Dense` layer and the name of all the default parameters which can be tuned.\n",
    "\n",
    "```\n",
    "tf.keras.layers.Dense(\n",
    "    units,\n",
    "    activation=None,\n",
    "    use_bias=True,\n",
    "    kernel_initializer=\"glorot_uniform\",\n",
    "    bias_initializer=\"zeros\",\n",
    "    kernel_regularizer=None,\n",
    "    bias_regularizer=None,\n",
    "    activity_regularizer=None,\n",
    "    kernel_constraint=None,\n",
    "    bias_constraint=None,\n",
    "    **kwargs\n",
    ")\n",
    "```\n",
    "\n",
    "Parameter details can be accessed on the <a href=\"https://keras.io/api/layers/core_layers/dense/\">`Dense`</a> layer source page.\n"
   ]
  },
  {
   "cell_type": "markdown",
   "metadata": {
    "id": "d_P0Y9Xx2F_G"
   },
   "source": [
    "**ReLU Activation Function**\n",
    "\n",
    "The ReLU function is probably the closest to its biological counterpart. It's a mix of the identity and the threshold function, and it's called the rectifier, or ReLU, as in Rectified Linear Unit.\n",
    "\n",
    "<img src=\"https://ist691.s3.us-east-2.amazonaws.com/images/relu.jpg\" width=\"150\"/>"
   ]
  },
  {
   "cell_type": "markdown",
   "metadata": {
    "id": "MWuOa_pq2LiN"
   },
   "source": [
    "**Sigmoid Activation Function**\n",
    "\n",
    "The sigmoid activation function is called bipolar sigmoid, and it's simply a logistic sigmoid rescaled and translated to have a range in (-1, 1).\n",
    "\n",
    "<img src=\"https://ist691.s3.us-east-2.amazonaws.com/images/sigmoid.jpg\" width=\"300\"/>"
   ]
  },
  {
   "cell_type": "code",
   "execution_count": 4,
   "metadata": {
    "id": "vE89BCvTNrTl"
   },
   "outputs": [],
   "source": [
    "model = Sequential()\n",
    "\n",
    "# adding a dense with output as 16 and activation function as relu\n",
    "model.add(Dense(16, input_dim = 2, activation = 'relu'))\n",
    "\n",
    "# adding a dense output layer with output as one neuron and sigmoid activation function\n",
    "model.add(Dense(1, activation = 'sigmoid'))"
   ]
  },
  {
   "cell_type": "markdown",
   "metadata": {
    "id": "wMpuAh4uNrTm"
   },
   "source": [
    "\n",
    "`model.summary()` gives us the summary of the model including the total number of parameters, different layers, output shape and parameters in each layer."
   ]
  },
  {
   "cell_type": "code",
   "execution_count": 5,
   "metadata": {
    "id": "5XsnbnzQNrTn"
   },
   "outputs": [
    {
     "name": "stdout",
     "output_type": "stream",
     "text": [
      "Model: \"sequential\"\n",
      "_________________________________________________________________\n",
      " Layer (type)                Output Shape              Param #   \n",
      "=================================================================\n",
      " dense (Dense)               (None, 16)                48        \n",
      "                                                                 \n",
      " dense_1 (Dense)             (None, 1)                 17        \n",
      "                                                                 \n",
      "=================================================================\n",
      "Total params: 65 (260.00 Byte)\n",
      "Trainable params: 65 (260.00 Byte)\n",
      "Non-trainable params: 0 (0.00 Byte)\n",
      "_________________________________________________________________\n"
     ]
    }
   ],
   "source": [
    "model.summary()"
   ]
  },
  {
   "cell_type": "markdown",
   "metadata": {
    "id": "_Q0IjpirNrTn"
   },
   "source": [
    "**Mean Square Error (MSE) Loss Function**\n",
    "\n",
    "Computes the mean of squares of errors between labels and predictions.\n",
    "\n",
    "<img src=\"https://ist691.s3.us-east-2.amazonaws.com/images/mse.png\" width=\"200\"/>"
   ]
  },
  {
   "cell_type": "markdown",
   "metadata": {
    "id": "c02y9HRH2r__"
   },
   "source": [
    "**Adam Optimizer**\n",
    "\n",
    "An optimization algorithm that can be used instead of the classical stochastic gradient descent procedure to update network weights iterative based in training data.\n"
   ]
  },
  {
   "cell_type": "markdown",
   "metadata": {
    "id": "axnxRzcu2xMy"
   },
   "source": [
    "**Binary Accuracy**\n",
    "\n",
    "Calculates how often predictions match binary labels.\n",
    "\n",
    "This metric creates two local variables, `total` and `count` that are used to compute the frequency with which `y_pred` matches `y_true`. This frequency is ultimately returned as binary accuracy: an <a href=\"https://en.wikipedia.org/wiki/Idempotence\">idempotent operation</a> that simply divides total by count."
   ]
  },
  {
   "cell_type": "markdown",
   "metadata": {
    "id": "idpXEicq230G"
   },
   "source": [
    "Compile the model."
   ]
  },
  {
   "cell_type": "code",
   "execution_count": 6,
   "metadata": {
    "id": "CiV5J-SDNrTo"
   },
   "outputs": [],
   "source": [
    "model.compile(loss = 'mean_squared_error',\n",
    "              optimizer = 'adam',\n",
    "              metrics = ['binary_accuracy'])"
   ]
  },
  {
   "cell_type": "markdown",
   "metadata": {
    "id": "07PSHFRuNrTo"
   },
   "source": [
    "**`model.fit`**\n",
    "\n",
    "Trains the model for a fixed number of epochs (iterations on a dataset).\n",
    "\n",
    "Below is the parameter names and their default values of the model.fit() function.\n",
    "\n",
    "```\n",
    "model.fit(\n",
    "    x=None,\n",
    "    y=None,\n",
    "    batch_size=None,\n",
    "    epochs=1,\n",
    "    verbose=1,\n",
    "    callbacks=None,\n",
    "    validation_split=0.0,\n",
    "    validation_data=None,\n",
    "    shuffle=True,\n",
    "    class_weight=None,\n",
    "    sample_weight=None,\n",
    "    initial_epoch=0,\n",
    "    steps_per_epoch=None,\n",
    "    validation_steps=None,\n",
    "    validation_batch_size=None,\n",
    "    validation_freq=1,\n",
    "    max_queue_size=10,\n",
    "    workers=1,\n",
    "    use_multiprocessing=False,\n",
    ")\n",
    "```\n",
    "\n",
    "For this section of the lab, we will utilize the `epochs` and `verbose` paramters of `model.fit`.\n",
    "\n",
    "**`Epoch`**: One complete cycle of weight updates through the training data set.\n",
    "\n",
    "**`Verbose`**: Progress bar shown while training the model. 0 = silent, 1 = progress bar, and 2 = one line per epoch.\n",
    "\n",
    "More information about the description of all other parameters can be found on the <a href=\"https://keras.io/api/models/model_training_apis/#fit-method\">`model.fit()`</a> source page."
   ]
  },
  {
   "cell_type": "code",
   "execution_count": 7,
   "metadata": {
    "id": "-EzjNCz8NrTp"
   },
   "outputs": [
    {
     "name": "stdout",
     "output_type": "stream",
     "text": [
      "Epoch 1/10\n",
      "1/1 [==============================] - 1s 1s/step - loss: 0.2451 - binary_accuracy: 0.5000\n",
      "Epoch 2/10\n",
      "1/1 [==============================] - 0s 27ms/step - loss: 0.2448 - binary_accuracy: 0.2500\n",
      "Epoch 3/10\n",
      "1/1 [==============================] - 0s 17ms/step - loss: 0.2445 - binary_accuracy: 0.5000\n",
      "Epoch 4/10\n",
      "1/1 [==============================] - 0s 20ms/step - loss: 0.2442 - binary_accuracy: 0.7500\n",
      "Epoch 5/10\n",
      "1/1 [==============================] - 0s 33ms/step - loss: 0.2438 - binary_accuracy: 0.7500\n",
      "Epoch 6/10\n",
      "1/1 [==============================] - 0s 24ms/step - loss: 0.2435 - binary_accuracy: 0.7500\n",
      "Epoch 7/10\n",
      "1/1 [==============================] - 0s 18ms/step - loss: 0.2432 - binary_accuracy: 0.7500\n",
      "Epoch 8/10\n",
      "1/1 [==============================] - 0s 31ms/step - loss: 0.2429 - binary_accuracy: 0.7500\n",
      "Epoch 9/10\n",
      "1/1 [==============================] - 0s 35ms/step - loss: 0.2426 - binary_accuracy: 0.7500\n",
      "Epoch 10/10\n",
      "1/1 [==============================] - 0s 33ms/step - loss: 0.2423 - binary_accuracy: 0.7500\n"
     ]
    }
   ],
   "source": [
    "history= model.fit(training_data, target_data, epochs = 10, verbose = 1)"
   ]
  },
  {
   "cell_type": "markdown",
   "metadata": {
    "id": "b3sgcz8eNrTp"
   },
   "source": [
    "#### `model.predict`\n",
    "\n",
    "This function is used to generate output predictions for the input data.\n",
    "\n",
    "> <a href=\"https://keras.io/api/models/model_training_apis/#predict-method\"> Prediction</a> method source page"
   ]
  },
  {
   "cell_type": "code",
   "execution_count": 8,
   "metadata": {
    "id": "OOVc4_wNNrTp"
   },
   "outputs": [
    {
     "name": "stdout",
     "output_type": "stream",
     "text": [
      "1/1 [==============================] - 0s 119ms/step\n",
      "[[1.]\n",
      " [0.]\n",
      " [0.]\n",
      " [0.]]\n"
     ]
    }
   ],
   "source": [
    "print(model.predict(test_data).round())"
   ]
  },
  {
   "cell_type": "markdown",
   "metadata": {
    "id": "d2DIgYg1NrTq"
   },
   "source": [
    "### Building a Network Using the `iris` Dataset\n",
    "\n",
    "This is perhaps the best known database to be found in the pattern recognition literature. The data set contains 3 classes of 50 instances each, where each class refers to a type of iris plant. One class is linearly separable from the other 2; the latter are NOT linearly separable from each other.\n",
    "\n",
    "Predicted attribute: class of iris plant.\n",
    "\n",
    "Attribute Information:\n",
    "\n",
    "1. sepal length in cm\n",
    "2. sepal width in cm\n",
    "3. petal length in cm\n",
    "4. petal width in cm\n",
    "5. class: Iris-setosa; Iris-versicolour; Iris-virginica"
   ]
  },
  {
   "cell_type": "code",
   "execution_count": 9,
   "metadata": {
    "id": "8L8f_uIFNrTq"
   },
   "outputs": [],
   "source": [
    "# read in the dataset using read.csv method\n",
    "iris = pd.read_csv('https://ist691.s3.us-east-2.amazonaws.com/iris.csv')"
   ]
  },
  {
   "cell_type": "code",
   "execution_count": 10,
   "metadata": {
    "id": "bZHQIY91NrTr"
   },
   "outputs": [
    {
     "data": {
      "text/html": [
       "<div>\n",
       "<style scoped>\n",
       "    .dataframe tbody tr th:only-of-type {\n",
       "        vertical-align: middle;\n",
       "    }\n",
       "\n",
       "    .dataframe tbody tr th {\n",
       "        vertical-align: top;\n",
       "    }\n",
       "\n",
       "    .dataframe thead th {\n",
       "        text-align: right;\n",
       "    }\n",
       "</style>\n",
       "<table border=\"1\" class=\"dataframe\">\n",
       "  <thead>\n",
       "    <tr style=\"text-align: right;\">\n",
       "      <th></th>\n",
       "      <th>Id</th>\n",
       "      <th>SepalLengthCm</th>\n",
       "      <th>SepalWidthCm</th>\n",
       "      <th>PetalLengthCm</th>\n",
       "      <th>PetalWidthCm</th>\n",
       "      <th>Species</th>\n",
       "    </tr>\n",
       "  </thead>\n",
       "  <tbody>\n",
       "    <tr>\n",
       "      <th>0</th>\n",
       "      <td>1</td>\n",
       "      <td>5.1</td>\n",
       "      <td>3.5</td>\n",
       "      <td>1.4</td>\n",
       "      <td>0.2</td>\n",
       "      <td>Iris-setosa</td>\n",
       "    </tr>\n",
       "    <tr>\n",
       "      <th>1</th>\n",
       "      <td>2</td>\n",
       "      <td>4.9</td>\n",
       "      <td>3.0</td>\n",
       "      <td>1.4</td>\n",
       "      <td>0.2</td>\n",
       "      <td>Iris-setosa</td>\n",
       "    </tr>\n",
       "    <tr>\n",
       "      <th>2</th>\n",
       "      <td>3</td>\n",
       "      <td>4.7</td>\n",
       "      <td>3.2</td>\n",
       "      <td>1.3</td>\n",
       "      <td>0.2</td>\n",
       "      <td>Iris-setosa</td>\n",
       "    </tr>\n",
       "    <tr>\n",
       "      <th>3</th>\n",
       "      <td>4</td>\n",
       "      <td>4.6</td>\n",
       "      <td>3.1</td>\n",
       "      <td>1.5</td>\n",
       "      <td>0.2</td>\n",
       "      <td>Iris-setosa</td>\n",
       "    </tr>\n",
       "    <tr>\n",
       "      <th>4</th>\n",
       "      <td>5</td>\n",
       "      <td>5.0</td>\n",
       "      <td>3.6</td>\n",
       "      <td>1.4</td>\n",
       "      <td>0.2</td>\n",
       "      <td>Iris-setosa</td>\n",
       "    </tr>\n",
       "  </tbody>\n",
       "</table>\n",
       "</div>"
      ],
      "text/plain": [
       "   Id  SepalLengthCm  SepalWidthCm  PetalLengthCm  PetalWidthCm      Species\n",
       "0   1            5.1           3.5            1.4           0.2  Iris-setosa\n",
       "1   2            4.9           3.0            1.4           0.2  Iris-setosa\n",
       "2   3            4.7           3.2            1.3           0.2  Iris-setosa\n",
       "3   4            4.6           3.1            1.5           0.2  Iris-setosa\n",
       "4   5            5.0           3.6            1.4           0.2  Iris-setosa"
      ]
     },
     "execution_count": 10,
     "metadata": {},
     "output_type": "execute_result"
    }
   ],
   "source": [
    "# df.head method returns the top 5 rows from the dataframe\n",
    "iris.head()"
   ]
  },
  {
   "cell_type": "code",
   "execution_count": 11,
   "metadata": {
    "id": "ELGLPzSA515J"
   },
   "outputs": [
    {
     "data": {
      "text/plain": [
       "Species\n",
       "Iris-setosa        50\n",
       "Iris-versicolor    50\n",
       "Iris-virginica     50\n",
       "Name: count, dtype: int64"
      ]
     },
     "execution_count": 11,
     "metadata": {},
     "output_type": "execute_result"
    }
   ],
   "source": [
    "iris.Species.value_counts()"
   ]
  },
  {
   "cell_type": "code",
   "execution_count": 12,
   "metadata": {
    "id": "5yb94xuMNrTr"
   },
   "outputs": [],
   "source": [
    "# selecting sepal length, sepal width, petal length, petal width as features\n",
    "X = iris.iloc[:,1:5].values\n",
    "\n",
    "# selecting species as the target variable\n",
    "y = iris.iloc[:,5].values"
   ]
  },
  {
   "cell_type": "code",
   "execution_count": 13,
   "metadata": {
    "id": "aEhw5W44NrTr"
   },
   "outputs": [
    {
     "data": {
      "text/plain": [
       "array([[ True, False, False],\n",
       "       [ True, False, False]])"
      ]
     },
     "execution_count": 13,
     "metadata": {},
     "output_type": "execute_result"
    }
   ],
   "source": [
    "# convert categorical data into dummy variables\n",
    "y = pd.get_dummies(y).values\n",
    "y[:2]"
   ]
  },
  {
   "cell_type": "markdown",
   "metadata": {
    "id": "usKDCQuNNrTr"
   },
   "source": [
    "In the dummies we created in the last step, the value 1 in the list indicates a `True` value. In each row, only one value can be `True`, which means each row belongs to one class."
   ]
  },
  {
   "cell_type": "code",
   "execution_count": 14,
   "metadata": {
    "id": "F6rsqRFONrTs"
   },
   "outputs": [],
   "source": [
    "# splitting the data into train and test using the train_test_split function of sklearn\n",
    "from sklearn.model_selection import train_test_split\n",
    "\n",
    "# spliting the dataset into 75:25 ratio\n",
    "X_train, X_test, y_train, y_test = train_test_split(X, y, test_size = 0.25, random_state = 100)"
   ]
  },
  {
   "cell_type": "code",
   "execution_count": 15,
   "metadata": {
    "id": "wQgXEy7INrTs"
   },
   "outputs": [],
   "source": [
    "from keras.models import Sequential\n",
    "from keras.layers import Dense\n",
    "from tensorflow.keras.optimizers import SGD\n",
    "from tensorflow.keras.optimizers import Adam"
   ]
  },
  {
   "cell_type": "code",
   "execution_count": 16,
   "metadata": {
    "id": "t00hUKBFNrTs"
   },
   "outputs": [],
   "source": [
    "model = Sequential()\n",
    "model.add(Dense(16, input_shape = (4,), activation = 'relu'))\n",
    "model.add(Dense(12, activation = 'sigmoid'))\n",
    "model.add(Dense(8, activation = 'relu'))\n",
    "model.add(Dense(3, activation = 'softmax'))"
   ]
  },
  {
   "cell_type": "code",
   "execution_count": 17,
   "metadata": {
    "id": "Y8VDotKrNrTs"
   },
   "outputs": [
    {
     "name": "stdout",
     "output_type": "stream",
     "text": [
      "You must install pydot (`pip install pydot`) and install graphviz (see instructions at https://graphviz.gitlab.io/download/) for plot_model to work.\n"
     ]
    }
   ],
   "source": [
    "keras.utils.plot_model(model, 'my_first_model.png', show_shapes = True)"
   ]
  },
  {
   "cell_type": "code",
   "execution_count": 18,
   "metadata": {
    "id": "SlA3jGbRNrTs"
   },
   "outputs": [
    {
     "name": "stdout",
     "output_type": "stream",
     "text": [
      "Model: \"sequential_1\"\n",
      "_________________________________________________________________\n",
      " Layer (type)                Output Shape              Param #   \n",
      "=================================================================\n",
      " dense_2 (Dense)             (None, 16)                80        \n",
      "                                                                 \n",
      " dense_3 (Dense)             (None, 12)                204       \n",
      "                                                                 \n",
      " dense_4 (Dense)             (None, 8)                 104       \n",
      "                                                                 \n",
      " dense_5 (Dense)             (None, 3)                 27        \n",
      "                                                                 \n",
      "=================================================================\n",
      "Total params: 415 (1.62 KB)\n",
      "Trainable params: 415 (1.62 KB)\n",
      "Non-trainable params: 0 (0.00 Byte)\n",
      "_________________________________________________________________\n"
     ]
    }
   ],
   "source": [
    "model.summary()"
   ]
  },
  {
   "cell_type": "code",
   "execution_count": 19,
   "metadata": {
    "id": "CutlqhBsNrTt"
   },
   "outputs": [],
   "source": [
    "model.compile(Adam(learning_rate = 0.005),\n",
    "              'categorical_crossentropy',\n",
    "              metrics = ['accuracy'])"
   ]
  },
  {
   "cell_type": "code",
   "execution_count": 20,
   "metadata": {
    "id": "P5WNSSNpNrTt"
   },
   "outputs": [
    {
     "name": "stdout",
     "output_type": "stream",
     "text": [
      "Epoch 1/10\n",
      "4/4 [==============================] - 1s 9ms/step - loss: 1.1231 - accuracy: 0.3214\n",
      "Epoch 2/10\n",
      "4/4 [==============================] - 0s 7ms/step - loss: 1.0716 - accuracy: 0.4286\n",
      "Epoch 3/10\n",
      "4/4 [==============================] - 0s 8ms/step - loss: 1.0410 - accuracy: 0.5089\n",
      "Epoch 4/10\n",
      "4/4 [==============================] - 0s 9ms/step - loss: 1.0225 - accuracy: 0.4375\n",
      "Epoch 5/10\n",
      "4/4 [==============================] - 0s 9ms/step - loss: 1.0032 - accuracy: 0.5446\n",
      "Epoch 6/10\n",
      "4/4 [==============================] - 0s 8ms/step - loss: 0.9766 - accuracy: 0.3750\n",
      "Epoch 7/10\n",
      "4/4 [==============================] - 0s 11ms/step - loss: 0.9587 - accuracy: 0.3214\n",
      "Epoch 8/10\n",
      "4/4 [==============================] - 0s 16ms/step - loss: 0.9413 - accuracy: 0.3214\n",
      "Epoch 9/10\n",
      "4/4 [==============================] - 0s 9ms/step - loss: 0.9229 - accuracy: 0.3214\n",
      "Epoch 10/10\n",
      "4/4 [==============================] - 0s 7ms/step - loss: 0.9046 - accuracy: 0.3304\n",
      "2/2 [==============================] - 0s 4ms/step\n"
     ]
    }
   ],
   "source": [
    "model.fit(X_train, y_train, epochs = 10)\n",
    "y_pred = model.predict(X_test)"
   ]
  },
  {
   "cell_type": "code",
   "execution_count": 21,
   "metadata": {
    "id": "oaOXhMFWNrTt"
   },
   "outputs": [],
   "source": [
    "y_test_class = np.argmax(y_test,axis = 1)\n",
    "y_pred_class = np.argmax(y_pred,axis = 1)"
   ]
  },
  {
   "cell_type": "code",
   "execution_count": 22,
   "metadata": {
    "id": "0H3tSZ6gNrTt"
   },
   "outputs": [
    {
     "name": "stdout",
     "output_type": "stream",
     "text": [
      "              precision    recall  f1-score   support\n",
      "\n",
      "           0       1.00      0.29      0.44        14\n",
      "           1       0.00      0.00      0.00        10\n",
      "           2       0.58      1.00      0.74        14\n",
      "\n",
      "    accuracy                           0.47        38\n",
      "   macro avg       0.53      0.43      0.39        38\n",
      "weighted avg       0.58      0.47      0.44        38\n",
      "\n",
      "[[ 4 10  0]\n",
      " [ 0  0 10]\n",
      " [ 0  0 14]]\n"
     ]
    }
   ],
   "source": [
    "from sklearn.metrics import classification_report, confusion_matrix\n",
    "print(classification_report(y_test_class, y_pred_class))\n",
    "print(confusion_matrix(y_test_class, y_pred_class))"
   ]
  }
 ],
 "metadata": {
  "colab": {
   "provenance": []
  },
  "kernelspec": {
   "display_name": "Python 3 (ipykernel)",
   "language": "python",
   "name": "python3"
  },
  "language_info": {
   "codemirror_mode": {
    "name": "ipython",
    "version": 3
   },
   "file_extension": ".py",
   "mimetype": "text/x-python",
   "name": "python",
   "nbconvert_exporter": "python",
   "pygments_lexer": "ipython3",
   "version": "3.9.7"
  }
 },
 "nbformat": 4,
 "nbformat_minor": 1
}
