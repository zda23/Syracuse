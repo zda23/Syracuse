{
 "cells": [
  {
   "cell_type": "markdown",
   "metadata": {
    "id": "42bwvaz-A9AA"
   },
   "source": [
    "# IST 691 Deep Learning in Practice\n",
    "\n",
    "**Homework 2**\n",
    "\n",
    "Name:Zane Alderfer\n",
    "\n",
    "SUID:503765874\n",
    "\n",
    "*Save this notebook into your Google Drive. The notebook has appropriate comments at the top of code cells to indicate whether you need to modify them or not. Answer your questions directly in the notebook. Remember to use the GPU as your runtime. Once finished, run ensure all code blocks are run, download the notebook and submit through Blackboard.*"
   ]
  },
  {
   "cell_type": "markdown",
   "metadata": {
    "id": "IpmhSKf6UKmj"
   },
   "source": [
    "### Q1\n",
    "\n",
    "Explain the differences between convolutional neural networks and a multi-layer perceptron. Explain whether the following statement is true, and if true, when it could be true.\n",
    "\n",
    "'An MLP can represent the same functions as a CNN.'"
   ]
  },
  {
   "cell_type": "markdown",
   "metadata": {
    "id": "UIpQY40pUlVy"
   },
   "source": [
    "Some of the differences between a CNN and MLP would be the structure and parameter sharing.  A CNN are specifically used for processing grid-like data such as images.  There are convolutional layers followed by pooling layers and typically end with fully connected layers.  CNNs also use parameter sharing and local connectivity and this allows the CNN to develop spatial hierarchies which allows the network to effective at identifying image.  An MLP have a more general purpose.  They have input, hidden and output layers with each layer connected to the next layer.  MLPs are used moreso for text or tabular data where the relationships between inputs and outputs are more complex.  MLPs do not use spatial arrangements as these networks deal with text not images.  Yes they technically can represent the same functions but MLPs wouldn't be the most effective choice for grid-like data.  "
   ]
  },
  {
   "cell_type": "markdown",
   "metadata": {
    "id": "wJ0fDXyhUoCx"
   },
   "source": [
    "### Q2\n",
    "\n",
    "In class, we saw an example of autoencoders being able to remove the noise of an image. Explain why this happens and what the limits of such funcionality are."
   ]
  },
  {
   "cell_type": "markdown",
   "metadata": {
    "id": "URzCo1Bjn66i"
   },
   "source": [
    "Autoencoders have encoders and decoders which train to reconstruct input data.  The encoder compresses the input image while capturing the essential parts of the image.  The decoder then takes the compressed image and attempts to reconstruct the original image from it.  Some limitations could be the amount of \"noise\" in the image or maybe dealing with certain types of noise that is too complex to deconstruct.  Autoencoders may also remove useful information during the compression process and lead to loss of essential detail."
   ]
  },
  {
   "cell_type": "markdown",
   "metadata": {
    "id": "rV6HB8ARWGEB"
   },
   "source": [
    "### Q3\n",
    "\n",
    "When using transfer learning models, sometimes we get better results by fine-tuning, and some other times we get better results by freezing the parameters before training. Under what circumstances should we fine-tune the model in order to get a better result? And, under what circumstances should we freeze the parameters instead?"
   ]
  },
  {
   "cell_type": "markdown",
   "metadata": {
    "id": "MHYoOL_Fn9D6"
   },
   "source": [
    "Fine-tuning is better for large datasets that are similar to trained model.  Fine-tuning is also better with task-specific features such as dealing with pre-trained models learned features with slight adjustments for the new dataset.  Fine-tuning is also great at generalizing data to avoid overfitting.  Freezing, however, is better with limited data and also better if the new dataset is significantly different from the original dataset.  Freezing is also better when computational resources are limited."
   ]
  },
  {
   "cell_type": "markdown",
   "metadata": {
    "id": "SMnHyNXTn_PC"
   },
   "source": [
    "### Q4: MLP vs CNN\n",
    "\n",
    "Below, there are two neural networks for classifying MNIST digits: `model_mlp`  is an MLP with no hidden layers (the smallest possible) and 7,850 parameters. Evaluate the performance of this model below.\n",
    "\n",
    "Then, define a convolutional neural network with similar a number of parameters and evaluate its performance. Can it do better? Why?"
   ]
  },
  {
   "cell_type": "code",
   "execution_count": 1,
   "metadata": {
    "id": "J9Ym1hjSn-c2"
   },
   "outputs": [
    {
     "name": "stderr",
     "output_type": "stream",
     "text": [
      "2024-05-13 16:48:06.446753: I tensorflow/core/platform/cpu_feature_guard.cc:182] This TensorFlow binary is optimized to use available CPU instructions in performance-critical operations.\n",
      "To enable the following instructions: AVX2 FMA, in other operations, rebuild TensorFlow with the appropriate compiler flags.\n",
      "/Users/zanealderfer/opt/anaconda3/lib/python3.9/site-packages/scipy/__init__.py:146: UserWarning: A NumPy version >=1.16.5 and <1.23.0 is required for this version of SciPy (detected version 1.26.4\n",
      "  warnings.warn(f\"A NumPy version >={np_minversion} and <{np_maxversion}\"\n",
      "/Users/zanealderfer/opt/anaconda3/lib/python3.9/site-packages/pandas/core/computation/expressions.py:21: UserWarning: Pandas requires version '2.8.4' or newer of 'numexpr' (version '2.7.3' currently installed).\n",
      "  from pandas.core.computation.check import NUMEXPR_INSTALLED\n",
      "/Users/zanealderfer/opt/anaconda3/lib/python3.9/site-packages/pandas/core/arrays/masked.py:60: UserWarning: Pandas requires version '1.3.6' or newer of 'bottleneck' (version '1.3.2' currently installed).\n",
      "  from pandas.core import (\n"
     ]
    },
    {
     "name": "stdout",
     "output_type": "stream",
     "text": [
      "Downloading data from https://storage.googleapis.com/tensorflow/tf-keras-datasets/mnist.npz\n",
      "11490434/11490434 [==============================] - 0s 0us/step\n",
      "x_train shape: (60000, 28, 28, 1)\n",
      "60000 train samples\n",
      "10000 test samples\n",
      "Model: \"sequential\"\n",
      "_________________________________________________________________\n",
      " Layer (type)                Output Shape              Param #   \n",
      "=================================================================\n",
      " flatten (Flatten)           (None, 784)               0         \n",
      "                                                                 \n",
      " dense (Dense)               (None, 10)                7850      \n",
      "                                                                 \n",
      "=================================================================\n",
      "Total params: 7850 (30.66 KB)\n",
      "Trainable params: 7850 (30.66 KB)\n",
      "Non-trainable params: 0 (0.00 Byte)\n",
      "_________________________________________________________________\n"
     ]
    }
   ],
   "source": [
    "# DO NOT MODIFY THIS CELL\n",
    "\n",
    "import numpy as np\n",
    "from tensorflow import keras\n",
    "from tensorflow.keras import layers\n",
    "\n",
    "# Model / data parameters\n",
    "num_classes = 10\n",
    "input_shape = (28, 28, 1)\n",
    "\n",
    "# the data, split between train and test sets\n",
    "(x_train, y_train), (x_test, y_test) = keras.datasets.mnist.load_data()\n",
    "\n",
    "# Scale images to the [0, 1] range\n",
    "x_train = x_train.astype('float32') / 255\n",
    "x_test = x_test.astype('float32') / 255\n",
    "# Make sure images have shape (28, 28, 1)\n",
    "x_train = np.expand_dims(x_train, -1)\n",
    "x_test = np.expand_dims(x_test, -1)\n",
    "print('x_train shape:', x_train.shape)\n",
    "print(x_train.shape[0], 'train samples')\n",
    "print(x_test.shape[0], 'test samples')\n",
    "\n",
    "\n",
    "# convert class vectors to binary class matrices\n",
    "y_train = keras.utils.to_categorical(y_train, num_classes)\n",
    "y_test = keras.utils.to_categorical(y_test, num_classes)\n",
    "\n",
    "model_mlp = keras.Sequential(\n",
    "    [\n",
    "        keras.Input(shape = input_shape),\n",
    "        layers.Flatten(),\n",
    "        layers.Dense(num_classes, activation = 'softmax'),\n",
    "    ]\n",
    ")\n",
    "\n",
    "model_mlp.summary()"
   ]
  },
  {
   "cell_type": "code",
   "execution_count": 2,
   "metadata": {
    "id": "3__Yo5Y6xOvz"
   },
   "outputs": [
    {
     "name": "stdout",
     "output_type": "stream",
     "text": [
      "Epoch 1/15\n",
      "422/422 [==============================] - 2s 4ms/step - loss: 0.7290 - accuracy: 0.8178 - val_loss: 0.3559 - val_accuracy: 0.9143\n",
      "Epoch 2/15\n",
      "422/422 [==============================] - 1s 3ms/step - loss: 0.3811 - accuracy: 0.8977 - val_loss: 0.2870 - val_accuracy: 0.9253\n",
      "Epoch 3/15\n",
      "422/422 [==============================] - 1s 3ms/step - loss: 0.3336 - accuracy: 0.9086 - val_loss: 0.2656 - val_accuracy: 0.9287\n",
      "Epoch 4/15\n",
      "422/422 [==============================] - 1s 3ms/step - loss: 0.3110 - accuracy: 0.9140 - val_loss: 0.2512 - val_accuracy: 0.9318\n",
      "Epoch 5/15\n",
      "422/422 [==============================] - 1s 3ms/step - loss: 0.2977 - accuracy: 0.9171 - val_loss: 0.2428 - val_accuracy: 0.9335\n",
      "Epoch 6/15\n",
      "422/422 [==============================] - 1s 3ms/step - loss: 0.2889 - accuracy: 0.9199 - val_loss: 0.2379 - val_accuracy: 0.9362\n",
      "Epoch 7/15\n",
      "422/422 [==============================] - 1s 4ms/step - loss: 0.2825 - accuracy: 0.9210 - val_loss: 0.2332 - val_accuracy: 0.9368\n",
      "Epoch 8/15\n",
      "422/422 [==============================] - 1s 3ms/step - loss: 0.2773 - accuracy: 0.9231 - val_loss: 0.2314 - val_accuracy: 0.9383\n",
      "Epoch 9/15\n",
      "422/422 [==============================] - 1s 3ms/step - loss: 0.2733 - accuracy: 0.9244 - val_loss: 0.2284 - val_accuracy: 0.9385\n",
      "Epoch 10/15\n",
      "422/422 [==============================] - 1s 3ms/step - loss: 0.2698 - accuracy: 0.9247 - val_loss: 0.2270 - val_accuracy: 0.9385\n",
      "Epoch 11/15\n",
      "422/422 [==============================] - 1s 3ms/step - loss: 0.2667 - accuracy: 0.9255 - val_loss: 0.2286 - val_accuracy: 0.9397\n",
      "Epoch 12/15\n",
      "422/422 [==============================] - 1s 3ms/step - loss: 0.2645 - accuracy: 0.9266 - val_loss: 0.2258 - val_accuracy: 0.9388\n",
      "Epoch 13/15\n",
      "422/422 [==============================] - 1s 3ms/step - loss: 0.2618 - accuracy: 0.9266 - val_loss: 0.2251 - val_accuracy: 0.9395\n",
      "Epoch 14/15\n",
      "422/422 [==============================] - 1s 3ms/step - loss: 0.2602 - accuracy: 0.9274 - val_loss: 0.2240 - val_accuracy: 0.9398\n",
      "Epoch 15/15\n",
      "422/422 [==============================] - 1s 3ms/step - loss: 0.2582 - accuracy: 0.9284 - val_loss: 0.2230 - val_accuracy: 0.9403\n"
     ]
    },
    {
     "data": {
      "text/plain": [
       "<keras.src.callbacks.History at 0x7f98e8ac1dc0>"
      ]
     },
     "execution_count": 2,
     "metadata": {},
     "output_type": "execute_result"
    }
   ],
   "source": [
    "# DO NOT MODIFY CELL\n",
    "batch_size = 128\n",
    "epochs = 15\n",
    "model_mlp.compile(loss = 'categorical_crossentropy',\n",
    "                  optimizer = 'adam',\n",
    "                  metrics = ['accuracy'])\n",
    "\n",
    "model_mlp.fit(x_train,\n",
    "              y_train,\n",
    "              batch_size = batch_size,\n",
    "              epochs = epochs,\n",
    "              validation_split = 0.1,\n",
    "              verbose = 1)"
   ]
  },
  {
   "cell_type": "code",
   "execution_count": 3,
   "metadata": {
    "id": "AleryIHdxVTE"
   },
   "outputs": [
    {
     "name": "stdout",
     "output_type": "stream",
     "text": [
      "Test loss: 0.2641875147819519\n",
      "Test accuracy: 0.9277999997138977\n"
     ]
    }
   ],
   "source": [
    "# DO NOT MODIFY CELL\n",
    "score = model_mlp.evaluate(x_test, y_test, verbose=0)\n",
    "print('Test loss:', score[0])\n",
    "print('Test accuracy:', score[1])"
   ]
  },
  {
   "cell_type": "code",
   "execution_count": 4,
   "metadata": {
    "id": "PU7Y2sRVxXJZ"
   },
   "outputs": [
    {
     "name": "stdout",
     "output_type": "stream",
     "text": [
      "Model: \"sequential_1\"\n",
      "_________________________________________________________________\n",
      " Layer (type)                Output Shape              Param #   \n",
      "=================================================================\n",
      " conv2d (Conv2D)             (None, 26, 26, 16)        160       \n",
      "                                                                 \n",
      " max_pooling2d (MaxPooling2  (None, 13, 13, 16)        0         \n",
      " D)                                                              \n",
      "                                                                 \n",
      " conv2d_1 (Conv2D)           (None, 11, 11, 32)        4640      \n",
      "                                                                 \n",
      " max_pooling2d_1 (MaxPoolin  (None, 5, 5, 32)          0         \n",
      " g2D)                                                            \n",
      "                                                                 \n",
      " flatten_1 (Flatten)         (None, 800)               0         \n",
      "                                                                 \n",
      " dense_1 (Dense)             (None, 128)               102528    \n",
      "                                                                 \n",
      " dense_2 (Dense)             (None, 10)                1290      \n",
      "                                                                 \n",
      "=================================================================\n",
      "Total params: 108618 (424.29 KB)\n",
      "Trainable params: 108618 (424.29 KB)\n",
      "Non-trainable params: 0 (0.00 Byte)\n",
      "_________________________________________________________________\n"
     ]
    }
   ],
   "source": [
    "# DEFINE YOUR OWN CNN SO THAT THE PARAMETERS ARE FEWER THAN THE MLP\n",
    "model_cnn = keras.Sequential(\n",
    "    [\n",
    "        layers.Conv2D(16, kernel_size=(3, 3), activation=\"relu\", input_shape=input_shape),\n",
    "        layers.MaxPooling2D(pool_size=(2, 2)),\n",
    "        layers.Conv2D(32, kernel_size=(3, 3), activation=\"relu\"),\n",
    "        layers.MaxPooling2D(pool_size=(2, 2)),\n",
    "        layers.Flatten(),\n",
    "        layers.Dense(128, activation=\"relu\"),\n",
    "        layers.Dense(num_classes, activation = 'softmax'),\n",
    "    ]\n",
    ")\n",
    "\n",
    "model_cnn.summary()"
   ]
  },
  {
   "cell_type": "code",
   "execution_count": 5,
   "metadata": {
    "id": "L7ZbKxvid1nt"
   },
   "outputs": [
    {
     "name": "stdout",
     "output_type": "stream",
     "text": [
      "Model: \"sequential_2\"\n",
      "_________________________________________________________________\n",
      " Layer (type)                Output Shape              Param #   \n",
      "=================================================================\n",
      " conv2d_2 (Conv2D)           (None, 27, 27, 32)        160       \n",
      "                                                                 \n",
      " conv2d_3 (Conv2D)           (None, 26, 26, 32)        4128      \n",
      "                                                                 \n",
      " max_pooling2d_2 (MaxPoolin  (None, 3, 3, 32)          0         \n",
      " g2D)                                                            \n",
      "                                                                 \n",
      " flatten_2 (Flatten)         (None, 288)               0         \n",
      "                                                                 \n",
      " dense_3 (Dense)             (None, 10)                2890      \n",
      "                                                                 \n",
      "=================================================================\n",
      "Total params: 7178 (28.04 KB)\n",
      "Trainable params: 7178 (28.04 KB)\n",
      "Non-trainable params: 0 (0.00 Byte)\n",
      "_________________________________________________________________\n"
     ]
    }
   ],
   "source": [
    "# one possible answer that acheives ~98% test accuracy\n",
    "# and has 7,178 trainable parameters\n",
    "model_cnn = keras.Sequential(\n",
    "    [\n",
    "        keras.Input(shape=input_shape),\n",
    "        layers.Conv2D(32,2, activation = 'relu'),\n",
    "        layers.Conv2D(32,2, activation = 'relu'),\n",
    "        layers.MaxPooling2D(8),\n",
    "        layers.Flatten(),\n",
    "        layers.Dense(num_classes, activation=\"softmax\"),\n",
    "    ]\n",
    ")\n",
    "\n",
    "model_cnn.summary()"
   ]
  },
  {
   "cell_type": "code",
   "execution_count": 6,
   "metadata": {
    "id": "hg_0a0DVyYSR"
   },
   "outputs": [
    {
     "name": "stdout",
     "output_type": "stream",
     "text": [
      "Epoch 1/15\n",
      "422/422 [==============================] - 35s 80ms/step - loss: 0.7736 - accuracy: 0.7643 - val_loss: 0.2362 - val_accuracy: 0.9302\n",
      "Epoch 2/15\n",
      "422/422 [==============================] - 34s 81ms/step - loss: 0.2299 - accuracy: 0.9274 - val_loss: 0.1583 - val_accuracy: 0.9517\n",
      "Epoch 3/15\n",
      "422/422 [==============================] - 34s 81ms/step - loss: 0.1786 - accuracy: 0.9426 - val_loss: 0.1308 - val_accuracy: 0.9592\n",
      "Epoch 4/15\n",
      "422/422 [==============================] - 34s 81ms/step - loss: 0.1501 - accuracy: 0.9520 - val_loss: 0.1154 - val_accuracy: 0.9643\n",
      "Epoch 5/15\n",
      "422/422 [==============================] - 34s 80ms/step - loss: 0.1317 - accuracy: 0.9584 - val_loss: 0.1009 - val_accuracy: 0.9680\n",
      "Epoch 6/15\n",
      "422/422 [==============================] - 38s 89ms/step - loss: 0.1187 - accuracy: 0.9634 - val_loss: 0.0916 - val_accuracy: 0.9688\n",
      "Epoch 7/15\n",
      "422/422 [==============================] - 35s 83ms/step - loss: 0.1077 - accuracy: 0.9666 - val_loss: 0.0868 - val_accuracy: 0.9737\n",
      "Epoch 8/15\n",
      "422/422 [==============================] - 35s 82ms/step - loss: 0.0995 - accuracy: 0.9688 - val_loss: 0.0824 - val_accuracy: 0.9743\n",
      "Epoch 9/15\n",
      "422/422 [==============================] - 35s 83ms/step - loss: 0.0948 - accuracy: 0.9706 - val_loss: 0.0753 - val_accuracy: 0.9768\n",
      "Epoch 10/15\n",
      "422/422 [==============================] - 36s 85ms/step - loss: 0.0892 - accuracy: 0.9723 - val_loss: 0.0730 - val_accuracy: 0.9780\n",
      "Epoch 11/15\n",
      "422/422 [==============================] - 35s 83ms/step - loss: 0.0847 - accuracy: 0.9736 - val_loss: 0.0716 - val_accuracy: 0.9798\n",
      "Epoch 12/15\n",
      "422/422 [==============================] - 35s 83ms/step - loss: 0.0810 - accuracy: 0.9746 - val_loss: 0.0682 - val_accuracy: 0.9778\n",
      "Epoch 13/15\n",
      "422/422 [==============================] - 36s 84ms/step - loss: 0.0783 - accuracy: 0.9753 - val_loss: 0.0650 - val_accuracy: 0.9792\n",
      "Epoch 14/15\n",
      "422/422 [==============================] - 36s 84ms/step - loss: 0.0756 - accuracy: 0.9762 - val_loss: 0.0647 - val_accuracy: 0.9790\n",
      "Epoch 15/15\n",
      "422/422 [==============================] - 36s 85ms/step - loss: 0.0732 - accuracy: 0.9768 - val_loss: 0.0662 - val_accuracy: 0.9782\n"
     ]
    },
    {
     "data": {
      "text/plain": [
       "<keras.src.callbacks.History at 0x7f98ea502bb0>"
      ]
     },
     "execution_count": 6,
     "metadata": {},
     "output_type": "execute_result"
    }
   ],
   "source": [
    "# DO NOT MODIFY CELL\n",
    "batch_size = 128\n",
    "epochs = 15\n",
    "model_cnn.compile(loss = 'categorical_crossentropy',\n",
    "                  optimizer = 'adam',\n",
    "                  metrics = ['accuracy'])\n",
    "model_cnn.fit(x_train, y_train, batch_size=batch_size, epochs=epochs, validation_split=0.1, verbose=1)"
   ]
  },
  {
   "cell_type": "code",
   "execution_count": 7,
   "metadata": {
    "id": "Tbq5a6wfy_Ix"
   },
   "outputs": [
    {
     "name": "stdout",
     "output_type": "stream",
     "text": [
      "Test loss: 0.0721391960978508\n",
      "Test accuracy: 0.9782000184059143\n"
     ]
    }
   ],
   "source": [
    "# DO NOT MODIFY CELL\n",
    "score = model_cnn.evaluate(x_test, y_test, verbose=0)\n",
    "print('Test loss:', score[0])\n",
    "print('Test accuracy:', score[1])"
   ]
  },
  {
   "cell_type": "markdown",
   "metadata": {
    "id": "xdCoPk6A8wXJ"
   },
   "source": [
    "**Did the CNN do better than the MLP? Why or why not?**"
   ]
  },
  {
   "cell_type": "markdown",
   "metadata": {
    "id": "I9ENK5oR05jB"
   },
   "source": [
    "Yes the CNN did perform better than the MLP.  This is due to CNN having better parameter effciency than the MLP network.  CNNs are generally more parameter efficient when involving grid-like data."
   ]
  },
  {
   "cell_type": "markdown",
   "metadata": {
    "id": "MFZBXr4B1iBR"
   },
   "source": [
    "### Q5: Transfer learning\n",
    "\n",
    "We are going to classify beans using transfer learning (read more about the dataset [here](https://www.tensorflow.org/datasets/catalog/beans). In the code below, use the `ResNet50` model available in Keras to classify the beans dataset (3 classes). **Do not fine tune `ResNet50`**. What is the performance?"
   ]
  },
  {
   "cell_type": "code",
   "execution_count": 10,
   "metadata": {
    "id": "dFmR2-Uv5_Ct"
   },
   "outputs": [
    {
     "name": "stderr",
     "output_type": "stream",
     "text": [
      "2024-05-13 17:21:02.191633: W external/local_tsl/tsl/platform/cloud/google_auth_provider.cc:184] All attempts to get a Google authentication bearer token failed, returning an empty token. Retrieving token from files failed with \"NOT_FOUND: Could not locate the credentials file.\". Retrieving token from GCE failed with \"FAILED_PRECONDITION: Error executing an HTTP request: libcurl code 6 meaning 'Couldn't resolve host name', error details: Could not resolve host: metadata.google.internal\".\n"
     ]
    },
    {
     "name": "stdout",
     "output_type": "stream",
     "text": [
      "\u001b[1mDownloading and preparing dataset Unknown size (download: Unknown size, generated: 171.63 MiB, total: 171.63 MiB) to /Users/zanealderfer/tensorflow_datasets/beans/0.1.0...\u001b[0m\n"
     ]
    },
    {
     "data": {
      "application/vnd.jupyter.widget-view+json": {
       "model_id": "3f388071313f4ede84b274413e51d186",
       "version_major": 2,
       "version_minor": 0
      },
      "text/plain": [
       "Dl Completed...: 0 url [00:00, ? url/s]"
      ]
     },
     "metadata": {},
     "output_type": "display_data"
    },
    {
     "data": {
      "application/vnd.jupyter.widget-view+json": {
       "model_id": "df9374ea277848cbb73cac4395598ef1",
       "version_major": 2,
       "version_minor": 0
      },
      "text/plain": [
       "Dl Size...: 0 MiB [00:00, ? MiB/s]"
      ]
     },
     "metadata": {},
     "output_type": "display_data"
    },
    {
     "data": {
      "application/vnd.jupyter.widget-view+json": {
       "model_id": "",
       "version_major": 2,
       "version_minor": 0
      },
      "text/plain": [
       "Generating splits...:   0%|          | 0/3 [00:00<?, ? splits/s]"
      ]
     },
     "metadata": {},
     "output_type": "display_data"
    },
    {
     "data": {
      "application/vnd.jupyter.widget-view+json": {
       "model_id": "",
       "version_major": 2,
       "version_minor": 0
      },
      "text/plain": [
       "Generating train examples...:   0%|          | 0/1034 [00:00<?, ? examples/s]"
      ]
     },
     "metadata": {},
     "output_type": "display_data"
    },
    {
     "data": {
      "application/vnd.jupyter.widget-view+json": {
       "model_id": "",
       "version_major": 2,
       "version_minor": 0
      },
      "text/plain": [
       "Shuffling /Users/zanealderfer/tensorflow_datasets/beans/0.1.0.incompleteTO5QY5/beans-train.tfrecord*...:   0%|…"
      ]
     },
     "metadata": {},
     "output_type": "display_data"
    },
    {
     "data": {
      "application/vnd.jupyter.widget-view+json": {
       "model_id": "",
       "version_major": 2,
       "version_minor": 0
      },
      "text/plain": [
       "Generating validation examples...:   0%|          | 0/133 [00:00<?, ? examples/s]"
      ]
     },
     "metadata": {},
     "output_type": "display_data"
    },
    {
     "data": {
      "application/vnd.jupyter.widget-view+json": {
       "model_id": "",
       "version_major": 2,
       "version_minor": 0
      },
      "text/plain": [
       "Shuffling /Users/zanealderfer/tensorflow_datasets/beans/0.1.0.incompleteTO5QY5/beans-validation.tfrecord*...: …"
      ]
     },
     "metadata": {},
     "output_type": "display_data"
    },
    {
     "data": {
      "application/vnd.jupyter.widget-view+json": {
       "model_id": "",
       "version_major": 2,
       "version_minor": 0
      },
      "text/plain": [
       "Generating test examples...:   0%|          | 0/128 [00:00<?, ? examples/s]"
      ]
     },
     "metadata": {},
     "output_type": "display_data"
    },
    {
     "data": {
      "application/vnd.jupyter.widget-view+json": {
       "model_id": "",
       "version_major": 2,
       "version_minor": 0
      },
      "text/plain": [
       "Shuffling /Users/zanealderfer/tensorflow_datasets/beans/0.1.0.incompleteTO5QY5/beans-test.tfrecord*...:   0%| …"
      ]
     },
     "metadata": {},
     "output_type": "display_data"
    },
    {
     "name": "stdout",
     "output_type": "stream",
     "text": [
      "\u001b[1mDataset beans downloaded and prepared to /Users/zanealderfer/tensorflow_datasets/beans/0.1.0. Subsequent calls will reuse this data.\u001b[0m\n"
     ]
    }
   ],
   "source": [
    "# DO NOT MODIFY CELL\n",
    "import tensorflow_datasets as tfds\n",
    "import tensorflow as tf\n",
    "from tensorflow.keras.utils import to_categorical\n",
    "\n",
    "# loading images and labels\n",
    "(train_ds, train_labels), (test_ds, test_labels) = tfds.load(\n",
    "    'beans',\n",
    "    split = ['train[:70%]', 'train[:30%]'], # train/test split\n",
    "    batch_size = -1,\n",
    "    as_supervised = True  # include labels\n",
    ")\n",
    "\n",
    "# resizing images\n",
    "train_ds = tf.image.resize(train_ds, (200, 200))\n",
    "test_ds = tf.image.resize(test_ds, (200, 200))\n",
    "\n",
    "# transforming labels to correct format\n",
    "train_labels = to_categorical(train_labels, num_classes=3)\n",
    "test_labels = to_categorical(test_labels, num_classes=3)"
   ]
  },
  {
   "cell_type": "code",
   "execution_count": 15,
   "metadata": {
    "id": "iHFh3uyU5X99"
   },
   "outputs": [],
   "source": [
    "# IMPORT THE APPROPRIATE MODEL HERE\n",
    "from tensorflow.keras.applications import ResNet50\n",
    "from tensorflow.keras.applications.resnet50 import preprocess_input\n",
    "\n",
    "## loading ResNet50 model\n",
    "base_model = ResNet50(weights=\"imagenet\", include_top=False, input_shape=(200, 200, 3))\n",
    "base_model.trainable = False\n",
    "\n",
    "## preprocessing input\n",
    "train_ds = preprocess_input(train_ds)\n",
    "test_ds = preprocess_input(test_ds)\n",
    "\n",
    "from tensorflow.keras import layers, models\n",
    "\n",
    "flatten_layer = layers.Flatten()\n",
    "prediction_layer = layers.Dense(3, activation = 'softmax')\n",
    "\n",
    "model = models.Sequential([\n",
    "    base_model,\n",
    "    flatten_layer,\n",
    "    layers.Dropout(0.2),\n",
    "    prediction_layer\n",
    "])"
   ]
  },
  {
   "cell_type": "code",
   "execution_count": 16,
   "metadata": {
    "id": "exmwjiyT5wa4"
   },
   "outputs": [],
   "source": [
    "# DO NOT MODIFY CELL\n",
    "from tensorflow.keras.callbacks import EarlyStopping\n",
    "from tensorflow import keras\n",
    "\n",
    "model.compile(\n",
    "    optimizer = keras.optimizers.Adam(),\n",
    "    loss = 'categorical_crossentropy',\n",
    "    metrics = ['accuracy'],\n",
    ")"
   ]
  },
  {
   "cell_type": "code",
   "execution_count": 17,
   "metadata": {
    "id": "fRBrMvl65zQ3"
   },
   "outputs": [
    {
     "name": "stdout",
     "output_type": "stream",
     "text": [
      "Epoch 1/5\n",
      "10/10 [==============================] - 82s 8s/step - loss: 5.5374 - accuracy: 0.5976 - val_loss: 5.7108 - val_accuracy: 0.7103\n",
      "Epoch 2/5\n",
      "10/10 [==============================] - 71s 7s/step - loss: 1.4625 - accuracy: 0.8584 - val_loss: 5.1462 - val_accuracy: 0.7172\n",
      "Epoch 3/5\n",
      "10/10 [==============================] - 70s 7s/step - loss: 0.3383 - accuracy: 0.9568 - val_loss: 3.0000 - val_accuracy: 0.7862\n",
      "Epoch 4/5\n",
      "10/10 [==============================] - 73s 7s/step - loss: 0.1774 - accuracy: 0.9793 - val_loss: 2.9811 - val_accuracy: 0.7793\n",
      "Epoch 5/5\n",
      "10/10 [==============================] - 71s 7s/step - loss: 0.0010 - accuracy: 1.0000 - val_loss: 3.4850 - val_accuracy: 0.7862\n"
     ]
    },
    {
     "data": {
      "text/plain": [
       "<keras.src.callbacks.History at 0x7f98632e6460>"
      ]
     },
     "execution_count": 17,
     "metadata": {},
     "output_type": "execute_result"
    }
   ],
   "source": [
    "# DO NOT MODIFY CELL\n",
    "model.fit(train_ds, train_labels, epochs = 5, validation_split = 0.2, batch_size = 64)"
   ]
  },
  {
   "cell_type": "code",
   "execution_count": 18,
   "metadata": {
    "id": "_WFHScEp53b3"
   },
   "outputs": [
    {
     "name": "stdout",
     "output_type": "stream",
     "text": [
      "Test loss: 0.008390230126678944\n",
      "Test accuracy: 0.9967741966247559\n"
     ]
    }
   ],
   "source": [
    "# DO NOT MODIFY CELL\n",
    "score = model.evaluate(test_ds, test_labels, verbose = 0)\n",
    "print('Test loss:', score[0])\n",
    "print('Test accuracy:', score[1])"
   ]
  },
  {
   "cell_type": "markdown",
   "metadata": {
    "id": "uB9ltzce7mjE"
   },
   "source": [
    "### Q6: Autoencoder\n",
    "\n",
    "Modify the convolutional autoencoder for MNIST we saw in class so that the embedding has the following structure:\n",
    "- Conv2D: 8 filters, Kernel (3, 3)\n",
    "- MaxPooling: Size (2, 2)\n",
    "- Conv2D: 3 filters, Kernel (3, 3)\n",
    "- MaxPooling: Size (2, 2)\n",
    "- Conv2D: 1 filters, Kernel (3, 3)\n",
    "\n",
    "After making this change, you need to change the input size of the decoder function so that it can accept the output of the encoder. What is the performance of your model?"
   ]
  },
  {
   "cell_type": "code",
   "execution_count": 30,
   "metadata": {
    "id": "I-kgpVhF7e_U"
   },
   "outputs": [],
   "source": [
    "# DO NOT MODIFY THIS CELL\n",
    "from keras.datasets import mnist\n",
    "from keras.models import Sequential, Model\n",
    "from keras.layers import Dense\n",
    "import numpy as np\n",
    "import h5py\n",
    "from pathlib import Path\n",
    "import matplotlib.pyplot as plt\n",
    "\n",
    "from keras import backend as keras_backend\n",
    "keras_backend.set_image_data_format('channels_last')\n",
    "from keras.models import Sequential, Model\n",
    "from keras.layers import Conv2D, Dense, Input, MaxPooling2D, UpSampling2D\n",
    "import np_utils\n",
    "from keras.utils import to_categorical\n",
    "from keras.datasets import mnist\n",
    "import matplotlib.pyplot as plt\n",
    "import numpy as np\n",
    "import h5py\n",
    "\n",
    "# data now has a different shape\n",
    "random_seed = 42\n",
    "np.random.seed(random_seed)\n",
    "\n",
    "# load the MNIST data\n",
    "(X_train, y_train), (X_test, y_test) = mnist.load_data()\n",
    "image_height = X_train.shape[1]\n",
    "image_width = X_train.shape[2]\n",
    "number_of_pixels = image_height * image_width\n",
    "\n",
    "# cast the sample data to the current Keras floating-point type\n",
    "X_train = keras_backend.cast_to_floatx(X_train)\n",
    "X_test = keras_backend.cast_to_floatx(X_test)\n",
    "\n",
    "# reshape to 2D grid, one line per image\n",
    "X_train = X_train.reshape(X_train.shape[0], number_of_pixels)\n",
    "X_test = X_test.reshape(X_test.shape[0], number_of_pixels)\n",
    "\n",
    "# scale data to range [0, 1]\n",
    "X_train /= 255.0\n",
    "X_test /= 255.0\n",
    "\n",
    "# reshape sample data to 4D tensor using channels_last convention\n",
    "X_train = X_train.reshape(X_train.shape[0], image_height, image_width, 1)\n",
    "X_test = X_test.reshape(X_test.shape[0], image_height, image_width, 1)\n",
    "\n",
    "# replace label data with one-hot encoded versions\n",
    "number_of_classes = 1 + max(np.append(y_train, y_test))\n",
    "y_train = to_categorical(y_train, number_of_classes)\n",
    "y_test = to_categorical(y_test, number_of_classes)"
   ]
  },
  {
   "cell_type": "code",
   "execution_count": 31,
   "metadata": {
    "id": "UVDXyiwM_Ry7"
   },
   "outputs": [],
   "source": [
    "# MODIFY THE ENCODER BELOW ACCORDING TO THE QUESTION REQUIREMENTS\n",
    "CAE_encoder_conv_1 = Conv2D(8, (3, 3), activation = 'relu', padding = 'same')\n",
    "CAE_encoder_pool_1 = MaxPooling2D((2,2), padding = 'same')\n",
    "CAE_encoder_conv_2 = Conv2D(3, (3, 3), activation = 'relu', padding = 'same')\n",
    "CAE_encoder_pool_2 = MaxPooling2D((2,2), padding = 'same')\n",
    "CAE_encoder_output = Conv2D(1, (3, 3), activation = 'relu', padding = 'same')\n"
   ]
  },
  {
   "cell_type": "code",
   "execution_count": 33,
   "metadata": {
    "id": "Mbg8fctb8GX9"
   },
   "outputs": [],
   "source": [
    "# DO NOT MODIFY THIS CELL\n",
    "CAE_encoder_input = Input(shape=(28, 28, 1))\n",
    "CAE_decoder_up_1 = UpSampling2D((2,2))\n",
    "CAE_decoder_conv_1 = Conv2D(8, (3, 3), activation = 'relu', padding = 'same')\n",
    "CAE_decoder_up_2 = UpSampling2D((2,2))\n",
    "CAE_decoder_output = Conv2D(1, (3, 3), activation = 'sigmoid', padding = 'same')\n",
    "\n",
    "CAE_encoder_step_1 = CAE_encoder_conv_1(CAE_encoder_input)\n",
    "CAE_encoder_step_2 = CAE_encoder_pool_1(CAE_encoder_step_1)\n",
    "CAE_encoder_step_3 = CAE_encoder_conv_2(CAE_encoder_step_2)\n",
    "CAE_encoder_step_4 = CAE_encoder_pool_2(CAE_encoder_step_3)\n",
    "CAE_encoder_step_5 = CAE_encoder_output(CAE_encoder_step_4)\n",
    "\n",
    "CAE_decoder_step_1 = CAE_decoder_up_1(CAE_encoder_step_5)\n",
    "CAE_decoder_step_2 = CAE_decoder_conv_1(CAE_decoder_step_1)\n",
    "CAE_decoder_step_3 = CAE_decoder_up_2(CAE_decoder_step_2)\n",
    "CAE_decoder_step_4 = CAE_decoder_output(CAE_decoder_step_3)\n",
    "\n",
    "\n",
    "Conv_AE = Model(CAE_encoder_input, CAE_decoder_step_4)\n",
    "Conv_AE.compile(optimizer = 'adam', loss = 'binary_crossentropy')\n",
    "\n",
    "\n",
    "Conv_AE_encoder_only_model = Model(CAE_encoder_input, CAE_encoder_step_5)"
   ]
  },
  {
   "cell_type": "code",
   "execution_count": 34,
   "metadata": {
    "id": "eCmKgIpx9LV-"
   },
   "outputs": [],
   "source": [
    "# MODIFY THE INPUT FOR THE DECODER BELOW ACCORDING TO THE OUTPUT EXPECTED FROM THE ENCODER\n",
    "Conv_AE_decoder_only_input = Input(shape=(28, 28, 1))"
   ]
  },
  {
   "cell_type": "code",
   "execution_count": 35,
   "metadata": {
    "id": "i7unPXGF_cbi"
   },
   "outputs": [],
   "source": [
    "# DO NOT MODIFY THIS CELL\n",
    "Conv_AE_decoder_only_step_1 = CAE_decoder_up_1(Conv_AE_decoder_only_input)\n",
    "Conv_AE_decoder_only_step_2 = CAE_decoder_conv_1(Conv_AE_decoder_only_step_1)\n",
    "Conv_AE_decoder_only_step_3 = CAE_decoder_up_2(Conv_AE_decoder_only_step_2)\n",
    "Conv_AE_decoder_only_step_4 = CAE_decoder_output(Conv_AE_decoder_only_step_3)\n",
    "\n",
    "Conv_AE_decoder_only_model = Model(Conv_AE_decoder_only_input, Conv_AE_decoder_only_step_4)"
   ]
  },
  {
   "cell_type": "code",
   "execution_count": 36,
   "metadata": {
    "id": "Zp60H-tq_cuG"
   },
   "outputs": [
    {
     "name": "stdout",
     "output_type": "stream",
     "text": [
      "Epoch 1/50\n",
      "469/469 - 69s - loss: 0.2592 - val_loss: 0.1600 - 69s/epoch - 147ms/step\n",
      "Epoch 2/50\n",
      "469/469 - 46s - loss: 0.1468 - val_loss: 0.1362 - 46s/epoch - 99ms/step\n",
      "Epoch 3/50\n",
      "469/469 - 36s - loss: 0.1328 - val_loss: 0.1280 - 36s/epoch - 77ms/step\n",
      "Epoch 4/50\n",
      "469/469 - 37s - loss: 0.1263 - val_loss: 0.1227 - 37s/epoch - 79ms/step\n",
      "Epoch 5/50\n",
      "469/469 - 37s - loss: 0.1224 - val_loss: 0.1198 - 37s/epoch - 79ms/step\n",
      "Epoch 6/50\n",
      "469/469 - 36s - loss: 0.1194 - val_loss: 0.1168 - 36s/epoch - 76ms/step\n",
      "Epoch 7/50\n",
      "469/469 - 40s - loss: 0.1168 - val_loss: 0.1143 - 40s/epoch - 85ms/step\n",
      "Epoch 8/50\n",
      "469/469 - 36s - loss: 0.1145 - val_loss: 0.1122 - 36s/epoch - 76ms/step\n",
      "Epoch 9/50\n",
      "469/469 - 37s - loss: 0.1128 - val_loss: 0.1107 - 37s/epoch - 79ms/step\n",
      "Epoch 10/50\n",
      "469/469 - 39s - loss: 0.1114 - val_loss: 0.1095 - 39s/epoch - 84ms/step\n",
      "Epoch 11/50\n",
      "469/469 - 35s - loss: 0.1103 - val_loss: 0.1087 - 35s/epoch - 75ms/step\n",
      "Epoch 12/50\n",
      "469/469 - 35s - loss: 0.1094 - val_loss: 0.1078 - 35s/epoch - 75ms/step\n",
      "Epoch 13/50\n",
      "469/469 - 38s - loss: 0.1087 - val_loss: 0.1072 - 38s/epoch - 81ms/step\n",
      "Epoch 14/50\n",
      "469/469 - 44s - loss: 0.1081 - val_loss: 0.1066 - 44s/epoch - 93ms/step\n",
      "Epoch 15/50\n",
      "469/469 - 44s - loss: 0.1076 - val_loss: 0.1063 - 44s/epoch - 93ms/step\n",
      "Epoch 16/50\n",
      "469/469 - 44s - loss: 0.1073 - val_loss: 0.1058 - 44s/epoch - 94ms/step\n",
      "Epoch 17/50\n",
      "469/469 - 47s - loss: 0.1070 - val_loss: 0.1057 - 47s/epoch - 100ms/step\n",
      "Epoch 18/50\n",
      "469/469 - 48s - loss: 0.1067 - val_loss: 0.1054 - 48s/epoch - 102ms/step\n",
      "Epoch 19/50\n",
      "469/469 - 52s - loss: 0.1065 - val_loss: 0.1053 - 52s/epoch - 111ms/step\n",
      "Epoch 20/50\n",
      "469/469 - 48s - loss: 0.1063 - val_loss: 0.1051 - 48s/epoch - 103ms/step\n",
      "Epoch 21/50\n",
      "469/469 - 46s - loss: 0.1062 - val_loss: 0.1048 - 46s/epoch - 99ms/step\n",
      "Epoch 22/50\n",
      "469/469 - 59s - loss: 0.1060 - val_loss: 0.1047 - 59s/epoch - 126ms/step\n",
      "Epoch 23/50\n",
      "469/469 - 78s - loss: 0.1059 - val_loss: 0.1046 - 78s/epoch - 165ms/step\n",
      "Epoch 24/50\n",
      "469/469 - 70s - loss: 0.1058 - val_loss: 0.1046 - 70s/epoch - 149ms/step\n",
      "Epoch 25/50\n",
      "469/469 - 98s - loss: 0.1058 - val_loss: 0.1045 - 98s/epoch - 208ms/step\n",
      "Epoch 26/50\n",
      "469/469 - 85s - loss: 0.1056 - val_loss: 0.1044 - 85s/epoch - 182ms/step\n",
      "Epoch 27/50\n",
      "469/469 - 75s - loss: 0.1056 - val_loss: 0.1045 - 75s/epoch - 159ms/step\n",
      "Epoch 28/50\n",
      "469/469 - 75s - loss: 0.1055 - val_loss: 0.1043 - 75s/epoch - 159ms/step\n",
      "Epoch 29/50\n",
      "469/469 - 68s - loss: 0.1054 - val_loss: 0.1042 - 68s/epoch - 145ms/step\n",
      "Epoch 30/50\n",
      "469/469 - 68s - loss: 0.1054 - val_loss: 0.1041 - 68s/epoch - 145ms/step\n",
      "Epoch 31/50\n",
      "469/469 - 65s - loss: 0.1053 - val_loss: 0.1040 - 65s/epoch - 139ms/step\n",
      "Epoch 32/50\n",
      "469/469 - 51s - loss: 0.1052 - val_loss: 0.1040 - 51s/epoch - 108ms/step\n",
      "Epoch 33/50\n",
      "469/469 - 42s - loss: 0.1052 - val_loss: 0.1041 - 42s/epoch - 89ms/step\n",
      "Epoch 34/50\n",
      "469/469 - 38s - loss: 0.1051 - val_loss: 0.1039 - 38s/epoch - 82ms/step\n",
      "Epoch 35/50\n",
      "469/469 - 37s - loss: 0.1051 - val_loss: 0.1040 - 37s/epoch - 78ms/step\n",
      "Epoch 36/50\n",
      "469/469 - 41s - loss: 0.1050 - val_loss: 0.1038 - 41s/epoch - 87ms/step\n",
      "Epoch 37/50\n",
      "469/469 - 37s - loss: 0.1050 - val_loss: 0.1038 - 37s/epoch - 78ms/step\n",
      "Epoch 38/50\n",
      "469/469 - 36s - loss: 0.1050 - val_loss: 0.1037 - 36s/epoch - 76ms/step\n",
      "Epoch 39/50\n",
      "469/469 - 36s - loss: 0.1049 - val_loss: 0.1037 - 36s/epoch - 77ms/step\n",
      "Epoch 40/50\n",
      "469/469 - 40s - loss: 0.1049 - val_loss: 0.1036 - 40s/epoch - 86ms/step\n",
      "Epoch 41/50\n",
      "469/469 - 38s - loss: 0.1048 - val_loss: 0.1042 - 38s/epoch - 82ms/step\n",
      "Epoch 42/50\n",
      "469/469 - 41s - loss: 0.1048 - val_loss: 0.1035 - 41s/epoch - 88ms/step\n",
      "Epoch 43/50\n",
      "469/469 - 46s - loss: 0.1047 - val_loss: 0.1036 - 46s/epoch - 98ms/step\n",
      "Epoch 44/50\n",
      "469/469 - 37s - loss: 0.1048 - val_loss: 0.1035 - 37s/epoch - 79ms/step\n",
      "Epoch 45/50\n",
      "469/469 - 37s - loss: 0.1047 - val_loss: 0.1035 - 37s/epoch - 79ms/step\n",
      "Epoch 46/50\n",
      "469/469 - 36s - loss: 0.1047 - val_loss: 0.1035 - 36s/epoch - 77ms/step\n",
      "Epoch 47/50\n",
      "469/469 - 35s - loss: 0.1047 - val_loss: 0.1034 - 35s/epoch - 75ms/step\n",
      "Epoch 48/50\n",
      "469/469 - 37s - loss: 0.1046 - val_loss: 0.1035 - 37s/epoch - 79ms/step\n",
      "Epoch 49/50\n",
      "469/469 - 37s - loss: 0.1047 - val_loss: 0.1037 - 37s/epoch - 78ms/step\n",
      "Epoch 50/50\n",
      "469/469 - 36s - loss: 0.1046 - val_loss: 0.1038 - 36s/epoch - 77ms/step\n"
     ]
    },
    {
     "data": {
      "text/plain": [
       "<keras.src.callbacks.History at 0x7f98f14ce250>"
      ]
     },
     "execution_count": 36,
     "metadata": {},
     "output_type": "execute_result"
    }
   ],
   "source": [
    "# DO NOT MODIFY THIS CELL\n",
    "# FIT AND EVALUATE PERFORMANCE\n",
    "Conv_AE.fit(X_train, X_train,\n",
    "               epochs = 50, batch_size = 128, shuffle = True,\n",
    "               verbose = 2,\n",
    "               validation_data = (X_test, X_test))"
   ]
  },
  {
   "cell_type": "code",
   "execution_count": 37,
   "metadata": {
    "id": "6XnyzumB_fnY"
   },
   "outputs": [],
   "source": [
    "# DO NOT MODIFY THIS CELL\n",
    "def draw_predictions_set(predictions, filename = None):\n",
    "    plt.figure(figsize=(8, 4))\n",
    "    for i in range(5):\n",
    "        plt.subplot(2, 5, i+1)\n",
    "        plt.imshow(X_test[i].reshape(28, 28), vmin = 0, vmax = 1, cmap = 'gray')\n",
    "        ax = plt.gca()\n",
    "        ax.get_xaxis().set_visible(False)\n",
    "        ax.get_yaxis().set_visible(False)\n",
    "        plt.subplot(2, 5, i + 6)\n",
    "        plt.imshow(predictions[i].reshape(28, 28), vmin = 0, vmax = 1, cmap = 'gray')\n",
    "        ax = plt.gca()\n",
    "        ax.get_xaxis().set_visible(False)\n",
    "        ax.get_yaxis().set_visible(False)\n",
    "    plt.tight_layout()\n",
    "    plt.show()"
   ]
  },
  {
   "cell_type": "code",
   "execution_count": 38,
   "metadata": {
    "id": "LrxzJAIA_jHW"
   },
   "outputs": [
    {
     "name": "stdout",
     "output_type": "stream",
     "text": [
      "313/313 [==============================] - 4s 9ms/step\n"
     ]
    },
    {
     "data": {
      "image/png": "[encoded data removed]",
      "text/plain": [
       "<Figure size 576x288 with 10 Axes>"
      ]
     },
     "metadata": {
      "needs_background": "light"
     },
     "output_type": "display_data"
    }
   ],
   "source": [
    "# Test your new predictions\n",
    "Conv_predictions = Conv_AE.predict(X_test)\n",
    "draw_predictions_set(Conv_predictions, 'NB3-ConvAE-predictions')"
   ]
  }
 ],
 "metadata": {
  "accelerator": "GPU",
  "colab": {
   "provenance": []
  },
  "kernelspec": {
   "display_name": "Python 3 (ipykernel)",
   "language": "python",
   "name": "python3"
  },
  "language_info": {
   "codemirror_mode": {
    "name": "ipython",
    "version": 3
   },
   "file_extension": ".py",
   "mimetype": "text/x-python",
   "name": "python",
   "nbconvert_exporter": "python",
   "pygments_lexer": "ipython3",
   "version": "3.9.7"
  }
 },
 "nbformat": 4,
 "nbformat_minor": 1
}
